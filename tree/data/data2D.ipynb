{
 "cells": [
  {
   "cell_type": "code",
   "execution_count": 2,
   "metadata": {},
   "outputs": [],
   "source": [
    "import data_gen_2D as dg\n",
    "import numpy as np\n",
    "import matplotlib.pylab as plt\n",
    "import random\n",
    "import util\n",
    "\n",
    "random.seed(22)"
   ]
  },
  {
   "cell_type": "code",
   "execution_count": 3,
   "metadata": {},
   "outputs": [],
   "source": [
    "points, labels = dg.gen(n=8) # generates 8 clusters\n",
    "util.normalize(points)\n",
    "x_p = [ points[i][0] for i in range(len(points)) ]\n",
    "y_p = [ points[i][1] for i in range(len(points)) ]\n"
   ]
  },
  {
   "cell_type": "code",
   "execution_count": 4,
   "metadata": {},
   "outputs": [
    {
     "data": {
      "image/png": "[encoded data removed]",
      "text/plain": [
       "<Figure size 432x288 with 1 Axes>"
      ]
     },
     "metadata": {
      "needs_background": "light"
     },
     "output_type": "display_data"
    }
   ],
   "source": [
    "plt.plot(x_p,y_p,'o')\n",
    "plt.show()"
   ]
  },
  {
   "cell_type": "code",
   "execution_count": 23,
   "metadata": {},
   "outputs": [],
   "source": [
    "util.print_data(\"t2D.csv\",points)"
   ]
  },
  {
   "cell_type": "code",
   "execution_count": 61,
   "metadata": {},
   "outputs": [],
   "source": [
    "points, labels = dg.gen(n=2,n_gen=100) # generates 8 clusters\n",
    "util.normalize(points)"
   ]
  },
  {
   "cell_type": "code",
   "execution_count": 62,
   "metadata": {},
   "outputs": [
    {
     "data": {
      "text/plain": [
       "[<matplotlib.lines.Line2D at 0x7f9c7e6cb978>,\n",
       " <matplotlib.lines.Line2D at 0x7f9c7e6cb7f0>]"
      ]
     },
     "execution_count": 62,
     "metadata": {},
     "output_type": "execute_result"
    },
    {
     "data": {
      "image/png": "[encoded data removed]",
      "text/plain": [
       "<Figure size 432x288 with 1 Axes>"
      ]
     },
     "metadata": {
      "needs_background": "light"
     },
     "output_type": "display_data"
    }
   ],
   "source": [
    "\n",
    "x_p = [ points[i][0] for i in range(len(points)) ]\n",
    "y_p = [ points[i][1] for i in range(len(points)) ]\n",
    "\n",
    "c = [0,0]\n",
    "for p in points:\n",
    "    c[0] += p[0]\n",
    "    c[1] += p[1]\n",
    "c = [c[0]/len(points), c[1]/len(points)]\n",
    "\n",
    "plt.plot(x_p,y_p,'.', [c[0]],[c[1]],'ro',\n",
    "         markersize=14)"
   ]
  },
  {
   "cell_type": "code",
   "execution_count": 63,
   "metadata": {},
   "outputs": [
    {
     "data": {
      "image/png": "[encoded data removed]",
      "text/plain": [
       "<Figure size 432x288 with 1 Axes>"
      ]
     },
     "metadata": {
      "needs_background": "light"
     },
     "output_type": "display_data"
    }
   ],
   "source": [
    "x_line = [0.02 for i in range(100)]\n",
    "y_line = np.linspace(-0.1,1.1,100)\n",
    "\n",
    "p_l = []\n",
    "p_r = []\n",
    "for p in points:\n",
    "    if p[0] <= 0.02:\n",
    "        p_l.append(p)\n",
    "    else:\n",
    "        p_r.append(p)\n",
    "\n",
    "c1 = [0,0]\n",
    "c2 = [0,0]\n",
    "\n",
    "for p in p_l:\n",
    "    c1[0] += p[0]\n",
    "    c1[1] += p[1]\n",
    "c1 = [c1[0]/len(p_l),c1[1]/len(p_l)]\n",
    "\n",
    "for p in p_r:\n",
    "    c2[0] += p[0]\n",
    "    c2[1] += p[1]\n",
    "c2 = [c2[0]/len(p_r),c2[1]/len(p_r)]\n",
    "\n",
    "plt.plot(x_p,y_p,'.', x_line, y_line,[c1[0]],[c1[1]],'ro',\n",
    "         [c2[0]],[c2[1]],'go',\n",
    "         markersize=14)\n",
    "plt.show()"
   ]
  },
  {
   "cell_type": "code",
   "execution_count": 64,
   "metadata": {},
   "outputs": [
    {
     "data": {
      "image/png": "[encoded data removed]",
      "text/plain": [
       "<Figure size 432x288 with 1 Axes>"
      ]
     },
     "metadata": {
      "needs_background": "light"
     },
     "output_type": "display_data"
    }
   ],
   "source": [
    "x_p = [ points[i][0] for i in range(len(points)) ]\n",
    "y_p = [ points[i][1] for i in range(len(points)) ]\n",
    "\n",
    "x_line = [0.4 for i in range(100)]\n",
    "y_line = np.linspace(-0.1,1.1,100)\n",
    "\n",
    "p_l = []\n",
    "p_r = []\n",
    "for p in points:\n",
    "    if p[0] <= 0.4:\n",
    "        p_l.append(p)\n",
    "    else:\n",
    "        p_r.append(p)\n",
    "\n",
    "c1 = [0,0]\n",
    "c2 = [0,0]\n",
    "\n",
    "for p in p_l:\n",
    "    c1[0] += p[0]\n",
    "    c1[1] += p[1]\n",
    "c1 = [c1[0]/len(p_l),c1[1]/len(p_l)]\n",
    "\n",
    "for p in p_r:\n",
    "    c2[0] += p[0]\n",
    "    c2[1] += p[1]\n",
    "c2 = [c2[0]/len(p_r),c2[1]/len(p_r)]\n",
    "\n",
    "plt.plot(x_p,y_p,'.', x_line, y_line,[c1[0]],[c1[1]],'ro',\n",
    "         [c2[0]],[c2[1]],'go',\n",
    "         markersize=14)\n",
    "plt.show()"
   ]
  },
  {
   "cell_type": "code",
   "execution_count": null,
   "metadata": {},
   "outputs": [],
   "source": []
  }
 ],
 "metadata": {
  "kernelspec": {
   "display_name": "Python 3",
   "language": "python",
   "name": "python3"
  },
  "language_info": {
   "codemirror_mode": {
    "name": "ipython",
    "version": 3
   },
   "file_extension": ".py",
   "mimetype": "text/x-python",
   "name": "python",
   "nbconvert_exporter": "python",
   "pygments_lexer": "ipython3",
   "version": "3.6.7"
  }
 },
 "nbformat": 4,
 "nbformat_minor": 2
}
