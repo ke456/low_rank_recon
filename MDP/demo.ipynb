{
 "cells": [
  {
   "cell_type": "markdown",
   "metadata": {},
   "source": [
    "This is just a little demo of how the code works. First import the module Data"
   ]
  },
  {
   "cell_type": "code",
   "execution_count": 1,
   "metadata": {},
   "outputs": [],
   "source": [
    "import random\n",
    "from Data import *"
   ]
  },
  {
   "cell_type": "markdown",
   "metadata": {},
   "source": [
    "We get access to the Data class type, which can be used to load the data and provide many support function. We now create an instance of Data and load from a sample csv file. Finally, we normalize the value."
   ]
  },
  {
   "cell_type": "code",
   "execution_count": 2,
   "metadata": {},
   "outputs": [],
   "source": [
    "D = Data()\n",
    "D.loadfile(\"sample.csv\")\n",
    "D.normalize()"
   ]
  },
  {
   "cell_type": "markdown",
   "metadata": {},
   "source": [
    "For raw access:"
   ]
  },
  {
   "cell_type": "code",
   "execution_count": 3,
   "metadata": {},
   "outputs": [
    {
     "data": {
      "text/plain": [
       "[0.8710526315789473,\n",
       " 0.1857707509881423,\n",
       " 0.716577540106952,\n",
       " 0.7422680412371134,\n",
       " 0.30434782608695654,\n",
       " 0.6275862068965516,\n",
       " 0.20464135021097046,\n",
       " 0.7547169811320755,\n",
       " 0.7223974763406941,\n",
       " 1.0,\n",
       " 0.07317073170731705,\n",
       " 0.25274725274725274,\n",
       " 0.2724679029957204]"
      ]
     },
     "execution_count": 3,
     "metadata": {},
     "output_type": "execute_result"
    }
   ],
   "source": [
    "D.data[0][1]"
   ]
  },
  {
   "cell_type": "markdown",
   "metadata": {},
   "source": [
    "To get a copy of a point:"
   ]
  },
  {
   "cell_type": "code",
   "execution_count": 4,
   "metadata": {},
   "outputs": [
    {
     "data": {
      "text/plain": [
       "(4,\n",
       " [0.813157894736842,\n",
       "  0.14624505928853757,\n",
       "  0.5133689839572192,\n",
       "  0.31958762886597947,\n",
       "  0.2717391304347826,\n",
       "  0.42068965517241386,\n",
       "  0.44092827004219415,\n",
       "  0.24528301886792453,\n",
       "  0.36593059936908523,\n",
       "  0.31740614334470985,\n",
       "  0.5609756097560975,\n",
       "  0.5677655677655677,\n",
       "  0.7146932952924394])"
      ]
     },
     "execution_count": 4,
     "metadata": {},
     "output_type": "execute_result"
    }
   ],
   "source": [
    "t = D.get(4)\n",
    "t"
   ]
  },
  {
   "cell_type": "markdown",
   "metadata": {},
   "source": [
    "To denote unknown values, denote it as None. For a point p with missing values, we can update the unknown feature f by calling D.update(p, f):"
   ]
  },
  {
   "cell_type": "code",
   "execution_count": 5,
   "metadata": {},
   "outputs": [
    {
     "name": "stdout",
     "output_type": "stream",
     "text": [
      "before: (4, [0.813157894736842, None, 0.5133689839572192, 0.31958762886597947, 0.2717391304347826, None, 0.44092827004219415, 0.24528301886792453, 0.36593059936908523, 0.31740614334470985, None, 0.5677655677655677, 0.7146932952924394])\n",
      "\n",
      "after: (4, [0.813157894736842, None, 0.5133689839572192, 0.31958762886597947, 0.2717391304347826, None, 0.44092827004219415, 0.24528301886792453, 0.36593059936908523, 0.31740614334470985, 0.5609756097560975, 0.5677655677655677, 0.7146932952924394])\n"
     ]
    }
   ],
   "source": [
    "t[1][10] = None\n",
    "t[1][1] = None\n",
    "t[1][5] = None\n",
    "print(\"before:\",t)\n",
    "D.update(t,10)\n",
    "print()\n",
    "print(\"after:\",t)"
   ]
  },
  {
   "cell_type": "markdown",
   "metadata": {},
   "source": [
    "You can get the binary vector of which features are known by calling bool_feature(p):"
   ]
  },
  {
   "cell_type": "code",
   "execution_count": 6,
   "metadata": {},
   "outputs": [
    {
     "name": "stdout",
     "output_type": "stream",
     "text": [
      "bool features:  [1, 0, 1, 1, 1, 0, 1, 1, 1, 1, 1, 1, 1]\n",
      "project p with f:  11\n"
     ]
    }
   ],
   "source": [
    "f = bool_feature(t[1])\n",
    "print(\"bool features: \", f)\n",
    "print(\"project p with f: \", len(proj(t[1],f)))"
   ]
  },
  {
   "cell_type": "markdown",
   "metadata": {},
   "source": [
    "To partition the dataset into training and test sets, simply call D.split(r), r = ratio, which returns the test set and keeps D to be the training set"
   ]
  },
  {
   "cell_type": "code",
   "execution_count": 7,
   "metadata": {},
   "outputs": [
    {
     "name": "stdout",
     "output_type": "stream",
     "text": [
      "D length: 152\n",
      "test length: 26\n"
     ]
    }
   ],
   "source": [
    "D_test = D.split(0.85)\n",
    "\n",
    "print(\"D length:\", len(D.data))\n",
    "print(\"test length:\", len(D_test.data))"
   ]
  },
  {
   "cell_type": "markdown",
   "metadata": {},
   "source": [
    "Let's use k-means as our clustering algorithm. Calling D.cluster_K_means(k) will set the Data's clustering algorithm as k-means."
   ]
  },
  {
   "cell_type": "code",
   "execution_count": 8,
   "metadata": {},
   "outputs": [
    {
     "name": "stdout",
     "output_type": "stream",
     "text": [
      "[0.13157894736842105, 0.05921052631578947, 0.11842105263157894, 0.07236842105263158, 0.1118421052631579, 0.05263157894736842, 0.17105263157894737, 0.05921052631578947, 0.10526315789473684, 0.11842105263157894]\n"
     ]
    },
    {
     "data": {
      "text/plain": [
       "array([[0.64407895, 0.31996047, 0.55561497, 0.31469072, 0.3701087 ,\n",
       "        0.56362069, 0.49124473, 0.28113208, 0.37570978, 0.27470137,\n",
       "        0.43536585, 0.72802198, 0.51016405],\n",
       "       [0.41403509, 0.16930171, 0.38740345, 0.32875143, 0.2826087 ,\n",
       "        0.2908046 , 0.12658228, 0.70859539, 0.14230634, 0.27701934,\n",
       "        0.32935863, 0.16931217, 0.24766207],\n",
       "       [0.54824561, 0.61824769, 0.57130125, 0.55183276, 0.272343  ,\n",
       "        0.24042146, 0.06622128, 0.71593291, 0.18191377, 0.37964543,\n",
       "        0.22041554, 0.22995523, 0.23938025],\n",
       "       [0.26507177, 0.36471434, 0.4973262 , 0.48922212, 0.25494071,\n",
       "        0.66112853, 0.49904104, 0.31560892, 0.55377115, 0.13814769,\n",
       "        0.40133038, 0.6976357 , 0.17572299],\n",
       "       [0.26811146, 0.23785166, 0.57030513, 0.62765312, 0.17774936,\n",
       "        0.35030426, 0.31931   , 0.64483907, 0.34533309, 0.11097169,\n",
       "        0.49976088, 0.51971558, 0.1417303 ],\n",
       "       [0.54473684, 0.21986166, 0.76270053, 0.66108247, 0.58016304,\n",
       "        0.66465517, 0.56592827, 0.44811321, 0.49487382, 0.24413396,\n",
       "        0.56808943, 0.70283883, 0.38231098],\n",
       "       [0.77469636, 0.215263  , 0.56005759, 0.2850912 , 0.39046823,\n",
       "        0.70875332, 0.61798117, 0.27721335, 0.54404271, 0.43751641,\n",
       "        0.48530331, 0.67807833, 0.67442116],\n",
       "       [0.45146199, 0.3783487 , 0.5959596 , 0.57044674, 0.4794686 ,\n",
       "        0.18773946, 0.18002813, 0.18238994, 0.22853137, 0.43505878,\n",
       "        0.17163505, 0.09320309, 0.21421778],\n",
       "       [0.63157895, 0.50864625, 0.58957219, 0.56346649, 0.32744565,\n",
       "        0.26034483, 0.10047468, 0.60023585, 0.29791009, 0.70339163,\n",
       "        0.12754065, 0.13621795, 0.26823288],\n",
       "       [0.39619883, 0.1318621 , 0.34907903, 0.40292096, 0.28381643,\n",
       "        0.41149425, 0.3588842 , 0.32180294, 0.38906414, 0.16676147,\n",
       "        0.51851852, 0.56084656, 0.16115866]])"
      ]
     },
     "execution_count": 8,
     "metadata": {},
     "output_type": "execute_result"
    }
   ],
   "source": [
    "D.cluster_K_means(10)\n",
    "D.clustering.cluster_centers_"
   ]
  },
  {
   "cell_type": "code",
   "execution_count": 9,
   "metadata": {},
   "outputs": [
    {
     "name": "stdout",
     "output_type": "stream",
     "text": [
      "r: 11\n",
      "t: (11, [0.3526315789473683, 0.03952569169960474, 0.0, 0.0, 0.1956521739130435, 0.3448275862068966, 0.048523206751054836, 0.28301886792452835, 0.0031545741324921165, 0.057167235494880536, 0.46341463414634154, 0.20146520146520147, 0.17261055634807418])\n",
      "0.0\n",
      "projecting out dim: 0\n",
      "score: 0.1414213562373095\n",
      "projecting out dim: 1\n",
      "score: 0.282842712474619\n",
      "projecting out dim: 2\n",
      "score: 0.1414213562373095\n",
      "projecting out dim: 3\n",
      "score: 0.2\n",
      "projecting out dim: 4\n",
      "score: 0.2\n",
      "projecting out dim: 5\n",
      "score: 0.282842712474619\n",
      "projecting out dim: 6\n",
      "score: 0.282842712474619\n",
      "projecting out dim: 7\n",
      "score: 0.0\n",
      "projecting out dim: 8\n",
      "score: 0.4\n",
      "projecting out dim: 9\n",
      "score: 0.3741657386773941\n",
      "projecting out dim: 10\n",
      "score: 0.1414213562373095\n",
      "projecting out dim: 11\n",
      "score: 0.31622776601683794\n"
     ]
    }
   ],
   "source": [
    "r = random.randint(0,130)\n",
    "print(\"r:\",r)\n",
    "t = D.get(r)\n",
    "p = t[1]\n",
    "print(\"t:\", t)\n",
    "\n",
    "print(D.score(t))\n",
    "for i in range(12):\n",
    "    print(\"projecting out dim:\", i)\n",
    "    p[i] = None\n",
    "    print(\"score:\", D.score(t))\n",
    "    D.update(t,i)"
   ]
  },
  {
   "cell_type": "markdown",
   "metadata": {},
   "source": [
    "Now, we compute the reward of state/action (s1,a) -> s2 as score(s1) - score(s2). This reward is positive\n",
    "if score(s2) < score(s1); this is obviously desirable since higher score means \"worse\" state. "
   ]
  },
  {
   "cell_type": "code",
   "execution_count": 10,
   "metadata": {},
   "outputs": [
    {
     "name": "stdout",
     "output_type": "stream",
     "text": [
      "t: (11, [None, None, None, None, None, None, None, None, None, None, None, None, None])\n",
      "score: 0.9899494936611666\n",
      "\n",
      "REWARDS FOR A SINGLE ACTION\n",
      "reward of updating feature 0\n",
      "reward: 0.8216197758291208\n",
      "\n",
      "reward of updating feature 1\n",
      "reward: 0.4793564597920301\n",
      "\n",
      "reward of updating feature 2\n",
      "reward: 0.6709450733460164\n",
      "\n",
      "reward of updating feature 3\n",
      "reward: 0.10318310750094284\n",
      "\n",
      "reward of updating feature 4\n",
      "reward: 0.07425738329952947\n",
      "\n",
      "reward of updating feature 5\n",
      "reward: 0.627011454941907\n",
      "\n",
      "reward of updating feature 6\n",
      "reward: -0.1595802681649625\n",
      "\n",
      "reward of updating feature 7\n",
      "reward: -0.10332963783729099\n",
      "\n",
      "reward of updating feature 8\n",
      "reward: 0.02390701230032477\n",
      "\n",
      "reward of updating feature 9\n",
      "reward: -0.018732437001064417\n",
      "\n",
      "reward of updating feature 10\n",
      "reward: -0.2664585812095024\n",
      "\n",
      "reward of updating feature 11\n",
      "reward: 0.7144355040388409\n",
      "\n",
      "reward of updating feature 12\n",
      "reward: 0.7156709979306196\n",
      "\n"
     ]
    }
   ],
   "source": [
    "# set N random features None\n",
    "N = 13\n",
    "t = D.get(r)\n",
    "for i in range(N):\n",
    "    while True:\n",
    "        r = random.randint(0,12)\n",
    "        if t[1][r] != None:\n",
    "            break\n",
    "    t[1][r] = None\n",
    "print(\"t:\",t)\n",
    "print(\"score:\", D.score(t))\n",
    "\n",
    "print(\"\\nREWARDS FOR A SINGLE ACTION\")\n",
    "for i in range(len(t[1])):\n",
    "    if t[1][i] == None:\n",
    "        print(\"reward of updating feature\", i)\n",
    "        print(\"reward:\", D.reward(t,i))\n",
    "        print(\"\")"
   ]
  },
  {
   "cell_type": "markdown",
   "metadata": {},
   "source": [
    "If we want a list of actions to take, we can call D.actions(t), while D.next_state(state, action) will return the next state\n",
    "with the action applied."
   ]
  },
  {
   "cell_type": "code",
   "execution_count": 11,
   "metadata": {},
   "outputs": [
    {
     "name": "stdout",
     "output_type": "stream",
     "text": [
      "available actions: [0, 1, 2, 3, 4, 5, 6, 7, 8, 9, 10, 11, 12]\n",
      "next state with first available action applied: (11, [None, None, None, None, 0.1956521739130435, None, None, None, None, None, None, None, None])\n"
     ]
    }
   ],
   "source": [
    "print(\"available actions:\", D.actions(t))\n",
    "print(\"next state with first available action applied:\", D.next_state(t,D.actions(t)[4]))"
   ]
  },
  {
   "cell_type": "code",
   "execution_count": 12,
   "metadata": {},
   "outputs": [
    {
     "data": {
      "text/plain": [
       "[0, 0, 0, 0, 0, 0, 0, 0, 0, 0, 0, 0, 0]"
      ]
     },
     "execution_count": 12,
     "metadata": {},
     "output_type": "execute_result"
    }
   ],
   "source": [
    "D.costs"
   ]
  },
  {
   "cell_type": "code",
   "execution_count": null,
   "metadata": {},
   "outputs": [],
   "source": []
  }
 ],
 "metadata": {
  "kernelspec": {
   "display_name": "Python 3",
   "language": "python",
   "name": "python3"
  },
  "language_info": {
   "codemirror_mode": {
    "name": "ipython",
    "version": 3
   },
   "file_extension": ".py",
   "mimetype": "text/x-python",
   "name": "python",
   "nbconvert_exporter": "python",
   "pygments_lexer": "ipython3",
   "version": "3.7.6"
  }
 },
 "nbformat": 4,
 "nbformat_minor": 4
}
