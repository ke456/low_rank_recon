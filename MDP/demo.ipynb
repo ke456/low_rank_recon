{
 "cells": [
  {
   "cell_type": "markdown",
   "metadata": {},
   "source": [
    "This is just a little demo of how the code works. First import the module Data"
   ]
  },
  {
   "cell_type": "code",
   "execution_count": 1,
   "metadata": {},
   "outputs": [],
   "source": [
    "from Data import *"
   ]
  },
  {
   "cell_type": "markdown",
   "metadata": {},
   "source": [
    "We get access to the Data class type, which can be used to load the data and provide many support function. We now create an instance of Data and load from a sample csv file. Finally, we normalize the value."
   ]
  },
  {
   "cell_type": "code",
   "execution_count": 2,
   "metadata": {},
   "outputs": [],
   "source": [
    "D = Data()\n",
    "D.loadfile(\"sample.csv\")\n",
    "D.normalize()"
   ]
  },
  {
   "cell_type": "markdown",
   "metadata": {},
   "source": [
    "For raw access:"
   ]
  },
  {
   "cell_type": "code",
   "execution_count": 3,
   "metadata": {},
   "outputs": [
    {
     "data": {
      "text/plain": [
       "[0.0,\n",
       " 0.8421052631578949,\n",
       " 0.191699604743083,\n",
       " 0.572192513368984,\n",
       " 0.2577319587628866,\n",
       " 0.6195652173913043,\n",
       " 0.6275862068965516,\n",
       " 0.5738396624472574,\n",
       " 0.28301886792452835,\n",
       " 0.5930599369085174,\n",
       " 0.37201365187713303,\n",
       " 0.4552845528455285,\n",
       " 0.9706959706959707,\n",
       " 0.5613409415121255]"
      ]
     },
     "execution_count": 3,
     "metadata": {},
     "output_type": "execute_result"
    }
   ],
   "source": [
    "D.data[0][1]"
   ]
  },
  {
   "cell_type": "markdown",
   "metadata": {},
   "source": [
    "To get a copy of a point:"
   ]
  },
  {
   "cell_type": "code",
   "execution_count": 4,
   "metadata": {},
   "outputs": [],
   "source": [
    "p = D.get(4)"
   ]
  },
  {
   "cell_type": "markdown",
   "metadata": {},
   "source": [
    "To denote unknown values, denote it as None. For a point p with missing values, we can update the unknown feature f by calling D.update(p, f):"
   ]
  },
  {
   "cell_type": "code",
   "execution_count": 5,
   "metadata": {},
   "outputs": [
    {
     "name": "stdout",
     "output_type": "stream",
     "text": [
      "before (4, [0.0, None, 0.36561264822134387, 0.8074866310160428, 0.5360824742268042, 0.5217391304347826, 0.6275862068965516, 0.4957805907172996, 0.49056603773584906, 0.4447949526813881, None, 0.4552845528455285, 0.6080586080586081, 0.325962910128388])\n",
      "ater: (4, [0.0, None, 0.36561264822134387, 0.8074866310160428, 0.5360824742268042, 0.5217391304347826, 0.6275862068965516, 0.4957805907172996, 0.49056603773584906, 0.4447949526813881, 0.2593856655290102, 0.4552845528455285, 0.6080586080586081, 0.325962910128388])\n"
     ]
    }
   ],
   "source": [
    "p[1][10] = None\n",
    "p[1][1] = None\n",
    "print(\"before\",p)\n",
    "D.update(p,10)\n",
    "print(\"ater:\",p)"
   ]
  },
  {
   "cell_type": "markdown",
   "metadata": {},
   "source": [
    "You can get the binary vector of which features are known by calling bool_feature(p):"
   ]
  },
  {
   "cell_type": "code",
   "execution_count": 6,
   "metadata": {},
   "outputs": [
    {
     "data": {
      "text/plain": [
       "[1, 0, 1, 1, 1, 1, 1, 1, 1, 1, 1, 1, 1, 1]"
      ]
     },
     "execution_count": 6,
     "metadata": {},
     "output_type": "execute_result"
    }
   ],
   "source": [
    "bool_feature(p)"
   ]
  },
  {
   "cell_type": "markdown",
   "metadata": {},
   "source": [
    "To partition the dataset into training and test sets, simply call D.split(r), r = ratio, which returns the test set and keeps D to be the training set"
   ]
  },
  {
   "cell_type": "code",
   "execution_count": 7,
   "metadata": {},
   "outputs": [
    {
     "name": "stdout",
     "output_type": "stream",
     "text": [
      "D length: 27\n",
      "test length: 151\n"
     ]
    }
   ],
   "source": [
    "D_test = D.split(0.85)\n",
    "\n",
    "print(\"D length:\", len(D.data))\n",
    "print(\"test length:\", len(D_test.data))"
   ]
  },
  {
   "cell_type": "markdown",
   "metadata": {},
   "source": [
    "Let's use k-means as our clustering algorithm. Calling D.cluster_K_means(k) will set the Data's clustering algorithm as k-means."
   ]
  },
  {
   "cell_type": "code",
   "execution_count": 18,
   "metadata": {},
   "outputs": [
    {
     "name": "stdout",
     "output_type": "stream",
     "text": [
      "prob: [0.2962962962962963, 0.18518518518518517, 0.2222222222222222, 0.18518518518518517, 0.1111111111111111]\n"
     ]
    },
    {
     "data": {
      "text/plain": [
       "array([[1.        , 0.60263158, 0.47875494, 0.56483957, 0.56829897,\n",
       "        0.29619565, 0.1862069 , 0.08201477, 0.5495283 , 0.21766562,\n",
       "        0.62670647, 0.18394309, 0.1510989 , 0.24304565],\n",
       "       [0.        , 0.73578947, 0.25098814, 0.48235294, 0.26597938,\n",
       "        0.37391304, 0.64206897, 0.57299578, 0.21509434, 0.47003155,\n",
       "        0.32150171, 0.41300813, 0.77216117, 0.48573466],\n",
       "       [0.5       , 0.27061404, 0.32575758, 0.48395722, 0.57474227,\n",
       "        0.23550725, 0.35977011, 0.33298172, 0.58176101, 0.33491062,\n",
       "        0.09143914, 0.40379404, 0.64224664, 0.11804565],\n",
       "       [0.        , 0.76263158, 0.21857708, 0.67593583, 0.38350515,\n",
       "        0.49347826, 0.62413793, 0.5164557 , 0.44150943, 0.37917981,\n",
       "        0.37798635, 0.5300813 , 0.63809524, 0.7296719 ],\n",
       "       [0.5       , 0.45964912, 0.07378129, 0.36898396, 0.29209622,\n",
       "        0.4384058 , 0.35747126, 0.26090014, 0.57232704, 0.2807571 ,\n",
       "        0.18856655, 0.56910569, 0.32112332, 0.29148835]])"
      ]
     },
     "execution_count": 18,
     "metadata": {},
     "output_type": "execute_result"
    }
   ],
   "source": [
    "D.cluster_K_means(5)\n",
    "D.clustering.cluster_centers_"
   ]
  },
  {
   "cell_type": "code",
   "execution_count": null,
   "metadata": {},
   "outputs": [],
   "source": []
  },
  {
   "cell_type": "code",
   "execution_count": null,
   "metadata": {},
   "outputs": [],
   "source": []
  }
 ],
 "metadata": {
  "kernelspec": {
   "display_name": "Python 3",
   "language": "python",
   "name": "python3"
  },
  "language_info": {
   "codemirror_mode": {
    "name": "ipython",
    "version": 3
   },
   "file_extension": ".py",
   "mimetype": "text/x-python",
   "name": "python",
   "nbconvert_exporter": "python",
   "pygments_lexer": "ipython3",
   "version": "3.7.1"
  }
 },
 "nbformat": 4,
 "nbformat_minor": 2
}
