{
 "cells": [
  {
   "cell_type": "markdown",
   "metadata": {},
   "source": [
    "This is just a little demo of how the code works. First import the module Data"
   ]
  },
  {
   "cell_type": "code",
   "execution_count": 1,
   "metadata": {},
   "outputs": [
    {
     "name": "stdout",
     "output_type": "stream",
     "text": [
      "1 5\n"
     ]
    }
   ],
   "source": [
    "import random\n",
    "from Data import *"
   ]
  },
  {
   "cell_type": "markdown",
   "metadata": {},
   "source": [
    "We get access to the Data class type, which can be used to load the data and provide many support function. We now create an instance of Data and load from a sample csv file. Finally, we normalize the value."
   ]
  },
  {
   "cell_type": "code",
   "execution_count": 12,
   "metadata": {},
   "outputs": [
    {
     "name": "stdout",
     "output_type": "stream",
     "text": [
      "[0.15730337078651685, 0.10674157303370786, 0.08426966292134831, 0.1348314606741573, 0.06179775280898876, 0.10112359550561797, 0.0449438202247191, 0.07865168539325842, 0.11235955056179775, 0.11797752808988764]\n"
     ]
    },
    {
     "data": {
      "text/plain": [
       "array([[0.28430451, 0.20193394, 0.50324675, 0.56461708, 0.19875776,\n",
       "        0.34815271, 0.32210669, 0.57412399, 0.34148265, 0.12109946,\n",
       "        0.46486643, 0.54644165, 0.13595374],\n",
       "       [0.77063712, 0.20303724, 0.61412891, 0.33532284, 0.41361556,\n",
       "        0.72722323, 0.62491672, 0.35253227, 0.51004483, 0.4604365 ,\n",
       "        0.5207531 , 0.60208213, 0.75268414],\n",
       "       [0.63982456, 0.42793149, 0.57397504, 0.5532646 , 0.30869565,\n",
       "        0.27931034, 0.09493671, 0.6591195 , 0.33564669, 0.73139931,\n",
       "        0.11924119, 0.14456654, 0.26937708],\n",
       "       [0.53366228, 0.61314229, 0.56016043, 0.54682131, 0.25951087,\n",
       "        0.2295977 , 0.06733474, 0.71540881, 0.18033649, 0.37848407,\n",
       "        0.20765583, 0.20253358, 0.24384807],\n",
       "       [0.47511962, 0.43568092, 0.60913952, 0.58528585, 0.47628458,\n",
       "        0.1984326 , 0.17932489, 0.20926244, 0.22798968, 0.4749457 ,\n",
       "        0.16112343, 0.0999001 , 0.21573077],\n",
       "       [0.64532164, 0.24736495, 0.5855615 , 0.38688431, 0.36352657,\n",
       "        0.55842912, 0.48886545, 0.3081761 , 0.35611637, 0.2581058 ,\n",
       "        0.4968383 , 0.70818071, 0.55559518],\n",
       "       [0.41348684, 0.10869565, 0.36363636, 0.3060567 , 0.29619565,\n",
       "        0.32543103, 0.17431435, 0.60849057, 0.12539432, 0.21331058,\n",
       "        0.46504065, 0.21886447, 0.24554208],\n",
       "       [0.3612782 , 0.54460757, 0.61726509, 0.56958763, 0.33074534,\n",
       "        0.59211823, 0.50195901, 0.43396226, 0.51757548, 0.17515846,\n",
       "        0.37049942, 0.69413919, 0.19293866],\n",
       "       [0.72960526, 0.24871542, 0.52406417, 0.2814433 , 0.44184783,\n",
       "        0.65189655, 0.56265823, 0.21792453, 0.56009464, 0.3644198 ,\n",
       "        0.4300813 , 0.75769231, 0.52842368],\n",
       "       [0.35714286, 0.13316394, 0.41532977, 0.40746195, 0.26863354,\n",
       "        0.53760263, 0.43128391, 0.2327044 , 0.44404386, 0.18425971,\n",
       "        0.5327139 , 0.63055992, 0.18680796]])"
      ]
     },
     "execution_count": 12,
     "metadata": {},
     "output_type": "execute_result"
    }
   ],
   "source": [
    "D = Data()\n",
    "D.loadfile(\"sample.csv\")\n",
    "D.normalize()\n",
    "D.set_costs()\n",
    "D.cluster_K_means(10)\n",
    "D.clustering.cluster_centers_"
   ]
  },
  {
   "cell_type": "markdown",
   "metadata": {},
   "source": [
    "For raw access:"
   ]
  },
  {
   "cell_type": "code",
   "execution_count": 13,
   "metadata": {},
   "outputs": [
    {
     "data": {
      "text/plain": [
       "[0.7052631578947371,\n",
       " 0.2213438735177866,\n",
       " 0.53475935828877,\n",
       " 0.30927835051546404,\n",
       " 0.33695652173913043,\n",
       " 0.5620689655172414,\n",
       " 0.5358649789029536,\n",
       " 0.2641509433962264,\n",
       " 0.4037854889589906,\n",
       " 0.21501706484641633,\n",
       " 0.5121951219512196,\n",
       " 1.0,\n",
       " 0.5399429386590585]"
      ]
     },
     "execution_count": 13,
     "metadata": {},
     "output_type": "execute_result"
    }
   ],
   "source": [
    "D.data[0][1]"
   ]
  },
  {
   "cell_type": "markdown",
   "metadata": {},
   "source": [
    "To get a copy of a point:"
   ]
  },
  {
   "cell_type": "code",
   "execution_count": 14,
   "metadata": {},
   "outputs": [
    {
     "name": "stdout",
     "output_type": "stream",
     "text": [
      "(4, [0.7973684210526317, 0.1758893280632411, 0.4919786096256683, 0.2783505154639176, 0.6086956521739131, 0.6965517241379311, 0.5970464135021097, 0.2075471698113207, 0.5331230283911672, 0.3728668941979522, 0.4959349593495936, 0.8937728937728937, 0.35805991440798857, 0])\n"
     ]
    }
   ],
   "source": [
    "t = D.get(4)\n",
    "print(t)"
   ]
  },
  {
   "cell_type": "markdown",
   "metadata": {},
   "source": [
    "To denote unknown values, denote it as None. For a point p with missing values, we can update the unknown feature f by calling D.update(p, f):"
   ]
  },
  {
   "cell_type": "code",
   "execution_count": 15,
   "metadata": {},
   "outputs": [
    {
     "name": "stdout",
     "output_type": "stream",
     "text": [
      "before: (4, [0.7973684210526317, -1e-07, 0.4919786096256683, 0.2783505154639176, 0.6086956521739131, -1e-07, 0.5970464135021097, 0.2075471698113207, 0.5331230283911672, 0.3728668941979522, -1e-07, 0.8937728937728937, 0.35805991440798857, 0])\n",
      "\n",
      "after: (4, [0.7973684210526317, -1e-07, 0.4919786096256683, 0.2783505154639176, 0.6086956521739131, -1e-07, 0.5970464135021097, 0.2075471698113207, 0.5331230283911672, 0.3728668941979522, 0.4959349593495936, 0.8937728937728937, 0.35805991440798857, 0.07692307692307693])\n",
      "\n"
     ]
    }
   ],
   "source": [
    "D.mask(t,10)\n",
    "D.mask(t,1)\n",
    "D.mask(t,5)\n",
    "print(\"before:\",t)\n",
    "t, reward, done, info = D.step(t, 10)\n",
    "print()\n",
    "print(\"after:\",t)\n",
    "print()"
   ]
  },
  {
   "cell_type": "markdown",
   "metadata": {},
   "source": [
    "You can get the binary vector of which features are known by calling bool_feature(p):"
   ]
  },
  {
   "cell_type": "code",
   "execution_count": null,
   "metadata": {},
   "outputs": [],
   "source": [
    "f = bool_feature(t[1])\n",
    "print(\"bool features: \", f)\n",
    "print(\"project p with f: \", len(proj(t[1],f)))"
   ]
  },
  {
   "cell_type": "markdown",
   "metadata": {},
   "source": [
    "To partition the dataset into training and test sets, simply call D.split(r), r = ratio, which returns the test set and keeps D to be the training set"
   ]
  },
  {
   "cell_type": "code",
   "execution_count": null,
   "metadata": {},
   "outputs": [],
   "source": [
    "D_test = D.split(0.85)\n",
    "\n",
    "print(\"D length:\", len(D.data))\n",
    "print(\"test length:\", len(D_test.data))"
   ]
  },
  {
   "cell_type": "markdown",
   "metadata": {},
   "source": [
    "Let's use k-means as our clustering algorithm. Calling D.cluster_K_means(k) will set the Data's clustering algorithm as k-means."
   ]
  },
  {
   "cell_type": "code",
   "execution_count": null,
   "metadata": {},
   "outputs": [],
   "source": []
  },
  {
   "cell_type": "code",
   "execution_count": null,
   "metadata": {},
   "outputs": [],
   "source": [
    "r = random.randint(0,130)\n",
    "print(\"r:\",r)\n",
    "t = D.get(r)\n",
    "p = t[1]\n",
    "print(\"t:\", t)\n",
    "\n",
    "print(D.score(t))\n",
    "for i in range(12):\n",
    "    print(\"projecting out dim:\", i)\n",
    "    D.mask(t,i)\n",
    "    print(\"score:\", D.score(t))\n",
    "    D.update(t,i)"
   ]
  },
  {
   "cell_type": "markdown",
   "metadata": {},
   "source": [
    "Now, we compute the reward of state/action (s1,a) -> s2 as score(s1) - score(s2). This reward is positive\n",
    "if score(s2) < score(s1); this is obviously desirable since higher score means \"worse\" state. "
   ]
  },
  {
   "cell_type": "code",
   "execution_count": null,
   "metadata": {},
   "outputs": [],
   "source": [
    "# set N random features None\n",
    "N = 11\n",
    "t = D.get(r)\n",
    "for i in range(N):\n",
    "    while True:\n",
    "        r = random.randint(0,12)\n",
    "        if not np.isnan(t[1][r]):\n",
    "            break\n",
    "    D.mask(t,r)\n",
    "print(\"t:\",t)\n",
    "print(\"score:\", D.score(t))\n",
    "\n",
    "print(\"\\nREWARDS FOR A SINGLE ACTION\")\n",
    "for i in range(len(t[1])):\n",
    "    if isnan(t[1][i]):\n",
    "        print(\"reward of updating feature\", i)\n",
    "        print(\"reward:\", D.reward(t,i))\n",
    "        print(\"\")"
   ]
  },
  {
   "cell_type": "markdown",
   "metadata": {},
   "source": [
    "If we want a list of actions to take, we can call D.actions(t), while D.next_state(state, action) will return the next state\n",
    "with the action applied."
   ]
  },
  {
   "cell_type": "code",
   "execution_count": null,
   "metadata": {},
   "outputs": [],
   "source": [
    "print(\"available actions:\", D.actions(t))\n",
    "print(\"next state with first available action applied:\", D.next_state(t,D.actions(t)[4]))"
   ]
  },
  {
   "cell_type": "code",
   "execution_count": null,
   "metadata": {},
   "outputs": [],
   "source": []
  },
  {
   "cell_type": "code",
   "execution_count": null,
   "metadata": {},
   "outputs": [],
   "source": []
  }
 ],
 "metadata": {
  "kernelspec": {
   "display_name": "Python 3",
   "language": "python",
   "name": "python3"
  },
  "language_info": {
   "codemirror_mode": {
    "name": "ipython",
    "version": 3
   },
   "file_extension": ".py",
   "mimetype": "text/x-python",
   "name": "python",
   "nbconvert_exporter": "python",
   "pygments_lexer": "ipython3",
   "version": "3.6.7"
  }
 },
 "nbformat": 4,
 "nbformat_minor": 4
}
