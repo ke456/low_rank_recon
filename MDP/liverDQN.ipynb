{
 "cells": [
  {
   "cell_type": "code",
   "execution_count": 1,
   "metadata": {},
   "outputs": [],
   "source": [
    "from deep_q_network import DQNAgent\n",
    "from double_deep_q_network import DoubleDQNAgent\n",
    "\n",
    "from base_rl_agent_torch import ReplayMemory\n",
    "from base_neural_model import EstimatorModelBase\n",
    "from advantage_neural_model import AdvantageModel\n",
    "import utils\n",
    "import random\n",
    "import copy\n",
    "from Data_binary import *"
   ]
  },
  {
   "cell_type": "code",
   "execution_count": 2,
   "metadata": {},
   "outputs": [],
   "source": [
    "# Fix seeds for reproducibility.\n",
    "#utils.fix_seeds(2)"
   ]
  },
  {
   "cell_type": "code",
   "execution_count": 3,
   "metadata": {},
   "outputs": [
    {
     "name": "stdout",
     "output_type": "stream",
     "text": [
      "training points: 464\n",
      "test points: 115\n"
     ]
    }
   ],
   "source": [
    "env = Data(unknown_rate=1)\n",
    "env.loadfile(\"liver.csv\")\n",
    "env.normalize()\n",
    "env.alpha = 0\n",
    "env.cluster_K_means(7)\n",
    "# this makes it so when we do the ranking, we only check against this number\n",
    "# of data points\n",
    "#env.set_validation(2000)\n",
    "# makes the costs uniform; we won't have groups either\n",
    "env.set_costs()\n",
    "# max_cost is the fixed maximum cost the agent can take\n",
    "env.max_cost = 6/10\n",
    "# partition into training/test sets\n",
    "test_env = env.split(0.80)\n",
    "print(\"training points:\", len(env.data))\n",
    "print(\"test points:\", len(test_env.data))"
   ]
  },
  {
   "cell_type": "code",
   "execution_count": 4,
   "metadata": {},
   "outputs": [],
   "source": [
    "MAX_EPISODES = 4000\n",
    "MAX_STEPS = 32\n",
    "BATCH_SIZE = 32\n",
    "buffer = ReplayMemory(100)\n",
    "\n",
    "# Initiate the agent\n",
    "model = AdvantageModel\n",
    "agent = DoubleDQNAgent(env, \n",
    "                       model, \n",
    "                       buffer,max_steps=MAX_STEPS, \n",
    "                       max_episodes=MAX_EPISODES,\n",
    "                       gamma=0.8,\n",
    "                       epsilon_decay=0.9995,\n",
    "                       exploration_penalty=-0.0,\n",
    "                       verbose=0 # Verbosity level\n",
    "                      )"
   ]
  },
  {
   "cell_type": "code",
   "execution_count": 5,
   "metadata": {},
   "outputs": [
    {
     "name": "stdout",
     "output_type": "stream",
     "text": [
      "Episode 3999, reward: 22.316 eps: 0.13522.264 eps: 0.821eps: 0.818eps: 0.579eps: 0.476 22.186 eps: 0.447 21.516 eps: 0.270 22.064 eps: 0.263 eps: 0.249eps: 0.234 21.155 eps: 0.234 22.316 eps: 0.233 eps: 0.225 eps: 0.22222.316 eps: 0.177 22.316 eps: 0.160 eps: 0.153\r"
     ]
    }
   ],
   "source": [
    "#Train\n",
    "episode_rewards = agent.train(env, MAX_EPISODES, MAX_STEPS, BATCH_SIZE)"
   ]
  },
  {
   "cell_type": "markdown",
   "metadata": {},
   "source": [
    "We want to plot the reward per episode to examine agent performance."
   ]
  },
  {
   "cell_type": "code",
   "execution_count": 6,
   "metadata": {},
   "outputs": [],
   "source": [
    "def plot_reward_per_episode(episode_rewards):\n",
    "    import matplotlib.pyplot as plt\n",
    "    episode_rewards = episode_rewards[3500:5000]\n",
    "    x = [i for i in range(len(episode_rewards))]\n",
    "    plt.plot(x, episode_rewards)\n",
    "    \n",
    "plot_reward_per_episode(episode_rewards)"
   ]
  },
  {
   "cell_type": "code",
   "execution_count": 7,
   "metadata": {},
   "outputs": [
    {
     "name": "stdout",
     "output_type": "stream",
     "text": [
      "[17.80886612]\n",
      "[23.64609905]\n"
     ]
    },
    {
     "data": {
      "image/png": "[encoded data removed]",
      "text/plain": [
       "<Figure size 432x288 with 1 Axes>"
      ]
     },
     "metadata": {
      "needs_background": "light"
     },
     "output_type": "display_data"
    }
   ],
   "source": [
    "def plot_reward_per_episode(episode_rewards):\n",
    "    import matplotlib.pyplot as plt\n",
    "    episode_rewards = episode_rewards[0:15000]\n",
    "    x = [i for i in range(len(episode_rewards))]\n",
    "    plt.plot(x, episode_rewards,'.')\n",
    "    x = np.array(x).reshape(-1,1)\n",
    "    episode_rewards = np.array(episode_rewards).reshape(-1,1)\n",
    "    from sklearn import datasets, linear_model\n",
    "    regr = linear_model.LinearRegression()\n",
    "    regr.fit(x,episode_rewards)\n",
    "    y_pred = regr.predict(x)\n",
    "    plt.plot(x,y_pred,'-')\n",
    "    print(y_pred[0])\n",
    "    print(y_pred[-1])\n",
    "    \n",
    "plot_reward_per_episode(episode_rewards)"
   ]
  },
  {
   "cell_type": "code",
   "execution_count": 8,
   "metadata": {},
   "outputs": [
    {
     "data": {
      "image/png": "[encoded data removed]",
      "text/plain": [
       "<Figure size 432x288 with 1 Axes>"
      ]
     },
     "metadata": {
      "needs_background": "light"
     },
     "output_type": "display_data"
    }
   ],
   "source": [
    "def plot_reward_per_episode(episode_rewards):\n",
    "    import matplotlib.pyplot as plt\n",
    "    episode_rewards = episode_rewards[0:]\n",
    "    x = [i for i in range(len(episode_rewards)//100)]\n",
    "    avg = [ sum(episode_rewards[i*100:(i+1)*100])/100 for i in range(len(episode_rewards)//100)]\n",
    "    plt.plot(x, avg)\n",
    "\n",
    "plot_reward_per_episode(episode_rewards)"
   ]
  },
  {
   "cell_type": "code",
   "execution_count": 13,
   "metadata": {},
   "outputs": [],
   "source": [
    "test_env.set_validation(1)\n",
    "for iterations in range(1):\n",
    "    # Now we evaluate the trained model by taking greedy actions\n",
    "    total1 = 0\n",
    "    total2 = 0\n",
    "    tc1 = 0\n",
    "    tc2 = 0\n",
    "\n",
    "    N=len(test_env.data)\n",
    "    test_env.it = 0\n",
    "    for it in range(N):\n",
    "        observation = test_env.next_element() # Current observed state\n",
    "        ob_cp = (copy.copy(observation[0]),copy.copy(observation[1]), copy.copy(observation[2]))\n",
    "        #print(\"ob #:\",observation[0])\n",
    "        total_reward = 0\n",
    "        agent.epsilon = 0\n",
    "        i= 0\n",
    "        done = False\n",
    "        steps = 0\n",
    "        cost = 0\n",
    "        prev = []\n",
    "\n",
    "        while True:\n",
    "            if done:\n",
    "                break;\n",
    "            action = agent.get_action(observation,env)\n",
    "            observation, reward, done, info = test_env.step(observation, action)\n",
    "            total_reward += reward\n",
    "            steps += 1\n",
    "        #if (observation[1][-1] > test_env.max_cost):\n",
    "        #    print(\"exceeded cost:\", observation[1][-1])\n",
    "        #else:\n",
    "        #    print(\"cost1:\", observation[1][-1])\n",
    "        #if (prev != bool_feature(observation[1][:32])):\n",
    "        #    print(\"different end state\")\n",
    "        prev = bool_feature(observation[1][:32])\n",
    "        total1 += (test_env.rank(observation)[0])\n",
    "        tc1 += observation[1][-1]\n",
    "\n",
    "        observation = ob_cp\n",
    "        done = False\n",
    "        \n",
    "        s2 = 0\n",
    "        cost = 0\n",
    "        while True:\n",
    "            if done:\n",
    "                break;\n",
    "            actions = test_env.actions(observation)\n",
    "            r = -1\n",
    "            if (len(actions) != 1):\n",
    "                r = random.randint(0,len(actions)-2)\n",
    "            action = actions[r]\n",
    "            #print(\"actions:\",actions)\n",
    "            if action != -1 and action < len(observation[1])-1:\n",
    "                cost += env.costs[action]\n",
    "            observation, reward, done, info = test_env.step(observation, action)\n",
    "        total2+=(test_env.rank(observation)[0])\n",
    "        #print()\n",
    "        tc2 += observation[1][-1]\n",
    "\n",
    "    "
   ]
  },
  {
   "cell_type": "code",
   "execution_count": 15,
   "metadata": {},
   "outputs": [
    {
     "name": "stdout",
     "output_type": "stream",
     "text": [
      "total final score RL: 22.456952603888688\n",
      "total final score rand: 51.10328467863429\n",
      "total final cost RL: 0.6000000000000005\n",
      "total final cost rand: 0.6000000000000005\n"
     ]
    }
   ],
   "source": [
    "print(\"total final score RL:\", total1)\n",
    "print(\"total final score rand:\", total2)\n",
    "print(\"total final cost RL:\", tc1/N)\n",
    "print(\"total final cost rand:\", tc2/N)\n",
    "# Saving the network\n",
    "#agent.to_pickle(\"somefile.pickle\")"
   ]
  },
  {
   "cell_type": "code",
   "execution_count": null,
   "metadata": {},
   "outputs": [],
   "source": []
  },
  {
   "cell_type": "markdown",
   "metadata": {},
   "source": [
    "##### "
   ]
  }
 ],
 "metadata": {
  "kernelspec": {
   "display_name": "Python 3",
   "language": "python",
   "name": "python3"
  },
  "language_info": {
   "codemirror_mode": {
    "name": "ipython",
    "version": 3
   },
   "file_extension": ".py",
   "mimetype": "text/x-python",
   "name": "python",
   "nbconvert_exporter": "python",
   "pygments_lexer": "ipython3",
   "version": "3.6.7"
  }
 },
 "nbformat": 4,
 "nbformat_minor": 4
}
