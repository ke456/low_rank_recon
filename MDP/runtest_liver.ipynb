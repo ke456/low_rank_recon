{
 "cells": [
  {
   "cell_type": "code",
   "execution_count": 1,
   "metadata": {},
   "outputs": [],
   "source": [
    "from runtest import *\n",
    "from Data_binary import *\n",
    "from statistics import median\n",
    "import time\n",
    "import numpy as np"
   ]
  },
  {
   "cell_type": "code",
   "execution_count": 2,
   "metadata": {},
   "outputs": [
    {
     "name": "stdout",
     "output_type": "stream",
     "text": [
      "training points: 464\n",
      "test points: 115\n"
     ]
    }
   ],
   "source": [
    "env = Data(unknown_rate=1)\n",
    "env.loadfile(\"liver.csv\") # change this to the test file\n",
    "env.normalize()\n",
    "env.alpha = 0\n",
    "env.cluster_K_means(7)\n",
    "# this makes it so when we do the ranking, we only check against this number\n",
    "# of data points; ignore for now\n",
    "#env.set_validation(2000)\n",
    "# makes the costs uniform; we won't have groups either\n",
    "env.set_costs()\n",
    "\n",
    "# partition into training/test sets\n",
    "test_env = env.split(0.80)\n",
    "print(\"training points:\", len(env.data))\n",
    "print(\"test points:\", len(test_env.data))"
   ]
  },
  {
   "cell_type": "code",
   "execution_count": 3,
   "metadata": {},
   "outputs": [
    {
     "name": "stdout",
     "output_type": "stream",
     "text": [
      "cost 0.1 gamma 0.75\n",
      "median for RL: 362.9595157454155 median for random: 369.6535211800474\n",
      "mean for RL: 362.9595157454155 mean for random: 371.10237468476015 took 4.936318874359131 seconds\n",
      "\n",
      "cost 0.2 gamma 0.81\n",
      "median for RL: 287.91190521713554 median for random: 337.498331523574\n",
      "mean for RL: 287.91190521713554 mean for random: 337.1554000327737 took 2.5282974243164062 seconds\n",
      "\n",
      "cost 0.3 gamma 0.7\n",
      "median for RL: 250.42701895725023 median for random: 341.9907929286013\n",
      "mean for RL: 250.42701895725023 mean for random: 342.3898180707332 took 2.5252950191497803 seconds\n",
      "\n",
      "cost 0.4 gamma 0.7\n",
      "median for RL: 209.4383036817916 median for random: 272.02829268434164\n",
      "mean for RL: 209.4383036817916 mean for random: 272.5374741236871 took 2.8145577907562256 seconds\n",
      "\n",
      "cost 0.5 gamma 0.75\n",
      "median for RL: 199.27290216740056 median for random: 244.98973640410065\n",
      "mean for RL: 199.27290216740056 mean for random: 242.43541851767768 took 2.969688892364502 seconds\n",
      "\n",
      "cost 0.6 gamma 0.8\n",
      "median for RL: 146.40228599067325 median for random: 213.53252207427892\n",
      "mean for RL: 146.40228599067325 mean for random: 214.44469411500495 took 3.1018190383911133 seconds\n",
      "\n",
      "cost 0.7 gamma 0.8\n",
      "median for RL: 130.60999165668545 median for random: 178.52245564733641\n",
      "mean for RL: 130.60999165668545 mean for random: 181.08065989399245 took 3.2359397411346436 seconds\n",
      "\n",
      "cost 0.8 gamma 0.8\n",
      "median for RL: 126.70930578825968 median for random: 158.6862712360213\n",
      "mean for RL: 126.70930578825968 mean for random: 157.56041464309385 took 3.373056173324585 seconds\n",
      "\n",
      "cost 0.9 gamma 0.8\n",
      "median for RL: 110.208790419201 median for random: 130.62332974488663\n",
      "mean for RL: 110.208790419201 mean for random: 131.93191510136998 took 3.5031919479370117 seconds\n",
      "\n",
      "cost 1.0 gamma 0.8\n",
      "median for RL: 105.64903652377465 median for random: 105.64903652377465\n",
      "mean for RL: 105.64903652377465 mean for random: 105.64903652377465 took 3.637295961380005 seconds\n",
      "\n"
     ]
    }
   ],
   "source": [
    "costs = [(i+1)/10 for i in range(10)] # list of maximum budgets\n",
    "#costs = [0.1, 0.2, 0.5]\n",
    "gammas = {}\n",
    "for cost in costs:\n",
    "    if cost >= 0.6:\n",
    "        gammas[cost] = 0.8\n",
    "    elif cost == 0.1:\n",
    "        gammas[cost] = 0.75\n",
    "    elif cost == 0.2:\n",
    "        gammas[cost] = 0.81\n",
    "    elif cost == 0.5:\n",
    "        gammas[cost] = 0.75\n",
    "    else:\n",
    "        gammas[cost]=0.7\n",
    "results = [] # stores all the results for each value of budget\n",
    "for c in costs:\n",
    "    env.max_cost = c\n",
    "    test_env.max_cost = c\n",
    "    # take the average of 3 trainings\n",
    "    r1 = []\n",
    "    r2 = []\n",
    "    print(\"cost\",c, \"gamma\", gammas[c])\n",
    "    start = time.time()\n",
    "    agent_distance = testAgent(env,test_env, \"liver\", c, gamma=gammas[c], max_eps=500, epsilon_decay=0.98)\n",
    "    r1.append(agent_distance)\n",
    "    \n",
    "    for i in range(10):\n",
    "        random_distance = testRandom(env, test_env, c)\n",
    "        r2.append(random_distance)\n",
    "    print(\"median for RL:\", median(r1), \"median for random:\",median(r2))\n",
    "    print(\"mean for RL:\", np.mean(r1), \"mean for random:\",np.mean(r2), \"took\", time.time()-start,\"seconds\")\n",
    "    print()\n",
    "    results.append([r1,r2])"
   ]
  },
  {
   "cell_type": "code",
   "execution_count": 4,
   "metadata": {},
   "outputs": [
    {
     "data": {
      "image/png": "[encoded data removed]",
      "text/plain": [
       "<Figure size 432x288 with 1 Axes>"
      ]
     },
     "metadata": {
      "needs_background": "light"
     },
     "output_type": "display_data"
    }
   ],
   "source": [
    "import matplotlib.pyplot as plt\n",
    "\n",
    "# this value is the total distance between p and 5 closest predicted points to p\n",
    "resRL = [results[i][0] for i in range(len(results))]\n",
    "resRAND = [np.mean(results[i][1]) for i in range(len(results))]\n",
    "plt.plot(costs, resRL, 'r', costs, resRAND)\n",
    "plt.show()"
   ]
  },
  {
   "cell_type": "code",
   "execution_count": 5,
   "metadata": {},
   "outputs": [],
   "source": [
    "# we will write the results to BENCHMARK/<test>.csv\n",
    "f = open('BENCHMARK/liver_test.csv', 'w')\n",
    "\n",
    "def write(f,lst):\n",
    "    for l in lst:\n",
    "        f.write(str(l))\n",
    "        f.write(' ')\n",
    "\n",
    "# first write the number of test points\n",
    "f.write(str(len(test_env.data)))\n",
    "f.write('\\n')\n",
    "        \n",
    "# write the cost\n",
    "write(f,costs)\n",
    "f.write('\\n')\n",
    "\n",
    "# write the RL result\n",
    "write(f,resRL)\n",
    "f.write('\\n')\n",
    "\n",
    "# finally write the random results\n",
    "write(f, resRAND)\n",
    "f.write('\\n')\n",
    "\n",
    "f.close()"
   ]
  },
  {
   "cell_type": "code",
   "execution_count": null,
   "metadata": {},
   "outputs": [],
   "source": []
  }
 ],
 "metadata": {
  "kernelspec": {
   "display_name": "Python 3",
   "language": "python",
   "name": "python3"
  },
  "language_info": {
   "codemirror_mode": {
    "name": "ipython",
    "version": 3
   },
   "file_extension": ".py",
   "mimetype": "text/x-python",
   "name": "python",
   "nbconvert_exporter": "python",
   "pygments_lexer": "ipython3",
   "version": "3.7.7"
  }
 },
 "nbformat": 4,
 "nbformat_minor": 4
}
