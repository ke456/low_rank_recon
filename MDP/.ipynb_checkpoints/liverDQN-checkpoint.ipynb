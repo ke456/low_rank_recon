{
 "cells": [
  {
   "cell_type": "code",
   "execution_count": 1,
   "metadata": {},
   "outputs": [],
   "source": [
    "from deep_q_network import DQNAgent\n",
    "from double_deep_q_network import DoubleDQNAgent\n",
    "\n",
    "from base_rl_agent_torch import ReplayMemory\n",
    "from base_neural_model import EstimatorModelBase\n",
    "from advantage_neural_model import AdvantageModel\n",
    "import utils\n",
    "import random\n",
    "import copy\n",
    "from Data_binary import *"
   ]
  },
  {
   "cell_type": "code",
   "execution_count": 2,
   "metadata": {},
   "outputs": [],
   "source": [
    "# Fix seeds for reproducibility.\n",
    "#utils.fix_seeds(2)"
   ]
  },
  {
   "cell_type": "code",
   "execution_count": 3,
   "metadata": {},
   "outputs": [
    {
     "name": "stdout",
     "output_type": "stream",
     "text": [
      "training points: 464\n",
      "test points: 115\n"
     ]
    }
   ],
   "source": [
    "env = Data(unknown_rate=1)\n",
    "env.loadfile(\"liver.csv\")\n",
    "env.normalize()\n",
    "env.alpha = 0\n",
    "env.cluster_K_means(7)\n",
    "# this makes it so when we do the ranking, we only check against this number\n",
    "# of data points\n",
    "#env.set_validation(2000)\n",
    "# makes the costs uniform; we won't have groups either\n",
    "env.set_costs()\n",
    "# max_cost is the fixed maximum cost the agent can take\n",
    "env.max_cost = 6/10\n",
    "# partition into training/test sets\n",
    "test_env = env.split(0.80)\n",
    "print(\"training points:\", len(env.data))\n",
    "print(\"test points:\", len(test_env.data))"
   ]
  },
  {
   "cell_type": "code",
   "execution_count": 4,
   "metadata": {},
   "outputs": [],
   "source": [
    "MAX_EPISODES = 3000\n",
    "MAX_STEPS = 32\n",
    "BATCH_SIZE = 32\n",
    "buffer = ReplayMemory(100)\n",
    "\n",
    "# Initiate the agent\n",
    "model = AdvantageModel\n",
    "agent = DoubleDQNAgent(env, \n",
    "                       model, \n",
    "                       buffer,max_steps=MAX_STEPS, \n",
    "                       max_episodes=MAX_EPISODES,\n",
    "                       gamma=0.8,\n",
    "                       epsilon_decay=0.9992,\n",
    "                       exploration_penalty=-0.0,\n",
    "                       verbose=0 # Verbosity level\n",
    "                      )"
   ]
  },
  {
   "cell_type": "code",
   "execution_count": 5,
   "metadata": {},
   "outputs": [
    {
     "name": "stdout",
     "output_type": "stream",
     "text": [
      "Episode 9, reward: 0.272 eps: 0.9930\r"
     ]
    }
   ],
   "source": [
    "#Train\n",
    "episode_rewards = agent.train(env, MAX_EPISODES, MAX_STEPS, BATCH_SIZE)"
   ]
  },
  {
   "cell_type": "markdown",
   "metadata": {},
   "source": [
    "We want to plot the reward per episode to examine agent performance."
   ]
  },
  {
   "cell_type": "code",
   "execution_count": 6,
   "metadata": {},
   "outputs": [],
   "source": [
    "def plot_reward_per_episode(episode_rewards):\n",
    "    import matplotlib.pyplot as plt\n",
    "    episode_rewards = episode_rewards[3500:5000]\n",
    "    x = [i for i in range(len(episode_rewards))]\n",
    "    plt.plot(x, episode_rewards)\n",
    "    \n",
    "plot_reward_per_episode(episode_rewards)"
   ]
  },
  {
   "cell_type": "code",
   "execution_count": 7,
   "metadata": {},
   "outputs": [
    {
     "name": "stdout",
     "output_type": "stream",
     "text": [
      "[0.08211436]\n",
      "[0.32875153]\n"
     ]
    },
    {
     "data": {
      "image/png": "[encoded data removed]",
      "text/plain": [
       "<Figure size 432x288 with 1 Axes>"
      ]
     },
     "metadata": {
      "needs_background": "light"
     },
     "output_type": "display_data"
    }
   ],
   "source": [
    "def plot_reward_per_episode(episode_rewards):\n",
    "    import matplotlib.pyplot as plt\n",
    "    episode_rewards = episode_rewards[0:15000]\n",
    "    x = [i for i in range(len(episode_rewards))]\n",
    "    plt.plot(x, episode_rewards,'.')\n",
    "    x = np.array(x).reshape(-1,1)\n",
    "    episode_rewards = np.array(episode_rewards).reshape(-1,1)\n",
    "    from sklearn import datasets, linear_model\n",
    "    regr = linear_model.LinearRegression()\n",
    "    regr.fit(x,episode_rewards)\n",
    "    y_pred = regr.predict(x)\n",
    "    plt.plot(x,y_pred,'-')\n",
    "    print(y_pred[0])\n",
    "    print(y_pred[-1])\n",
    "    \n",
    "plot_reward_per_episode(episode_rewards)"
   ]
  },
  {
   "cell_type": "code",
   "execution_count": 8,
   "metadata": {},
   "outputs": [
    {
     "data": {
      "image/png": "[encoded data removed]",
      "text/plain": [
       "<Figure size 432x288 with 1 Axes>"
      ]
     },
     "metadata": {
      "needs_background": "light"
     },
     "output_type": "display_data"
    }
   ],
   "source": [
    "def plot_reward_per_episode(episode_rewards):\n",
    "    import matplotlib.pyplot as plt\n",
    "    episode_rewards = episode_rewards[0:]\n",
    "    x = [i for i in range(len(episode_rewards)//100)]\n",
    "    avg = [ sum(episode_rewards[i*100:(i+1)*100])/100 for i in range(len(episode_rewards)//100)]\n",
    "    plt.plot(x, avg)\n",
    "\n",
    "plot_reward_per_episode(episode_rewards)"
   ]
  },
  {
   "cell_type": "code",
   "execution_count": 9,
   "metadata": {},
   "outputs": [],
   "source": [
    "test_env.set_validation(1)\n",
    "for iterations in range(1):\n",
    "    # Now we evaluate the trained model by taking greedy actions\n",
    "    total1 = 0\n",
    "    total2 = 0\n",
    "    tc1 = 0\n",
    "    tc2 = 0\n",
    "\n",
    "    N=len(test_env.data)\n",
    "    test_env.it = 0\n",
    "    for it in range(N):\n",
    "        observation = test_env.next_element() # Current observed state\n",
    "        ob_cp = (copy.copy(observation[0]),copy.copy(observation[1]), copy.copy(observation[2]))\n",
    "        #print(\"ob #:\",observation[0])\n",
    "        total_reward = 0\n",
    "        agent.epsilon = 0\n",
    "        i= 0\n",
    "        done = False\n",
    "        steps = 0\n",
    "        cost = 0\n",
    "        prev = []\n",
    "\n",
    "        while True:\n",
    "            if done:\n",
    "                break;\n",
    "            action = agent.get_action(observation,env)\n",
    "            observation, reward, done, info = test_env.step(observation, action)\n",
    "            total_reward += reward\n",
    "            steps += 1\n",
    "        #if (observation[1][-1] > test_env.max_cost):\n",
    "        #    print(\"exceeded cost:\", observation[1][-1])\n",
    "        #else:\n",
    "        #    print(\"cost1:\", observation[1][-1])\n",
    "        #if (prev != bool_feature(observation[1][:32])):\n",
    "        #    print(\"different end state\")\n",
    "        prev = bool_feature(observation[1][:32])\n",
    "        total1 += (test_env.rank(observation)[0])\n",
    "        tc1 += observation[1][-1]\n",
    "\n",
    "        observation = ob_cp\n",
    "        done = False\n",
    "        \n",
    "        s2 = 0\n",
    "        cost = 0\n",
    "        while True:\n",
    "            if done:\n",
    "                break;\n",
    "            actions = test_env.actions(observation)\n",
    "            r = -1\n",
    "            if (len(actions) != 1):\n",
    "                r = random.randint(0,len(actions)-2)\n",
    "            action = actions[r]\n",
    "            #print(\"actions:\",actions)\n",
    "            if action != -1 and action < len(observation[1])-1:\n",
    "                cost += env.costs[action]\n",
    "            observation, reward, done, info = test_env.step(observation, action)\n",
    "        total2+=(test_env.rank(observation)[0])\n",
    "        #print()\n",
    "        tc2 += observation[1][-1]\n",
    "\n",
    "    "
   ]
  },
  {
   "cell_type": "code",
   "execution_count": 10,
   "metadata": {},
   "outputs": [
    {
     "name": "stdout",
     "output_type": "stream",
     "text": [
      "total final score RL: 13.939957843093275\n",
      "total final score rand: 61.345686773599944\n",
      "total final cost RL: 0.6000000000000005\n",
      "total final cost rand: 0.6000000000000005\n"
     ]
    }
   ],
   "source": [
    "print(\"total final score RL:\", total1)\n",
    "print(\"total final score rand:\", total2)\n",
    "print(\"total final cost RL:\", tc1/N)\n",
    "print(\"total final cost rand:\", tc2/N)\n",
    "# Saving the network\n",
    "#agent.to_pickle(\"somefile.pickle\")"
   ]
  },
  {
   "cell_type": "code",
   "execution_count": 11,
   "metadata": {},
   "outputs": [
    {
     "name": "stdout",
     "output_type": "stream",
     "text": [
      "ob: (0, [0, 0, 0, 0, 0, 0, 0, 0, 0, 0, 0], [-1e-07, -1e-07, -1e-07, -1e-07, -1e-07, -1e-07, -1e-07, -1e-07, -1e-07, -1e-07, -1e-07])\n",
      "ob1: (0, [1, 1, 1, 0, 0, 1, 0, 0, 1, 1, 0.6], [0.4418604651162791, 1.0, 0.004021447721179624, -1e-07, -1e-07, 0.01256281407035176, -1e-07, -1e-07, 0.5000000000000001, 0.304, -1e-07])\n",
      "full: (0, [1, 1, 1, 1, 1, 1, 1, 1, 1, 1, 0], [0.4418604651162791, 1.0, 0.004021447721179624, 0.005102040816326531, 0.043478260869565216, 0.01256281407035176, 0.014433828013823948, 0.5072463768115942, 0.5000000000000001, 0.304, -1e-07])\n",
      "ranks: [1, 2, 0, 5, 3, 4, 6]\n",
      "rank: (0.20203050891044216, True)\n",
      "ret: [(32, [0.627906976744186, 0.0, 0.00804289544235925, 0.020408163265306124, 0.046409379579872984, 0.013567839195979899, 0.006708680626143525, 0.6521739130434783, 0.5869565217391305, 0.27999999999999997]), (38, [0.7209302325581395, 0.0, 0.14611260053619304, 0.2806122448979592, 0.5114802149487054, 0.6231155778894473, 1.0, 0.6231884057971014, 0.32608695652173914, 0.08]), (82, [0.3372093023255814, 0.0, 0.005361930294906167, 0.005102040816326531, 0.06595017098192477, 0.008040201005025126, 0.002642813579995934, 0.7681159420289856, 0.673913043478261, 0.27999999999999997]), (103, [0.47674418604651164, 0.0, 0.03351206434316354, 0.0663265306122449, 0.0718124084025403, 0.032160804020100506, 0.011791014433828014, 0.6521739130434783, 0.5869565217391305, 0.27999999999999997]), (126, [0.5465116279069767, 0.0, 0.005361930294906167, 0.005102040816326531, 0.05471421592574499, 0.019095477386934675, 0.002439520227688555, 0.782608695652174, 0.8043478260869565, 0.4])]\n",
      "r: [1, 2, 0, 5, 3, 4, 6] 1.0315398493421766\n",
      "r: [1, 2, 0, 5, 3, 4, 6] 1.682551987289284\n",
      "r: [1, 2, 0, 5, 3, 4, 6] 1.0537992258063074\n",
      "r: [1, 2, 0, 5, 3, 4, 6] 1.0179245186293406\n",
      "r: [1, 2, 0, 5, 3, 4, 6] 1.0903827100809118\n",
      "rand: 2.4762560070198782\n"
     ]
    }
   ],
   "source": [
    "observation = test_env.next_element()\n",
    "print(\"ob:\",observation)\n",
    "done = False\n",
    "while True:\n",
    "        if done:\n",
    "            break;\n",
    "        action = agent.get_action(observation,env)\n",
    "        observation, reward, done, info = test_env.step(observation, action)\n",
    "        total_reward += reward\n",
    "        steps += 1\n",
    "        \n",
    "        prev = bool_feature(observation[1][:32])\n",
    "        total1 += (test_env.rank(observation)[0])\n",
    "        tc1 += observation[1][-1]\n",
    "\n",
    "ob_full = test_env.get(observation[0])\n",
    "\n",
    "print(\"ob1:\",observation)\n",
    "print(\"full:\",ob_full)\n",
    "ranks = test_env.compute_ranks(observation)\n",
    "print(\"ranks:\",ranks)\n",
    "print(\"rank:\",test_env.rank(observation))\n",
    "ret = env.retrieve(ranks, observation[2][:10], 5)\n",
    "print(\"ret:\",ret)\n",
    "for r in ret:\n",
    "    dist = np.linalg.norm(np.array(ob_full[2][:10]) - np.array(r[1]),2)\n",
    "    print(\"r:\",env.true_ranks[r[0]], dist)\n",
    "    \n",
    "d_r = np.linalg.norm( np.array(ob_full[2][:10]) - np.array(env.get(53)[1][:10]), 2)\n",
    "print(\"rand:\",d_r)\n",
    "    \n"
   ]
  },
  {
   "cell_type": "markdown",
   "metadata": {},
   "source": [
    "##### "
   ]
  },
  {
   "cell_type": "code",
   "execution_count": 12,
   "metadata": {},
   "outputs": [
    {
     "name": "stdout",
     "output_type": "stream",
     "text": [
      "full: [0.4418604651162791, 1.0, 0.004021447721179624, 0.005102040816326531, 0.043478260869565216, 0.01256281407035176, 0.014433828013823948, 0.5072463768115942, 0.5000000000000001, 0.304, -1e-07]\n",
      "n: (79, [0.47674418604651164, 1.0, 0.30697050938337805, 0.6479591836734695, 0.726428920371275, 0.20854271356783918, 0.10184996950599716, 0.7246376811594204, 0.5652173913043479, 0.2])\n",
      "n: (38, [0.7209302325581395, 0.0, 0.14611260053619304, 0.2806122448979592, 0.5114802149487054, 0.6231155778894473, 1.0, 0.6231884057971014, 0.32608695652173914, 0.08])\n",
      "n: (18, [0.5813953488372093, 1.0, 0.2975871313672923, 0.5765306122448981, 0.2418172936003908, 0.010050251256281407, 0.005488920512299248, 0.7391304347826086, 0.5434782608695653, 0.2])\n",
      "n: (177, [0.03488372093023256, 1.0, 0.35924932975871315, 0.5969387755102042, 0.6629213483146067, 0.39195979899497485, 0.21142508639967472, 0.49275362318840576, 0.23913043478260873, 0.040000000000000015])\n",
      "n: (162, [0.32558139534883723, 0.0, 0.1648793565683646, 0.31122448979591844, 0.06399609184171959, 1.0, 0.5968692823744663, 0.4347826086956522, 0.5217391304347826, 0.4])\n",
      "n: (277, [0.627906976744186, 1.0, 0.017426273458445038, 0.03571428571428572, 0.8954567659990229, 0.02562814070351759, 0.014840414718438708, 0.7681159420289856, 0.6521739130434783, 0.25999999999999995])\n",
      "n: (273, [0.4186046511627907, 1.0, 0.02278820375335121, 0.045918367346938785, 0.3444064484611627, 0.032160804020100506, 0.02663142915226672, 0.7391304347826086, 0.8695652173913044, 0.52])\n",
      "n: (209, [0.5930232558139535, 1.0, 0.10455764075067024, 0.19387755102040818, 0.6287249633610161, 0.021105527638190954, 0.011181134376905875, 0.5797101449275363, 0.4347826086956522, 0.15999999999999998])\n",
      "n: (323, [0.5348837209302325, 1.0, 0.36595174262734587, 0.5459183673469389, 0.15486077186126038, 0.01457286432160804, 0.06871315307989428, 0.6376811594202898, 0.30434782608695654, 0.040000000000000015])\n",
      "n: (30, [0.6511627906976745, 0.0, 0.30026809651474534, 0.6377551020408164, 0.43917928676111384, 0.021608040201005024, 0.006302093921528766, 0.6086956521739131, 0.5217391304347826, 0.24000000000000005])\n"
     ]
    }
   ],
   "source": [
    "def nearest_points(env, p, K):\n",
    "        dists = [ (np.linalg.norm( np.array(p) - np.array(env.data[i][1]), 2),i) for i in range(len(env.data)) ]\n",
    "        dists.sort()\n",
    "        return [ env.data[dists[i][1]] for i in range(K) ]\n",
    "    \n",
    "print(\"full:\", ob_full[2])\n",
    "NN = nearest_points(env,ob_full[1][:10],10)\n",
    "for n in NN:\n",
    "    print(\"n:\",n)"
   ]
  },
  {
   "cell_type": "code",
   "execution_count": null,
   "metadata": {},
   "outputs": [],
   "source": []
  }
 ],
 "metadata": {
  "kernelspec": {
   "display_name": "Python 3",
   "language": "python",
   "name": "python3"
  },
  "language_info": {
   "codemirror_mode": {
    "name": "ipython",
    "version": 3
   },
   "file_extension": ".py",
   "mimetype": "text/x-python",
   "name": "python",
   "nbconvert_exporter": "python",
   "pygments_lexer": "ipython3",
   "version": "3.6.7"
  }
 },
 "nbformat": 4,
 "nbformat_minor": 4
}
