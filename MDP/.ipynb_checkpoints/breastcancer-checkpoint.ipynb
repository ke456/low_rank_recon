{
 "cells": [
  {
   "cell_type": "code",
   "execution_count": 1,
   "metadata": {},
   "outputs": [],
   "source": [
    "from runtest import *"
   ]
  },
  {
   "cell_type": "code",
   "execution_count": 2,
   "metadata": {},
   "outputs": [
    {
     "name": "stdout",
     "output_type": "stream",
     "text": [
      "\n",
      "Q: 687.2746548008005\n",
      "R: 569.3864943697332\n",
      "\n",
      "Q: 505.06800445237633\n",
      "R: 531.2854182419932\n",
      "\n",
      "Q: 488.71062376930814\n",
      "R: 522.735132228182\n",
      "\n",
      "Q: 481.5484949245182\n",
      "R: 494.67328596242356\n",
      "\n",
      "Q: 457.1715445839856\n",
      "R: 466.00130284259274\n",
      "\n",
      "Q: 450.73731974260465\n",
      "R: 489.63589239022144\n",
      "\n",
      "Q: 442.6101167849011\n",
      "R: 471.85583261699\n",
      "\n",
      "Q: 431.8311209182938\n",
      "R: 444.13789626444014\n",
      "\n",
      "Q: 416.6130473217435\n",
      "R: 419.27390181266003\n"
     ]
    }
   ],
   "source": [
    "env = Data(unknown_rate=1)\n",
    "env.loadfile(\"breastcancer.csv\")\n",
    "env.normalize()\n",
    "env.alpha = 0\n",
    "env.cluster_K_means(7)\n",
    "n = len(env.data[0][1])\n",
    "\n",
    "costs = None\n",
    "if costs is None:\n",
    "    env.set_costs()\n",
    "else:\n",
    "    env.set_costs(costs)\n",
    "test_env = env.split(0.80)\n",
    "\n",
    "res = []\n",
    "for i in range(n):\n",
    "    env.max_cost = (i+1)/n\n",
    "    test_env.max_cost = env.max_cost\n",
    "    res.append( runtest(env,test_env,max_eps=1000, epsilon_decay=0.999) )\n",
    "    print()\n",
    "    print(\"Q:\",res[-1][0])\n",
    "    print(\"R:\",res[-1][1])\n",
    "    print(\"N:\",res[-1][2])\n",
    "    print(\"M:\",res[-1][3])\n",
    "    "
   ]
  },
  {
   "cell_type": "code",
   "execution_count": 3,
   "metadata": {},
   "outputs": [
    {
     "name": "stdout",
     "output_type": "stream",
     "text": [
      "Qs: [687.2746548008005, 505.06800445237633, 488.71062376930814, 481.5484949245182, 457.1715445839856, 450.73731974260465, 442.6101167849011, 431.8311209182938, 416.6130473217435]\n",
      "Rs: [569.3864943697332, 531.2854182419932, 522.735132228182, 494.67328596242356, 466.00130284259274, 489.63589239022144, 471.85583261699, 444.13789626444014, 419.27390181266003]\n"
     ]
    },
    {
     "data": {
      "image/png": "[encoded data removed]",
      "text/plain": [
       "<Figure size 432x288 with 1 Axes>"
      ]
     },
     "metadata": {
      "needs_background": "light"
     },
     "output_type": "display_data"
    }
   ],
   "source": [
    "Qs = [res[i][0] for i in range(len(res))]\n",
    "Rs = [res[i][1] for i in range(len(res))]\n",
    "Ns = [res[i][2] for i in range(len(res))]\n",
    "Ms = [res[i][3] for i in range(len(res))]\n",
    "print(\"Qs:\",Qs)\n",
    "print(\"Rs:\",Rs)\n",
    "\n",
    "import matplotlib.pyplot as plt\n",
    "x = [(i+1)/n for i in range(n)]\n",
    "plt.plot(x, Qs, x, Rs, x, Ns, x, Ms)\n",
    "plt.show()"
   ]
  },
  {
   "cell_type": "code",
   "execution_count": null,
   "metadata": {},
   "outputs": [],
   "source": []
  },
  {
   "cell_type": "code",
   "execution_count": null,
   "metadata": {},
   "outputs": [],
   "source": []
  }
 ],
 "metadata": {
  "kernelspec": {
   "display_name": "Python 3",
   "language": "python",
   "name": "python3"
  },
  "language_info": {
   "codemirror_mode": {
    "name": "ipython",
    "version": 3
   },
   "file_extension": ".py",
   "mimetype": "text/x-python",
   "name": "python",
   "nbconvert_exporter": "python",
   "pygments_lexer": "ipython3",
   "version": "3.8.3"
  }
 },
 "nbformat": 4,
 "nbformat_minor": 2
}
