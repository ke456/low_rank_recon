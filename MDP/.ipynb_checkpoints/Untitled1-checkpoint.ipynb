{
 "cells": [
  {
   "cell_type": "code",
   "execution_count": 1,
   "metadata": {},
   "outputs": [],
   "source": [
    "from runtest import *"
   ]
  },
  {
   "cell_type": "code",
   "execution_count": null,
   "metadata": {},
   "outputs": [
    {
     "name": "stdout",
     "output_type": "stream",
     "text": [
      "Episode 1251, reward: -0.041 eps: 0.535eps: 0.9500.330 eps: 0.8940.712 eps: 0.575 eps: 0.5650.346 eps: 0.536 0.513 0.329 eps: 0.485eps: 0.472 eps: 0.431 0.344 eps: 0.369 -0.041 eps: 0.972 0.038 eps: 0.616\r"
     ]
    }
   ],
   "source": [
    "distQ, distR, er = runtest(\"liver.csv\",max_eps=3000,max_cost=0.6)\n",
    "res = []\n",
    "for i in range(10):\n",
    "    res.append( runtest(\"liver.csv\",max_eps=3000,max_cost=(i+1)/10) )\n",
    "    print()\n",
    "    print(\"Q:\",res[-1][0])\n",
    "    print(\"R:\",res[-1][1])\n",
    "    "
   ]
  },
  {
   "cell_type": "code",
   "execution_count": null,
   "metadata": {},
   "outputs": [],
   "source": []
  },
  {
   "cell_type": "code",
   "execution_count": null,
   "metadata": {},
   "outputs": [],
   "source": []
  },
  {
   "cell_type": "code",
   "execution_count": null,
   "metadata": {},
   "outputs": [],
   "source": []
  }
 ],
 "metadata": {
  "kernelspec": {
   "display_name": "Python 3",
   "language": "python",
   "name": "python3"
  },
  "language_info": {
   "codemirror_mode": {
    "name": "ipython",
    "version": 3
   },
   "file_extension": ".py",
   "mimetype": "text/x-python",
   "name": "python",
   "nbconvert_exporter": "python",
   "pygments_lexer": "ipython3",
   "version": "3.6.7"
  }
 },
 "nbformat": 4,
 "nbformat_minor": 2
}
