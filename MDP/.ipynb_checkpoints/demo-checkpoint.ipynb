{
 "cells": [
  {
   "cell_type": "markdown",
   "metadata": {},
   "source": [
    "This is just a little demo of how the code works. First import the module Data"
   ]
  },
  {
   "cell_type": "code",
   "execution_count": 1,
   "metadata": {},
   "outputs": [],
   "source": [
    "import random\n",
    "from Data import *"
   ]
  },
  {
   "cell_type": "markdown",
   "metadata": {},
   "source": [
    "We get access to the Data class type, which can be used to load the data and provide many support function. We now create an instance of Data and load from a sample csv file. Finally, we normalize the value."
   ]
  },
  {
   "cell_type": "code",
   "execution_count": 2,
   "metadata": {},
   "outputs": [],
   "source": [
    "D = Data()\n",
    "D.loadfile(\"sample.csv\")\n",
    "D.normalize()"
   ]
  },
  {
   "cell_type": "markdown",
   "metadata": {},
   "source": [
    "For raw access:"
   ]
  },
  {
   "cell_type": "code",
   "execution_count": 3,
   "metadata": {},
   "outputs": [
    {
     "data": {
      "text/plain": [
       "[0.15263157894736842,\n",
       " 0.12055335968379449,\n",
       " 0.716577540106952,\n",
       " 0.48453608247422686,\n",
       " 0.2608695652173913,\n",
       " 0.606896551724138,\n",
       " 0.5443037974683544,\n",
       " 0.3018867924528301,\n",
       " 0.6561514195583596,\n",
       " 0.11689419795221842,\n",
       " 0.3902439024390244,\n",
       " 0.7289377289377289,\n",
       " 0.2867332382310984]"
      ]
     },
     "execution_count": 3,
     "metadata": {},
     "output_type": "execute_result"
    }
   ],
   "source": [
    "D.data[0][1]"
   ]
  },
  {
   "cell_type": "markdown",
   "metadata": {},
   "source": [
    "To get a copy of a point:"
   ]
  },
  {
   "cell_type": "code",
   "execution_count": 4,
   "metadata": {},
   "outputs": [],
   "source": [
    "t = D.get(4)"
   ]
  },
  {
   "cell_type": "markdown",
   "metadata": {},
   "source": [
    "To denote unknown values, denote it as None. For a point p with missing values, we can update the unknown feature f by calling D.update(p, f):"
   ]
  },
  {
   "cell_type": "code",
   "execution_count": 5,
   "metadata": {},
   "outputs": [
    {
     "name": "stdout",
     "output_type": "stream",
     "text": [
      "before (4, [0.16315789473684233, None, 0.6737967914438503, 0.7938144329896908, 0.1956521739130435, None, 0.2679324894514768, 0.5094339622641509, 0.2933753943217666, 0.11262798634812286, None, 0.7106227106227107, 0.20256776034236804])\n",
      "after: (4, [0.16315789473684233, None, 0.6737967914438503, 0.7938144329896908, 0.1956521739130435, None, 0.2679324894514768, 0.5094339622641509, 0.2933753943217666, 0.11262798634812286, 0.7154471544715448, 0.7106227106227107, 0.20256776034236804])\n"
     ]
    }
   ],
   "source": [
    "t[1][10] = None\n",
    "t[1][1] = None\n",
    "t[1][5] = None\n",
    "print(\"before\",t)\n",
    "D.update(t,10)\n",
    "print(\"after:\",t)"
   ]
  },
  {
   "cell_type": "markdown",
   "metadata": {},
   "source": [
    "You can get the binary vector of which features are known by calling bool_feature(p):"
   ]
  },
  {
   "cell_type": "code",
   "execution_count": 6,
   "metadata": {},
   "outputs": [
    {
     "name": "stdout",
     "output_type": "stream",
     "text": [
      "bool features:  [1, 0, 1, 1, 1, 0, 1, 1, 1, 1, 1, 1, 1]\n",
      "project p with f:  11\n"
     ]
    }
   ],
   "source": [
    "f = bool_feature(t[1])\n",
    "print(\"bool features: \", f)\n",
    "print(\"project p with f: \", len(proj(t[1],f)))"
   ]
  },
  {
   "cell_type": "markdown",
   "metadata": {},
   "source": [
    "To partition the dataset into training and test sets, simply call D.split(r), r = ratio, which returns the test set and keeps D to be the training set"
   ]
  },
  {
   "cell_type": "code",
   "execution_count": 7,
   "metadata": {},
   "outputs": [
    {
     "name": "stdout",
     "output_type": "stream",
     "text": [
      "D length: 152\n",
      "test length: 26\n"
     ]
    }
   ],
   "source": [
    "D_test = D.split(0.85)\n",
    "\n",
    "print(\"D length:\", len(D.data))\n",
    "print(\"test length:\", len(D_test.data))"
   ]
  },
  {
   "cell_type": "markdown",
   "metadata": {},
   "source": [
    "Let's use k-means as our clustering algorithm. Calling D.cluster_K_means(k) will set the Data's clustering algorithm as k-means."
   ]
  },
  {
   "cell_type": "code",
   "execution_count": 8,
   "metadata": {},
   "outputs": [
    {
     "name": "stdout",
     "output_type": "stream",
     "text": [
      "[0.06578947368421052, 0.09868421052631579, 0.08552631578947369, 0.21052631578947367, 0.06578947368421052, 0.1118421052631579, 0.08552631578947369, 0.13815789473684212, 0.08552631578947369, 0.05263157894736842]\n"
     ]
    },
    {
     "data": {
      "text/plain": [
       "array([[0.49052632, 0.41719368, 0.62513369, 0.60309278, 0.47826087,\n",
       "        0.20448276, 0.18797468, 0.2       , 0.22776025, 0.46331058,\n",
       "        0.16341463, 0.08315018, 0.19614836],\n",
       "       [0.3822807 , 0.11660079, 0.29661319, 0.35395189, 0.19130435,\n",
       "        0.39954023, 0.33656821, 0.3245283 , 0.3022082 , 0.16751991,\n",
       "        0.52737127, 0.57387057, 0.17318117],\n",
       "       [0.6111336 , 0.3861356 , 0.57754011, 0.5777161 , 0.32608696,\n",
       "        0.28328912, 0.09347614, 0.68069666, 0.34069401, 0.72309004,\n",
       "        0.12070044, 0.14652015, 0.29496324],\n",
       "       [0.70123355, 0.20930089, 0.63987299, 0.38498711, 0.42730978,\n",
       "        0.66023707, 0.56711498, 0.33726415, 0.49201498, 0.37987948,\n",
       "        0.50940041, 0.62190934, 0.66418509],\n",
       "       [0.25815789, 0.2013834 , 0.58983957, 0.60154639, 0.16956522,\n",
       "        0.31551724, 0.30021097, 0.71509434, 0.3318612 , 0.12303754,\n",
       "        0.49674797, 0.48058608, 0.17453638],\n",
       "       [0.31486068, 0.17728435, 0.54105064, 0.54244997, 0.25959079,\n",
       "        0.60851927, 0.4977662 , 0.33629301, 0.41065133, 0.17672154,\n",
       "        0.3974175 , 0.64619694, 0.1325837 ],\n",
       "       [0.49271255, 0.34204926, 0.55656109, 0.47739889, 0.31772575,\n",
       "        0.25092838, 0.08146706, 0.69956459, 0.13443339, 0.32547913,\n",
       "        0.28555347, 0.23724993, 0.2592999 ],\n",
       "       [0.72781955, 0.28863166, 0.51489687, 0.28301424, 0.39906832,\n",
       "        0.64220033, 0.55555556, 0.22371968, 0.47333634, 0.34588818,\n",
       "        0.41463415, 0.80359323, 0.50784593],\n",
       "       [0.60263158, 0.74809973, 0.55944056, 0.56780333, 0.22658863,\n",
       "        0.24748011, 0.07838364, 0.74746009, 0.23999029, 0.44230769,\n",
       "        0.18323952, 0.14116653, 0.2181499 ],\n",
       "       [0.31546053, 0.67020751, 0.47994652, 0.55219072, 0.23505435,\n",
       "        0.55172414, 0.43776371, 0.42688679, 0.58793375, 0.09481655,\n",
       "        0.3699187 , 0.64514652, 0.13159772]])"
      ]
     },
     "execution_count": 8,
     "metadata": {},
     "output_type": "execute_result"
    }
   ],
   "source": [
    "D.cluster_K_means(10)\n",
    "D.clustering.cluster_centers_"
   ]
  },
  {
   "cell_type": "code",
   "execution_count": 9,
   "metadata": {},
   "outputs": [
    {
     "name": "stdout",
     "output_type": "stream",
     "text": [
      "r: 92\n",
      "t: (92, [0.46315789473684194, 0.3814229249011858, 0.5989304812834224, 0.5876288659793815, 0.45652173913043476, 0.1724137931034483, 0.2151898734177215, 0.2075471698113207, 0.2681388012618297, 0.8122866894197953, 0.0, 0.07326007326007325, 0.14407988587731813])\n",
      "0.0\n",
      "projecting out dim: 0\n",
      "score: 0.1414213562373095\n",
      "projecting out dim: 1\n",
      "score: 0.2\n",
      "projecting out dim: 2\n",
      "score: 0.1414213562373095\n",
      "projecting out dim: 3\n",
      "score: 0.2\n",
      "projecting out dim: 4\n",
      "score: 0.282842712474619\n",
      "projecting out dim: 5\n",
      "score: 0.1414213562373095\n",
      "projecting out dim: 6\n",
      "score: 0.0\n",
      "projecting out dim: 7\n",
      "score: 0.31622776601683794\n",
      "projecting out dim: 8\n",
      "score: 0.0\n",
      "projecting out dim: 9\n",
      "score: 0.2449489742783178\n",
      "projecting out dim: 10\n",
      "score: 0.282842712474619\n",
      "projecting out dim: 11\n",
      "score: 0.3741657386773941\n"
     ]
    }
   ],
   "source": [
    "r = random.randint(0,130)\n",
    "print(\"r:\",r)\n",
    "t = D.get(r)\n",
    "p = t[1]\n",
    "print(\"t:\", t)\n",
    "\n",
    "print(D.score(t))\n",
    "for i in range(12):\n",
    "    print(\"projecting out dim:\", i)\n",
    "    p[i] = None\n",
    "    print(\"score:\", D.score(t))\n",
    "    D.update(t,i)"
   ]
  },
  {
   "cell_type": "markdown",
   "metadata": {},
   "source": [
    "Now, we compute the reward of state/action (s1,a) -> s2 as score(s1) - score(s2). This reward is positive\n",
    "if score(s2) < score(s1); this is obviously desirable since higher score means \"worse\" state. "
   ]
  },
  {
   "cell_type": "code",
   "execution_count": 10,
   "metadata": {},
   "outputs": [
    {
     "name": "stdout",
     "output_type": "stream",
     "text": [
      "t: (92, [None, None, None, None, None, None, None, None, None, None, None, None, None])\n",
      "score: 1.2\n",
      "\n",
      "REWARDS FOR A SINGLE ACTION\n",
      "reward of updating feature 0\n",
      "reward: 0.6481693154528939\n",
      "\n",
      "reward of updating feature 1\n",
      "reward: 0.6309506430300089\n",
      "\n",
      "reward of updating feature 2\n",
      "reward: 0.1375947510695077\n",
      "\n",
      "reward of updating feature 3\n",
      "reward: 0.4365957592160836\n",
      "\n",
      "reward of updating feature 4\n",
      "reward: 0.20836247121870155\n",
      "\n",
      "reward of updating feature 5\n",
      "reward: 1.0592953899263313\n",
      "\n",
      "reward of updating feature 6\n",
      "reward: 0.6312615171320209\n",
      "\n",
      "reward of updating feature 7\n",
      "reward: -0.06805612395254101\n",
      "\n",
      "reward of updating feature 8\n",
      "reward: 0.55378375008549\n",
      "\n",
      "reward of updating feature 9\n",
      "reward: 0.4052337860397278\n",
      "\n",
      "reward of updating feature 10\n",
      "reward: 0.3473403650795953\n",
      "\n",
      "reward of updating feature 11\n",
      "reward: 1.1015196927418982\n",
      "\n",
      "reward of updating feature 12\n",
      "reward: 0.24222051018559565\n",
      "\n"
     ]
    }
   ],
   "source": [
    "# set N random features None\n",
    "N = 13\n",
    "t = D.get(r)\n",
    "for i in range(N):\n",
    "    while True:\n",
    "        r = random.randint(0,12)\n",
    "        if t[1][r] != None:\n",
    "            break\n",
    "    t[1][r] = None\n",
    "print(\"t:\",t)\n",
    "print(\"score:\", D.score(t))\n",
    "\n",
    "print(\"\\nREWARDS FOR A SINGLE ACTION\")\n",
    "for i in range(len(t[1])):\n",
    "    if t[1][i] == None:\n",
    "        print(\"reward of updating feature\", i)\n",
    "        print(\"reward:\", D.reward(t,i))\n",
    "        print(\"\")"
   ]
  },
  {
   "cell_type": "markdown",
   "metadata": {},
   "source": [
    "If we want a list of actions to take, we can call D.actions(t), while D.next_state(state, action) will return the next state\n",
    "with the action applied."
   ]
  },
  {
   "cell_type": "code",
   "execution_count": 11,
   "metadata": {},
   "outputs": [
    {
     "name": "stdout",
     "output_type": "stream",
     "text": [
      "available actions: [0, 1, 2, 3, 4, 5, 6, 7, 8, 9, 10, 11, 12]\n",
      "next state with first available action applied: (92, [0.46315789473684194, None, None, None, None, None, None, None, None, None, None, None, None])\n"
     ]
    }
   ],
   "source": [
    "print(\"available actions:\", D.actions(t))\n",
    "print(\"next state with first available action applied:\", D.next_state(t,D.actions(t)[0]))"
   ]
  },
  {
   "cell_type": "code",
   "execution_count": null,
   "metadata": {},
   "outputs": [],
   "source": []
  }
 ],
 "metadata": {
  "kernelspec": {
   "display_name": "Python 3",
   "language": "python",
   "name": "python3"
  },
  "language_info": {
   "codemirror_mode": {
    "name": "ipython",
    "version": 3
   },
   "file_extension": ".py",
   "mimetype": "text/x-python",
   "name": "python",
   "nbconvert_exporter": "python",
   "pygments_lexer": "ipython3",
   "version": "3.7.1"
  }
 },
 "nbformat": 4,
 "nbformat_minor": 2
}
