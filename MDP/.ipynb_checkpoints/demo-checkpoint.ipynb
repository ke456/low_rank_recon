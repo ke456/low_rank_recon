{
 "cells": [
  {
   "cell_type": "markdown",
   "metadata": {},
   "source": [
    "This is just a little demo of how the code works. First import the module Data"
   ]
  },
  {
   "cell_type": "code",
   "execution_count": 10,
   "metadata": {},
   "outputs": [],
   "source": [
    "from Data import *"
   ]
  },
  {
   "cell_type": "markdown",
   "metadata": {},
   "source": [
    "We get access to the Data class type, which can be used to load the data and provide many support function. We now create an instance of Data and load from a sample csv file. Finally, we normalize the value."
   ]
  },
  {
   "cell_type": "code",
   "execution_count": 11,
   "metadata": {},
   "outputs": [],
   "source": [
    "D = Data()\n",
    "D.loadfile(\"sample.csv\")\n",
    "D.normalize()"
   ]
  },
  {
   "cell_type": "markdown",
   "metadata": {},
   "source": [
    "For raw access:"
   ]
  },
  {
   "cell_type": "code",
   "execution_count": 12,
   "metadata": {},
   "outputs": [
    {
     "data": {
      "text/plain": [
       "[0.0,\n",
       " 0.8421052631578949,\n",
       " 0.191699604743083,\n",
       " 0.572192513368984,\n",
       " 0.2577319587628866,\n",
       " 0.6195652173913043,\n",
       " 0.6275862068965516,\n",
       " 0.5738396624472574,\n",
       " 0.28301886792452835,\n",
       " 0.5930599369085174,\n",
       " 0.37201365187713303,\n",
       " 0.4552845528455285,\n",
       " 0.9706959706959707,\n",
       " 0.5613409415121255]"
      ]
     },
     "execution_count": 12,
     "metadata": {},
     "output_type": "execute_result"
    }
   ],
   "source": [
    "D.data[0][1]"
   ]
  },
  {
   "cell_type": "markdown",
   "metadata": {},
   "source": [
    "To get a copy of a point:"
   ]
  },
  {
   "cell_type": "code",
   "execution_count": 13,
   "metadata": {},
   "outputs": [],
   "source": [
    "p = D.get(4)"
   ]
  },
  {
   "cell_type": "markdown",
   "metadata": {},
   "source": [
    "To denote unknown values, denote it as None. For a point p with missing values, we can update the unknown feature f by calling D.update(p, f):"
   ]
  },
  {
   "cell_type": "code",
   "execution_count": 14,
   "metadata": {},
   "outputs": [
    {
     "name": "stdout",
     "output_type": "stream",
     "text": [
      "before (4, [0.0, None, 0.36561264822134387, 0.8074866310160428, 0.5360824742268042, 0.5217391304347826, 0.6275862068965516, 0.4957805907172996, 0.49056603773584906, 0.4447949526813881, None, 0.4552845528455285, 0.6080586080586081, 0.325962910128388])\n",
      "ater: (4, [0.0, None, 0.36561264822134387, 0.8074866310160428, 0.5360824742268042, 0.5217391304347826, 0.6275862068965516, 0.4957805907172996, 0.49056603773584906, 0.4447949526813881, 0.2593856655290102, 0.4552845528455285, 0.6080586080586081, 0.325962910128388])\n"
     ]
    }
   ],
   "source": [
    "p[1][10] = None\n",
    "p[1][1] = None\n",
    "print(\"before\",p)\n",
    "D.update(p,10)\n",
    "print(\"ater:\",p)"
   ]
  },
  {
   "cell_type": "markdown",
   "metadata": {},
   "source": [
    "You can get the binary vector of which features are known by calling bool_feature(p):"
   ]
  },
  {
   "cell_type": "code",
   "execution_count": 15,
   "metadata": {},
   "outputs": [
    {
     "data": {
      "text/plain": [
       "[1, 0, 1, 1, 1, 1, 1, 1, 1, 1, 1, 1, 1, 1]"
      ]
     },
     "execution_count": 15,
     "metadata": {},
     "output_type": "execute_result"
    }
   ],
   "source": [
    "bool_feature(p)"
   ]
  },
  {
   "cell_type": "markdown",
   "metadata": {},
   "source": [
    "To partition the dataset into training and test sets, simply call D.split(r), r = ratio, which returns the test set and keeps D to be the training set"
   ]
  },
  {
   "cell_type": "code",
   "execution_count": 16,
   "metadata": {},
   "outputs": [
    {
     "name": "stdout",
     "output_type": "stream",
     "text": [
      "D length: 27\n",
      "test length: 151\n"
     ]
    }
   ],
   "source": [
    "D_test = D.split(0.85)\n",
    "\n",
    "print(\"D length:\", len(D.data))\n",
    "print(\"test length:\", len(D_test.data))"
   ]
  },
  {
   "cell_type": "markdown",
   "metadata": {},
   "source": [
    "Let's use k-means as our clustering algorithm. Calling D.cluster_K_means(k) will set the Data's clustering algorithm as k-means."
   ]
  },
  {
   "cell_type": "code",
   "execution_count": 17,
   "metadata": {},
   "outputs": [
    {
     "data": {
      "text/plain": [
       "array([[0.5       , 0.32773279, 0.23791426, 0.47387906, 0.43576527,\n",
       "        0.19648829, 0.466313  , 0.41058098, 0.40493469, 0.41591847,\n",
       "        0.18548175, 0.48155097, 0.60580445, 0.15669922],\n",
       "       [0.92857143, 0.66503759, 0.62055336, 0.56149733, 0.56185567,\n",
       "        0.24534161, 0.25123153, 0.11241712, 0.65229111, 0.27985579,\n",
       "        0.53156997, 0.18466899, 0.19099948, 0.23986142],\n",
       "       [0.        , 0.69736842, 0.2484472 , 0.5592055 , 0.35935199,\n",
       "        0.32763975, 0.54285714, 0.51627486, 0.23989218, 0.43668319,\n",
       "        0.33971234, 0.48199768, 0.68550497, 0.61330752]])"
      ]
     },
     "execution_count": 17,
     "metadata": {},
     "output_type": "execute_result"
    }
   ],
   "source": [
    "D.cluster_K_means(3)\n",
    "D.clustering.cluster_centers_"
   ]
  },
  {
   "cell_type": "code",
   "execution_count": null,
   "metadata": {},
   "outputs": [],
   "source": []
  },
  {
   "cell_type": "code",
   "execution_count": null,
   "metadata": {},
   "outputs": [],
   "source": []
  }
 ],
 "metadata": {
  "kernelspec": {
   "display_name": "Python 3",
   "language": "python",
   "name": "python3"
  },
  "language_info": {
   "codemirror_mode": {
    "name": "ipython",
    "version": 3
   },
   "file_extension": ".py",
   "mimetype": "text/x-python",
   "name": "python",
   "nbconvert_exporter": "python",
   "pygments_lexer": "ipython3",
   "version": "3.7.1"
  }
 },
 "nbformat": 4,
 "nbformat_minor": 2
}
