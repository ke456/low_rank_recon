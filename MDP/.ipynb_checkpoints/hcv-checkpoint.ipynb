{
 "cells": [
  {
   "cell_type": "code",
   "execution_count": 1,
   "metadata": {},
   "outputs": [],
   "source": [
    "from runtest import *"
   ]
  },
  {
   "cell_type": "code",
   "execution_count": 2,
   "metadata": {},
   "outputs": [
    {
     "name": "stdout",
     "output_type": "stream",
     "text": [
      "\n",
      "Q: 469.0616494588666\n",
      "R: 462.84293044121137\n",
      "\n",
      "Q: 376.8715712840969\n",
      "R: 456.853761927305\n",
      "\n",
      "Q: 306.87312836959757\n",
      "R: 421.6852100537966\n",
      "\n",
      "Q: 265.6008120000164\n",
      "R: 419.8954530214457\n",
      "\n",
      "Q: 277.54530524484716\n",
      "R: 393.27107497300034\n",
      "\n",
      "Q: 246.5005259348422\n",
      "R: 366.777026785087\n",
      "\n",
      "Q: 249.27356658848498\n",
      "R: 387.8712570203612\n",
      "\n",
      "Q: 237.2872915057072\n",
      "R: 308.3244178900513\n",
      "\n",
      "Q: 228.95214094383994\n",
      "R: 306.96482798312775\n",
      "\n",
      "Q: 247.62421293109801\n",
      "R: 274.4807711035176\n",
      "\n",
      "Q: 265.479073429477\n",
      "R: 268.75863904666653\n",
      "\n",
      "Q: 299.8955100760374\n",
      "R: 255.8094253436474\n",
      "\n",
      "Q: 238.43596498772266\n",
      "R: 238.43596498772266\n"
     ]
    }
   ],
   "source": [
    "env = Data(unknown_rate=1)\n",
    "env.loadfile(\"hcv.csv\")\n",
    "env.normalize()\n",
    "env.alpha = 0\n",
    "env.cluster_K_means(7)\n",
    "n = len(env.data[0][1])\n",
    "\n",
    "costs = None\n",
    "if costs is None:\n",
    "    env.set_costs()\n",
    "else:\n",
    "    env.set_costs(costs)\n",
    "test_env = env.split(0.80)\n",
    "\n",
    "res = []\n",
    "for i in range(n):\n",
    "    env.max_cost = (i+1)/n\n",
    "    test_env.max_cost = env.max_cost\n",
    "    res.append( runtest(env,test_env,max_eps=1000, epsilon_decay=0.999) )\n",
    "    print()\n",
    "    print(\"Q:\",res[-1][0])\n",
    "    print(\"R:\",res[-1][1])\n",
    "    print(\"N:\",res[-1][2])\n",
    "    print(\"M:\",res[-1][3])\n",
    "    "
   ]
  },
  {
   "cell_type": "code",
   "execution_count": 3,
   "metadata": {},
   "outputs": [
    {
     "name": "stdout",
     "output_type": "stream",
     "text": [
      "Qs: [469.0616494588666, 376.8715712840969, 306.87312836959757, 265.6008120000164, 277.54530524484716, 246.5005259348422, 249.27356658848498, 237.2872915057072, 228.95214094383994, 247.62421293109801, 265.479073429477, 299.8955100760374, 238.43596498772266]\n",
      "Rs: [462.84293044121137, 456.853761927305, 421.6852100537966, 419.8954530214457, 393.27107497300034, 366.777026785087, 387.8712570203612, 308.3244178900513, 306.96482798312775, 274.4807711035176, 268.75863904666653, 255.8094253436474, 238.43596498772266]\n"
     ]
    },
    {
     "data": {
      "image/png": "[encoded data removed]",
      "text/plain": [
       "<Figure size 432x288 with 1 Axes>"
      ]
     },
     "metadata": {
      "needs_background": "light"
     },
     "output_type": "display_data"
    }
   ],
   "source": [
    "Qs = [res[i][0] for i in range(len(res))]\n",
    "Rs = [res[i][1] for i in range(len(res))]\n",
    "Ns = [res[i][2] for i in range(len(res))]\n",
    "Ms = [res[i][3] for i in range(len(res))]\n",
    "print(\"Qs:\",Qs)\n",
    "print(\"Rs:\",Rs)\n",
    "\n",
    "import matplotlib.pyplot as plt\n",
    "x = [(i+1)/n for i in range(n)]\n",
    "plt.plot(x, Qs, x, Rs, x, Qs, x, Ms)\n",
    "plt.show()"
   ]
  },
  {
   "cell_type": "code",
   "execution_count": null,
   "metadata": {},
   "outputs": [],
   "source": []
  },
  {
   "cell_type": "code",
   "execution_count": null,
   "metadata": {},
   "outputs": [],
   "source": []
  }
 ],
 "metadata": {
  "kernelspec": {
   "display_name": "Python 3",
   "language": "python",
   "name": "python3"
  },
  "language_info": {
   "codemirror_mode": {
    "name": "ipython",
    "version": 3
   },
   "file_extension": ".py",
   "mimetype": "text/x-python",
   "name": "python",
   "nbconvert_exporter": "python",
   "pygments_lexer": "ipython3",
   "version": "3.8.3"
  }
 },
 "nbformat": 4,
 "nbformat_minor": 2
}
