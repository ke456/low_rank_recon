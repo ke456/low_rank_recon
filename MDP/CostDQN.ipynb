{
 "cells": [
  {
   "cell_type": "code",
   "execution_count": 1,
   "metadata": {},
   "outputs": [],
   "source": [
    "from deep_q_network import DQNAgent\n",
    "from double_deep_q_network import DoubleDQNAgent\n",
    "\n",
    "from base_rl_agent_torch import ReplayMemory\n",
    "from base_neural_model import EstimatorModelBase\n",
    "import utils\n",
    "import random\n",
    "import copy\n",
    "from Data import *"
   ]
  },
  {
   "cell_type": "code",
   "execution_count": 2,
   "metadata": {},
   "outputs": [],
   "source": [
    "# Fix seeds for reproducibility.\n",
    "# utils.fix_seeds()"
   ]
  },
  {
   "cell_type": "code",
   "execution_count": 3,
   "metadata": {},
   "outputs": [
    {
     "name": "stdout",
     "output_type": "stream",
     "text": [
      "[0.07920792079207921, 0.07260726072607261, 0.1419141914191419, 0.19471947194719472, 0.24422442244224424, 0.1617161716171617, 0.10561056105610561]\n",
      "costs: [0.0016650848360723978, 0.0016650848360723978, 0.0016650848360723978, 0.0016650848360723978, 0.01210516675824633, 0.008658441147576468, 0.025808814959122166, 0.17133722963184975, 0.14536190618912032, 0.14536190618912032, 0.14536190618912032, 0.16800705995970494, 0.17133722963184975]\n"
     ]
    }
   ],
   "source": [
    "env = Data(unknown_rate=1)\n",
    "env.loadfile(\"heart.csv\")\n",
    "env.normalize()\n",
    "env.alpha = 0.5\n",
    "env.cluster_K_means(7)\n",
    "# makes the costs uniform\n",
    "#env.set_costs()\n",
    "# this are official costs listed at the time from OHIP fee schedule\n",
    "costs = [1, 1, 1, 1, 7.27, 5.20, 15.5, 102.9, 87.3, 87.3, 87.3, 100.9, 102.9]\n",
    "total_cost = sum(costs)\n",
    "costs = [costs[i]/total_cost for i in range(len(costs))]\n",
    "env.set_costs(costs)\n",
    "# setting groups, where getting a single attribute of the group gives the rest for free\n",
    "groups = [[8,9,10],[7,12]]\n",
    "env.set_groups(groups)\n",
    "# max_cost is the fixed maximum cost the agent can take\n",
    "env.max_cost = 0.18\n",
    "# partition into training/test sets\n",
    "test_env = env.split(0.85)\n",
    "print(\"costs:\",costs)"
   ]
  },
  {
   "cell_type": "code",
   "execution_count": 4,
   "metadata": {},
   "outputs": [],
   "source": [
    "MAX_EPISODES = 5000\n",
    "MAX_STEPS = 15\n",
    "BATCH_SIZE = 32\n",
    "buffer = ReplayMemory(100)\n",
    "\n",
    "# Initiate the agent\n",
    "model = EstimatorModelBase\n",
    "agent = DoubleDQNAgent(env, \n",
    "                       model, \n",
    "                       buffer,max_steps=MAX_STEPS, \n",
    "                       max_episodes=MAX_EPISODES,\n",
    "                       gamma=0.7,\n",
    "                       epsilon_decay=0.9995,\n",
    "                       exploration_penalty=-0.01,\n",
    "                       verbose=0 # Verbosity level\n",
    "                      )"
   ]
  },
  {
   "cell_type": "code",
   "execution_count": 5,
   "metadata": {},
   "outputs": [
    {
     "name": "stdout",
     "output_type": "stream",
     "text": [
      "Episode 4999, reward: 0.229 eps: 0.0828ward: 0.231 eps: 0.8920.229 eps: 0.420 0.334 eps: 0.369reward: 0.334 eps: 0.316 reward: 0.229 eps: 0.260 reward: 0.334 eps: 0.254 reward: 0.229 eps: 0.103\r"
     ]
    }
   ],
   "source": [
    "#Train\n",
    "episode_rewards = agent.train(env, MAX_EPISODES, MAX_STEPS, BATCH_SIZE)"
   ]
  },
  {
   "cell_type": "markdown",
   "metadata": {},
   "source": [
    "We want to plot the reward per episode to examine agent performance."
   ]
  },
  {
   "cell_type": "code",
   "execution_count": 6,
   "metadata": {},
   "outputs": [
    {
     "data": {
      "image/png": "[encoded data removed]",
      "text/plain": [
       "<Figure size 432x288 with 1 Axes>"
      ]
     },
     "metadata": {
      "needs_background": "light"
     },
     "output_type": "display_data"
    }
   ],
   "source": [
    "def plot_reward_per_episode(episode_rewards):\n",
    "    import matplotlib.pyplot as plt\n",
    "    episode_rewards = episode_rewards[0:1000]\n",
    "    x = [i for i in range(len(episode_rewards))]\n",
    "    plt.plot(x, episode_rewards)\n",
    "    \n",
    "plot_reward_per_episode(episode_rewards)"
   ]
  },
  {
   "cell_type": "code",
   "execution_count": 7,
   "metadata": {},
   "outputs": [
    {
     "name": "stdout",
     "output_type": "stream",
     "text": [
      "cost: 0.17278585343923267\n",
      "cost: 0.17278585343923267\n",
      "cost: 0.17278585343923267\n",
      "cost: 0.17278585343923267\n",
      "cost: 0.17278585343923267\n",
      "cost: 0.17278585343923267\n",
      "cost: 0.17278585343923267\n",
      "cost: 0.17278585343923267\n",
      "cost: 0.17278585343923267\n",
      "cost: 0.17278585343923267\n",
      "cost: 0.17278585343923267\n",
      "cost: 0.17278585343923267\n",
      "cost: 0.17278585343923267\n",
      "cost: 0.17278585343923267\n",
      "cost: 0.17278585343923267\n",
      "cost: 0.17278585343923267\n",
      "cost: 0.17278585343923267\n",
      "cost: 0.17278585343923267\n",
      "cost: 0.17278585343923267\n",
      "cost: 0.17278585343923267\n",
      "cost: 0.17278585343923267\n",
      "cost: 0.17278585343923267\n",
      "cost: 0.17278585343923267\n",
      "cost: 0.17278585343923267\n",
      "cost: 0.17278585343923267\n",
      "cost: 0.17278585343923267\n",
      "cost: 0.17278585343923267\n",
      "cost: 0.17278585343923267\n",
      "cost: 0.17278585343923267\n",
      "cost: 0.17278585343923267\n",
      "cost: 0.17278585343923267\n",
      "cost: 0.17278585343923267\n",
      "cost: 0.17278585343923267\n",
      "cost: 0.17278585343923267\n",
      "cost: 0.17278585343923267\n",
      "cost: 0.17278585343923267\n",
      "cost: 0.17278585343923267\n",
      "cost: 0.17278585343923267\n",
      "cost: 0.17278585343923267\n",
      "cost: 0.17278585343923267\n",
      "cost: 0.17278585343923267\n",
      "cost: 0.17278585343923267\n",
      "cost: 0.17278585343923267\n",
      "cost: 0.17278585343923267\n",
      "cost: 0.17278585343923267\n",
      "total final score RL: 7.498798382316135\n",
      "total final score rand: 37.08136112051976\n",
      "total final cost RL: 7.775363404765464\n",
      "total final cost rand: 6.422631833091899\n"
     ]
    }
   ],
   "source": [
    "\n",
    "for iterations in range(1):\n",
    "    # Now we evaluate the trained model by taking greedy actions\n",
    "    total1 = 0\n",
    "    total2 = 0\n",
    "    tc1 = 0\n",
    "    tc2 = 0\n",
    "\n",
    "    N=len(test_env.data)\n",
    "    test_env.it = 0\n",
    "    for it in range(N):\n",
    "        observation = test_env.next_element() # Current observed state\n",
    "        ob_cp = (copy.copy(observation[0]),copy.copy(observation[1]))\n",
    "        #print(\"ob #:\",observation[0])\n",
    "        init_s = test_env.score(observation)[0]\n",
    "        total_reward = 0\n",
    "        agent.epsilon = 0\n",
    "        i= 0\n",
    "        done = False\n",
    "        steps = 0\n",
    "        cost = 0\n",
    "\n",
    "        while True:\n",
    "            if done:\n",
    "                break;\n",
    "            action = agent.get_action(observation,env)\n",
    "            observation, reward, done, info = test_env.step(observation, action)\n",
    "            total_reward += reward\n",
    "            steps += 1\n",
    "        if (observation[1][-1] > test_env.max_cost):\n",
    "            print(\"exceeded cost:\", observation[1][-1])\n",
    "        else:\n",
    "            print(\"cost:\", observation[1][-1])\n",
    "        total1 += (test_env.score(observation)[0])\n",
    "        tc1 += observation[1][-1]\n",
    "\n",
    "        observation = ob_cp\n",
    "        done = False\n",
    "        init_s = test_env.score(observation)[0]\n",
    "        s2 = 0\n",
    "        cost = 0\n",
    "        while True:\n",
    "            if done:\n",
    "                break;\n",
    "            actions = test_env.actions(observation)\n",
    "            if action != -1 and action < len(observation[1])-1:\n",
    "                cost += env.costs[action]\n",
    "            if len(actions) == 0:\n",
    "                break\n",
    "            r = random.randint(0,len(actions)-1)\n",
    "            action = actions[r]\n",
    "            s2 += 1\n",
    "\n",
    "            observation, reward, done, info = test_env.step(observation, action)\n",
    "        total2+=(test_env.score(observation)[0])\n",
    "        tc2 += observation[1][-1]\n",
    "\n",
    "    print(\"total final score RL:\", total1)\n",
    "    print(\"total final score rand:\", total2)\n",
    "    print(\"total final cost RL:\", tc1)\n",
    "    print(\"total final cost rand:\", tc2)\n"
   ]
  },
  {
   "cell_type": "code",
   "execution_count": 8,
   "metadata": {},
   "outputs": [],
   "source": [
    "# Saving the network\n",
    "#agent.to_pickle(\"somefile.pickle\")"
   ]
  },
  {
   "cell_type": "code",
   "execution_count": null,
   "metadata": {},
   "outputs": [],
   "source": []
  },
  {
   "cell_type": "code",
   "execution_count": null,
   "metadata": {},
   "outputs": [],
   "source": []
  }
 ],
 "metadata": {
  "kernelspec": {
   "display_name": "Python 3",
   "language": "python",
   "name": "python3"
  },
  "language_info": {
   "codemirror_mode": {
    "name": "ipython",
    "version": 3
   },
   "file_extension": ".py",
   "mimetype": "text/x-python",
   "name": "python",
   "nbconvert_exporter": "python",
   "pygments_lexer": "ipython3",
   "version": "3.7.6"
  }
 },
 "nbformat": 4,
 "nbformat_minor": 4
}
