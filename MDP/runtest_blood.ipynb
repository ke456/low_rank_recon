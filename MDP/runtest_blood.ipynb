{
 "cells": [
  {
   "cell_type": "code",
   "execution_count": 14,
   "metadata": {},
   "outputs": [],
   "source": [
    "from runtest import *\n",
    "from Data_binary import *\n",
    "from statistics import median"
   ]
  },
  {
   "cell_type": "code",
   "execution_count": 15,
   "metadata": {},
   "outputs": [
    {
     "name": "stdout",
     "output_type": "stream",
     "text": [
      "training points: 493\n",
      "test points: 122\n"
     ]
    }
   ],
   "source": [
    "env = Data(unknown_rate=1)\n",
    "env.loadfile(\"hcv.csv\") # change this to the test file\n",
    "env.normalize()\n",
    "env.alpha = 0\n",
    "env.cluster_K_means(7)\n",
    "# this makes it so when we do the ranking, we only check against this number\n",
    "# of data points; ignore for now\n",
    "#env.set_validation(2000)\n",
    "# makes the costs uniform; we won't have groups either\n",
    "env.set_costs()\n",
    "\n",
    "# partition into training/test sets\n",
    "test_env = env.split(0.80)\n",
    "print(\"training points:\", len(env.data))\n",
    "print(\"test points:\", len(test_env.data))"
   ]
  },
  {
   "cell_type": "code",
   "execution_count": 16,
   "metadata": {},
   "outputs": [
    {
     "name": "stdout",
     "output_type": "stream",
     "text": [
      "At cost: 0.07692307692307693 853.0716263728578 885.4901174697025\n",
      "At cost: 0.15384615384615385 527.4533755358774 778.2202288903942\n",
      "At cost: 0.23076923076923078 466.8361426900121 698.8330724819867\n",
      "At cost: 0.3076923076923077 437.97181821748984 634.6011807355438\n",
      "At cost: 0.38461538461538464 391.7404457170875 603.4683408830288\n",
      "At cost: 0.46153846153846156 375.0438471146115 541.5522190060902\n",
      "At cost: 0.5384615384615384 385.54842173308754 504.5741092660503\n",
      "At cost: 0.6153846153846154 264.0262231995554 462.4476336120776\n",
      "At cost: 0.6923076923076923 254.07919042527533 411.0127964487623\n",
      "At cost: 0.7692307692307693 241.82507757632436 356.7931905307792\n",
      "At cost: 0.8461538461538461 212.5433491904986 313.81062550383854\n",
      "At cost: 0.9230769230769231 208.9195434222451 248.29045956933734\n",
      "At cost: 1.0 203.21726308670355 203.21726308670355\n"
     ]
    }
   ],
   "source": [
    "costs = [(i+1)/13 for i in range(13)] # list of maximum budgets\n",
    "results = [] # stores all the results for each value of budget\n",
    "for c in costs:\n",
    "    env.max_cost = c\n",
    "    test_env.max_cost = c\n",
    "    # take the average of 3 trainings\n",
    "    r1 = []\n",
    "    r2 = []\n",
    "    for i in range(3):\n",
    "        rtemp = runtest(env,test_env)\n",
    "        r1.append(rtemp[2])\n",
    "        r2.append(rtemp[3])\n",
    "    print(\"At cost:\", c, median(r1), median(r2))\n",
    "    results.append([r1,r2])"
   ]
  },
  {
   "cell_type": "code",
   "execution_count": 17,
   "metadata": {},
   "outputs": [
    {
     "data": {
      "image/png": "[encoded data removed]",
      "text/plain": [
       "<Figure size 432x288 with 1 Axes>"
      ]
     },
     "metadata": {
      "needs_background": "light"
     },
     "output_type": "display_data"
    }
   ],
   "source": [
    "import matplotlib.pyplot as plt\n",
    "\n",
    "# this value is the total distance between p and 5 closest predicted points to p\n",
    "resRL = [median(results[i][0]) for i in range(len(results))]\n",
    "resRAND = [median(results[i][1]) for i in range(len(results))]\n",
    "plt.plot(costs, resRL, 'r', costs, resRAND)\n",
    "plt.show()"
   ]
  },
  {
   "cell_type": "code",
   "execution_count": 5,
   "metadata": {},
   "outputs": [],
   "source": [
    "# we will write the results to BENCHMARK/<test>.csv\n",
    "f = open('BENCHMARK/hcv_test.csv', 'w')\n",
    "\n",
    "def write(f,lst):\n",
    "    for l in lst:\n",
    "        f.write(str(l))\n",
    "        f.write(' ')\n",
    "\n",
    "# first write the number of test points\n",
    "f.write(str(len(test_env.data)))\n",
    "f.write('\\n')\n",
    "        \n",
    "# write the cost\n",
    "write(f,costs)\n",
    "f.write('\\n')\n",
    "\n",
    "# write the RL result\n",
    "write(f,resRL)\n",
    "f.write('\\n')\n",
    "\n",
    "# finally write the random results\n",
    "write(f, resRAND)\n",
    "f.write('\\n')\n",
    "\n",
    "f.close()"
   ]
  },
  {
   "cell_type": "code",
   "execution_count": null,
   "metadata": {},
   "outputs": [],
   "source": []
  }
 ],
 "metadata": {
  "kernelspec": {
   "display_name": "Python 3",
   "language": "python",
   "name": "python3"
  },
  "language_info": {
   "codemirror_mode": {
    "name": "ipython",
    "version": 3
   },
   "file_extension": ".py",
   "mimetype": "text/x-python",
   "name": "python",
   "nbconvert_exporter": "python",
   "pygments_lexer": "ipython3",
   "version": "3.8.5"
  }
 },
 "nbformat": 4,
 "nbformat_minor": 4
}
