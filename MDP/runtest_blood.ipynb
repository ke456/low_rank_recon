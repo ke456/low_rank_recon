{
 "cells": [
  {
   "cell_type": "code",
   "execution_count": 9,
   "metadata": {},
   "outputs": [],
   "source": [
    "from runtest import *\n",
    "from Data_binary import *"
   ]
  },
  {
   "cell_type": "code",
   "execution_count": 10,
   "metadata": {},
   "outputs": [
    {
     "name": "stdout",
     "output_type": "stream",
     "text": [
      "training points: 493\n",
      "test points: 122\n"
     ]
    }
   ],
   "source": [
    "env = Data(unknown_rate=1)\n",
    "env.loadfile(\"hcv.csv\")\n",
    "env.normalize()\n",
    "env.alpha = 0\n",
    "env.cluster_K_means(7)\n",
    "# this makes it so when we do the ranking, we only check against this number\n",
    "# of data points\n",
    "#env.set_validation(2000)\n",
    "# makes the costs uniform; we won't have groups either\n",
    "env.set_costs()\n",
    "\n",
    "# partition into training/test sets\n",
    "test_env = env.split(0.80)\n",
    "print(\"training points:\", len(env.data))\n",
    "print(\"test points:\", len(test_env.data))"
   ]
  },
  {
   "cell_type": "code",
   "execution_count": 22,
   "metadata": {},
   "outputs": [
    {
     "name": "stdout",
     "output_type": "stream",
     "text": [
      "At cost: 0.07692307692307693\n",
      "At cost: 0.15384615384615385\n",
      "At cost: 0.23076923076923078\n",
      "At cost: 0.3076923076923077\n",
      "At cost: 0.38461538461538464\n",
      "At cost: 0.46153846153846156\n",
      "At cost: 0.5384615384615384\n",
      "At cost: 0.6153846153846154\n",
      "At cost: 0.6923076923076923\n",
      "At cost: 0.7692307692307693\n",
      "At cost: 0.8461538461538461\n",
      "At cost: 0.9230769230769231\n",
      "At cost: 1.0\n"
     ]
    }
   ],
   "source": [
    "costs = [(i+1)/13 for i in range(13)] # list of maximum budgets\n",
    "results = [] # stores all the results for each value of budget\n",
    "for c in costs:\n",
    "    env.max_cost = c\n",
    "    test_env.max_cost = c\n",
    "    print(\"At cost:\", c)\n",
    "    results.append(runtest(env,test_env))"
   ]
  },
  {
   "cell_type": "code",
   "execution_count": 23,
   "metadata": {},
   "outputs": [
    {
     "data": {
      "image/png": "[encoded data removed]",
      "text/plain": [
       "<Figure size 432x288 with 1 Axes>"
      ]
     },
     "metadata": {
      "needs_background": "light"
     },
     "output_type": "display_data"
    }
   ],
   "source": [
    "import matplotlib.pyplot as plt\n",
    "\n",
    "# this value is the total distance between p and 5 closest predicted points to p\n",
    "resRL = [results[i][0] for i in range(len(results))]\n",
    "resRAND = [results[i][1] for i in range(len(results))]\n",
    "plt.plot(costs, resRL, costs, resRAND)\n",
    "plt.show()"
   ]
  },
  {
   "cell_type": "code",
   "execution_count": 24,
   "metadata": {},
   "outputs": [
    {
     "name": "stdout",
     "output_type": "stream",
     "text": [
      "[456.2105626517485, 447.3937325558502, 423.7289678518197, 367.3876781354123, 375.13554733787436, 356.472949699833, 339.43106632622636, 292.0660794856351, 284.83714104734986, 255.2131050822163, 245.47028668744733, 216.46131172626002, 208.95419087949193]\n"
     ]
    }
   ],
   "source": [
    "print(resRAND)"
   ]
  },
  {
   "cell_type": "code",
   "execution_count": null,
   "metadata": {},
   "outputs": [],
   "source": []
  }
 ],
 "metadata": {
  "kernelspec": {
   "display_name": "Python 3",
   "language": "python",
   "name": "python3"
  },
  "language_info": {
   "codemirror_mode": {
    "name": "ipython",
    "version": 3
   },
   "file_extension": ".py",
   "mimetype": "text/x-python",
   "name": "python",
   "nbconvert_exporter": "python",
   "pygments_lexer": "ipython3",
   "version": "3.8.5"
  }
 },
 "nbformat": 4,
 "nbformat_minor": 4
}
