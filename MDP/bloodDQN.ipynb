{
 "cells": [
  {
   "cell_type": "code",
   "execution_count": 7,
   "metadata": {},
   "outputs": [],
   "source": [
    "from deep_q_network import DQNAgent\n",
    "from double_deep_q_network import DoubleDQNAgent\n",
    "\n",
    "from base_rl_agent_torch import ReplayMemory\n",
    "from base_neural_model import EstimatorModelBase\n",
    "import utils\n",
    "import random\n",
    "import copy\n",
    "from Data_binary import *"
   ]
  },
  {
   "cell_type": "code",
   "execution_count": 8,
   "metadata": {},
   "outputs": [],
   "source": [
    "# Fix seeds for reproducibility.\n",
    "utils.fix_seeds(30)"
   ]
  },
  {
   "cell_type": "code",
   "execution_count": 9,
   "metadata": {},
   "outputs": [
    {
     "name": "stdout",
     "output_type": "stream",
     "text": [
      "test points: 122\n"
     ]
    }
   ],
   "source": [
    "env = Data(unknown_rate=1)\n",
    "env.loadfile(\"hcvdat0.csv\")\n",
    "env.normalize()\n",
    "env.alpha = 0\n",
    "env.cluster_K_means(7)\n",
    "# this makes it so when we do the ranking, we only check against this number\n",
    "# of data points\n",
    "#env.set_validation(2000)\n",
    "# makes the costs uniform; we won't have groups either\n",
    "env.set_costs()\n",
    "# max_cost is the fixed maximum cost the agent can take\n",
    "env.max_cost = 6/13\n",
    "# partition into training/test sets\n",
    "test_env = env.split(0.80)\n",
    "print(\"training points:\", len(env.data))\n",
    "print(\"test points:\", len(test_env.data))"
   ]
  },
  {
   "cell_type": "code",
   "execution_count": 10,
   "metadata": {},
   "outputs": [],
   "source": [
    "MAX_EPISODES = 5000\n",
    "MAX_STEPS = 32\n",
    "BATCH_SIZE = 32\n",
    "buffer = ReplayMemory(100)\n",
    "\n",
    "# Initiate the agent\n",
    "model = EstimatorModelBase\n",
    "agent = DoubleDQNAgent(env, \n",
    "                       model, \n",
    "                       buffer,max_steps=MAX_STEPS, \n",
    "                       max_episodes=MAX_EPISODES,\n",
    "                       gamma=0.8,\n",
    "                       epsilon_decay=0.9995,\n",
    "                       exploration_penalty=-0.0,\n",
    "                       verbose=0 # Verbosity level\n",
    "                      )"
   ]
  },
  {
   "cell_type": "code",
   "execution_count": 11,
   "metadata": {},
   "outputs": [
    {
     "name": "stdout",
     "output_type": "stream",
     "text": [
      "Episode 4999, reward: 19.643 eps: 0.082.434 eps: 0.977 20.785 eps: 0.952 0.947 eps: 0.944 21.814 eps: 0.841 20.826 eps: 0.73422.006 eps: 0.724 0.66221.479 eps: 0.657 0.593 21.761 eps: 0.580 0.52422.006 eps: 0.421 13.881 eps: 0.417 eps: 0.405 22.006 eps: 0.38621.069 eps: 0.20119.643 eps: 0.085\r"
     ]
    }
   ],
   "source": [
    "#Train\n",
    "episode_rewards = agent.train(env, MAX_EPISODES, MAX_STEPS, BATCH_SIZE)"
   ]
  },
  {
   "cell_type": "markdown",
   "metadata": {},
   "source": [
    "We want to plot the reward per episode to examine agent performance."
   ]
  },
  {
   "cell_type": "code",
   "execution_count": 12,
   "metadata": {},
   "outputs": [],
   "source": [
    "def plot_reward_per_episode(episode_rewards):\n",
    "    import matplotlib.pyplot as plt\n",
    "    episode_rewards = episode_rewards[6500:7500]\n",
    "    x = [i for i in range(len(episode_rewards))]\n",
    "    plt.plot(x, episode_rewards)\n",
    "    \n",
    "plot_reward_per_episode(episode_rewards)"
   ]
  },
  {
   "cell_type": "code",
   "execution_count": 16,
   "metadata": {},
   "outputs": [
    {
     "name": "stdout",
     "output_type": "stream",
     "text": [
      "[19.53415582]\n",
      "[20.58476079]\n"
     ]
    },
    {
     "data": {
      "image/png": "[encoded data removed]",
      "text/plain": [
       "<Figure size 432x288 with 1 Axes>"
      ]
     },
     "metadata": {
      "needs_background": "light"
     },
     "output_type": "display_data"
    }
   ],
   "source": [
    "def plot_reward_per_episode(episode_rewards):\n",
    "    import matplotlib.pyplot as plt\n",
    "    episode_rewards = episode_rewards[0:15000]\n",
    "    x = [i for i in range(len(episode_rewards))]\n",
    "    plt.plot(x, episode_rewards,'.')\n",
    "    x = np.array(x).reshape(-1,1)\n",
    "    episode_rewards = np.array(episode_rewards).reshape(-1,1)\n",
    "    from sklearn import datasets, linear_model\n",
    "    regr = linear_model.LinearRegression()\n",
    "    regr.fit(x,episode_rewards)\n",
    "    y_pred = regr.predict(x)\n",
    "    plt.plot(x,y_pred,'-')\n",
    "    print(y_pred[0])\n",
    "    print(y_pred[-1])\n",
    "    \n",
    "plot_reward_per_episode(episode_rewards)"
   ]
  },
  {
   "cell_type": "code",
   "execution_count": 17,
   "metadata": {},
   "outputs": [
    {
     "data": {
      "image/png": "[encoded data removed]",
      "text/plain": [
       "<Figure size 432x288 with 1 Axes>"
      ]
     },
     "metadata": {
      "needs_background": "light"
     },
     "output_type": "display_data"
    }
   ],
   "source": [
    "def plot_reward_per_episode(episode_rewards):\n",
    "    import matplotlib.pyplot as plt\n",
    "    episode_rewards = episode_rewards[0:]\n",
    "    x = [i for i in range(len(episode_rewards)//100)]\n",
    "    avg = [ sum(episode_rewards[i*100:(i+1)*100])/100 for i in range(len(episode_rewards)//100)]\n",
    "    plt.plot(x, avg)\n",
    "\n",
    "plot_reward_per_episode(episode_rewards)"
   ]
  },
  {
   "cell_type": "code",
   "execution_count": 14,
   "metadata": {},
   "outputs": [
    {
     "name": "stdout",
     "output_type": "stream",
     "text": [
      "it: 0\n",
      "it: 1\n",
      "it: 2\n",
      "it: 3\n",
      "it: 4\n",
      "it: 5\n",
      "it: 6\n",
      "it: 7\n",
      "it: 8\n",
      "it: 9\n",
      "it: 10\n",
      "it: 11\n",
      "it: 12\n",
      "it: 13\n",
      "it: 14\n",
      "it: 15\n",
      "it: 16\n",
      "it: 17\n",
      "it: 18\n",
      "it: 19\n",
      "it: 20\n",
      "it: 21\n",
      "it: 22\n",
      "it: 23\n",
      "it: 24\n",
      "it: 25\n",
      "it: 26\n",
      "it: 27\n",
      "it: 28\n",
      "it: 29\n",
      "it: 30\n",
      "it: 31\n",
      "it: 32\n",
      "it: 33\n",
      "it: 34\n",
      "it: 35\n",
      "it: 36\n",
      "it: 37\n",
      "it: 38\n",
      "it: 39\n",
      "it: 40\n",
      "it: 41\n",
      "it: 42\n",
      "it: 43\n",
      "it: 44\n",
      "it: 45\n",
      "it: 46\n",
      "it: 47\n",
      "it: 48\n",
      "it: 49\n",
      "it: 50\n",
      "it: 51\n",
      "it: 52\n",
      "it: 53\n",
      "it: 54\n",
      "it: 55\n",
      "it: 56\n",
      "it: 57\n",
      "it: 58\n",
      "it: 59\n",
      "it: 60\n",
      "it: 61\n",
      "it: 62\n",
      "it: 63\n",
      "it: 64\n",
      "it: 65\n",
      "it: 66\n",
      "it: 67\n",
      "it: 68\n",
      "it: 69\n",
      "it: 70\n",
      "it: 71\n",
      "it: 72\n",
      "it: 73\n",
      "it: 74\n",
      "it: 75\n",
      "it: 76\n",
      "it: 77\n",
      "it: 78\n",
      "it: 79\n",
      "it: 80\n",
      "it: 81\n",
      "it: 82\n",
      "it: 83\n",
      "it: 84\n",
      "it: 85\n",
      "it: 86\n",
      "it: 87\n",
      "it: 88\n",
      "it: 89\n",
      "it: 90\n",
      "it: 91\n",
      "it: 92\n",
      "it: 93\n",
      "it: 94\n",
      "it: 95\n",
      "it: 96\n",
      "it: 97\n",
      "it: 98\n",
      "it: 99\n",
      "it: 100\n",
      "it: 101\n",
      "it: 102\n",
      "it: 103\n",
      "it: 104\n",
      "it: 105\n",
      "it: 106\n",
      "it: 107\n",
      "it: 108\n",
      "it: 109\n",
      "it: 110\n",
      "it: 111\n",
      "it: 112\n",
      "it: 113\n",
      "it: 114\n",
      "it: 115\n",
      "it: 116\n",
      "it: 117\n",
      "it: 118\n",
      "it: 119\n",
      "it: 120\n",
      "it: 121\n"
     ]
    }
   ],
   "source": [
    "#temp = test_env\n",
    "#test_env = env\n",
    "test_env.set_validation(10)\n",
    "for iterations in range(1):\n",
    "    # Now we evaluate the trained model by taking greedy actions\n",
    "    total1 = 0\n",
    "    total2 = 0\n",
    "    tc1 = 0\n",
    "    tc2 = 0\n",
    "\n",
    "    N=len(test_env.data)\n",
    "    test_env.it = 0\n",
    "    for it in range(N):\n",
    "        print(\"it:\",test_env.it)\n",
    "        observation = test_env.next_element() # Current observed state\n",
    "        ob_cp = (copy.copy(observation[0]),copy.copy(observation[1]), copy.copy(observation[2]))\n",
    "        #print(\"ob #:\",observation[0])\n",
    "        total_reward = 0\n",
    "        agent.epsilon = 0\n",
    "        i= 0\n",
    "        done = False\n",
    "        steps = 0\n",
    "        cost = 0\n",
    "        prev = []\n",
    "\n",
    "        while True:\n",
    "            if done:\n",
    "                break;\n",
    "            action = agent.get_action(observation,env)\n",
    "            observation, reward, done, info = test_env.step(observation, action)\n",
    "            total_reward += reward\n",
    "            steps += 1\n",
    "        #if (observation[1][-1] > test_env.max_cost):\n",
    "        #    print(\"exceeded cost:\", observation[1][-1])\n",
    "        #else:\n",
    "        #    print(\"cost1:\", observation[1][-1])\n",
    "        #if (prev != bool_feature(observation[1][:32])):\n",
    "        #    print(\"different end state\")\n",
    "        prev = bool_feature(observation[1][:32])\n",
    "        total1 += (test_env.score(observation))\n",
    "        tc1 += observation[1][-1]\n",
    "\n",
    "        observation = ob_cp\n",
    "        done = False\n",
    "        \n",
    "        s2 = 0\n",
    "        cost = 0\n",
    "        while True:\n",
    "            if done:\n",
    "                break;\n",
    "            actions = test_env.actions(observation)\n",
    "            r = -1\n",
    "            if (len(actions) != 1):\n",
    "                r = random.randint(0,len(actions)-2)\n",
    "            action = actions[r]\n",
    "            #print(\"actions:\",actions)\n",
    "            if action != -1 and action < len(observation[1])-1:\n",
    "                cost += env.costs[action]\n",
    "            observation, reward, done, info = test_env.step(observation, action)\n",
    "        total2+=(test_env.score(observation))\n",
    "        #print()\n",
    "        tc2 += observation[1][-1]\n",
    "\n",
    "    \n"
   ]
  },
  {
   "cell_type": "code",
   "execution_count": 15,
   "metadata": {},
   "outputs": [
    {
     "name": "stdout",
     "output_type": "stream",
     "text": [
      "total final score RL: 11.663427320687134\n",
      "total final score rand: 62.707939267217455\n",
      "total final cost RL: 0.3846153846153849\n",
      "total final cost rand: 0.3846153846153849\n"
     ]
    }
   ],
   "source": [
    "print(\"total final score RL:\", total1)\n",
    "print(\"total final score rand:\", total2)\n",
    "print(\"total final cost RL:\", tc1/N)\n",
    "print(\"total final cost rand:\", tc2/N)\n",
    "# Saving the network\n",
    "#agent.to_pickle(\"somefile.pickle\")"
   ]
  },
  {
   "cell_type": "code",
   "execution_count": null,
   "metadata": {},
   "outputs": [],
   "source": []
  },
  {
   "cell_type": "markdown",
   "metadata": {},
   "source": [
    "##### "
   ]
  }
 ],
 "metadata": {
  "kernelspec": {
   "display_name": "Python 3",
   "language": "python",
   "name": "python3"
  },
  "language_info": {
   "codemirror_mode": {
    "name": "ipython",
    "version": 3
   },
   "file_extension": ".py",
   "mimetype": "text/x-python",
   "name": "python",
   "nbconvert_exporter": "python",
   "pygments_lexer": "ipython3",
   "version": "3.6.7"
  }
 },
 "nbformat": 4,
 "nbformat_minor": 4
}
