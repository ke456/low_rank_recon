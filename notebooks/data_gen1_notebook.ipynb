{
 "cells": [
  {
   "cell_type": "code",
   "execution_count": 2,
   "metadata": {},
   "outputs": [],
   "source": [
    "import numpy as np\n",
    "import data_gen1 as dg\n",
    "import matplotlib.pylab as plt\n",
    "import random\n",
    "\n",
    "random.seed(22)"
   ]
  },
  {
   "cell_type": "code",
   "execution_count": 3,
   "metadata": {},
   "outputs": [],
   "source": [
    "points, labels = dg.gen(n=8) # generates 8 clusters\n",
    "x_p = [ points[i][0] for i in range(len(points)) ]\n",
    "y_p = [ points[i][1] for i in range(len(points)) ]\n",
    "x_id = np.linspace(0,20)\n",
    "y_id = np.linspace(0,20)"
   ]
  },
  {
   "cell_type": "code",
   "execution_count": 4,
   "metadata": {},
   "outputs": [
    {
     "data": {
      "image/png": "[encoded data removed]",
      "text/plain": [
       "<Figure size 432x288 with 1 Axes>"
      ]
     },
     "metadata": {
      "needs_background": "light"
     },
     "output_type": "display_data"
    }
   ],
   "source": [
    "plt.plot(x_p,y_p,'o',x_id,y_id,'-')\n",
    "plt.show()"
   ]
  },
  {
   "cell_type": "markdown",
   "metadata": {},
   "source": [
    "By choosing a variable, we essentially project all the points onto a straight line. If we project all the points\n",
    "onto the line $y = 0$, we get the following graph. Note that we are ignoring the label for now."
   ]
  },
  {
   "cell_type": "code",
   "execution_count": 5,
   "metadata": {},
   "outputs": [
    {
     "data": {
      "image/png": "[encoded data removed]",
      "text/plain": [
       "<Figure size 432x288 with 1 Axes>"
      ]
     },
     "metadata": {
      "needs_background": "light"
     },
     "output_type": "display_data"
    }
   ],
   "source": [
    "plt.plot(x_p, [0 for i in range(len(points))], 'o')\n",
    "plt.show()"
   ]
  },
  {
   "cell_type": "markdown",
   "metadata": {},
   "source": [
    "By using the label, we can further differentiate the clusters. The below graph again shows a projection of the\n",
    "points onto the x-axis, but those with label 1 have been projected to the line $y=1$ for visual purposes."
   ]
  },
  {
   "cell_type": "code",
   "execution_count": 6,
   "metadata": {},
   "outputs": [
    {
     "data": {
      "image/png": "[encoded data removed]",
      "text/plain": [
       "<Figure size 432x288 with 1 Axes>"
      ]
     },
     "metadata": {
      "needs_background": "light"
     },
     "output_type": "display_data"
    }
   ],
   "source": [
    "x1 = []\n",
    "x2 = []\n",
    "for i in range(len(points)):\n",
    "    p = points[i]\n",
    "    l = labels[i]\n",
    "    if l == 0:\n",
    "        x1.append(p[0])\n",
    "    else:\n",
    "        x2.append(p[0])\n",
    "plt.plot(x1, [1 for i in range(len(x1))], 'o', x2, [0 for i in range(len(x2))], 'o')\n",
    "plt.show()"
   ]
  },
  {
   "cell_type": "markdown",
   "metadata": {},
   "source": [
    "We can see that in the first graph, some of the clusters have merged, which are differentiated in the second graph.\n",
    "We still are not differentiate every cluster because in this case, both one dimension is as important as the\n",
    "other (data is generated randomly and the line $x=y$ should roughly split it in half). Even so, we can see that adding\n",
    "a dimension leads to information gain. This is what we want to exploit with a decision tree.\n",
    "\n",
    "So how can we find a decision boundary for these clusters? If one were to draw boundaries for the graph above, one\n",
    "possible way could be:"
   ]
  },
  {
   "cell_type": "code",
   "execution_count": 15,
   "metadata": {},
   "outputs": [
    {
     "data": {
      "image/png": "[encoded data removed]",
      "text/plain": [
       "<Figure size 432x288 with 1 Axes>"
      ]
     },
     "metadata": {
      "needs_background": "light"
     },
     "output_type": "display_data"
    }
   ],
   "source": [
    "y_l1 = np.linspace(0.5,1.1)\n",
    "x_l1 = [5 for i in range(len(y_l1))]\n",
    "x_l2 = [12.8 for i in range(len(y_l1))]\n",
    "\n",
    "y_l2 = np.linspace(-0.1,0.5)\n",
    "x_l3 = [9 for i in range(len(y_l1))]\n",
    "x_l4 = [15.5 for i in range(len(y_l1))]\n",
    "\n",
    "x = np.linspace(0,20)\n",
    "\n",
    "plt.plot(x1, [1 for i in range(len(x1))], 'o', x2, [0 for i in range(len(x2))], 'o', \n",
    "         x_l1,y_l1,\n",
    "         x_l3,y_l2,x_l4,y_l2,\n",
    "         x,[0.5 for i in range(len(x))])\n",
    "plt.show()"
   ]
  },
  {
   "cell_type": "markdown",
   "metadata": {},
   "source": [
    "To have the highest confidence that a point belows in the specified cluster, we need\n",
    "to: a) minimize the distance to its centroid; b) maximize the distance from the boundary.\n",
    "With the second condition, we are trying to avoid arbitrarily splitting a cluster.\n",
    "\n",
    "We say a point $p$ belongs in cluster $c$ wrt to boundary $b$ if the distance \n",
    "to the nearest point in $c$ to $p$ is less than the distance to $b$. Then, a good boundary\n",
    "is one that creates classifies as many points into clusters, while minimizing number of points\n",
    "that does not belong in clusters. Additionally, we also want to pick a boundary such that\n",
    "the distances between points and their respective centroid is minimize.\n",
    "We can use entropy to quantify this:"
   ]
  },
  {
   "cell_type": "code",
   "execution_count": 38,
   "metadata": {},
   "outputs": [],
   "source": [
    "def log2(p):\n",
    "    if (p==0):\n",
    "        return 0\n",
    "    else:\n",
    "        return np.log2(p)\n",
    "\n",
    "def avg(d):\n",
    "    if (len(d)==0):\n",
    "        return 0\n",
    "    return sum(d)/len(d)\n",
    "\n",
    "# not general algorithm, only working with (label, x)\n",
    "def construct_tree(data, b):\n",
    "    # split the data into left/right of boundary\n",
    "    d1 = []\n",
    "    d2 = []\n",
    "    n = len(data)\n",
    "    # iterate through x = [0,20]\n",
    "    x_b = np.linspace(0,20)\n",
    "    best_x = 0\n",
    "    min_ent = 1\n",
    "    best_dist = 400\n",
    "    \n",
    "    ents = []\n",
    "    dists = []\n",
    "    \n",
    "    for x in x_b:\n",
    "        d1 = []\n",
    "        d2 = []\n",
    "        n_clustered = 0\n",
    "        \n",
    "        # partition\n",
    "        for d in data:\n",
    "            if d <= x:\n",
    "                d1.append(d)\n",
    "            else:\n",
    "                d2.append(d)\n",
    "        \n",
    "        # compute centroid for each partition\n",
    "        c1 = avg(d1)\n",
    "        c2 = avg(d2)\n",
    "        \n",
    "        # compute average distance to centroid\n",
    "        dist_to_c1 = 0\n",
    "        dist_to_c2 = 0\n",
    "        for d in d1:\n",
    "            dist_to_c1 = (d-c1)**2\n",
    "        for d in d2:\n",
    "            dist_to_c2 = (d-c2)**2\n",
    "        \n",
    "        # compare square distances between points and boundary\n",
    "        # left partition\n",
    "        for d in d1:\n",
    "            dist = []\n",
    "            for dd in d1:\n",
    "                if dd != d:\n",
    "                    dist.append((dd-d)**2)\n",
    "            if len(dist) != 0:\n",
    "                dist_p = min(dist)\n",
    "                dist_b = (d-x)**2\n",
    "                if dist_b < dist_p:\n",
    "                    n_clustered += 1\n",
    "        # right partition\n",
    "        for d in d2:\n",
    "            dist = []\n",
    "            for dd in d2:\n",
    "                if dd != d:\n",
    "                    dist.append((dd-d)**2)\n",
    "            if len(dist) != 0:\n",
    "                dist_p = min(dist)\n",
    "                dist_b = (d-x)**2\n",
    "                if dist_b < dist_p:\n",
    "                    n_clustered += 1\n",
    "        \n",
    "        # compute entropy for this boundary\n",
    "        p1 = n_clustered/n\n",
    "        p2 = 1-p1\n",
    "        entropy = -p1*log2(p1) - p2*log2(p2)\n",
    "        ents.append(entropy)\n",
    "        dists.append((dist_to_c1+dist_to_c2)/2)\n",
    "        if entropy <= min_ent and (dist_to_c1+dist_to_c2)/2 < best_dist:\n",
    "            min_ent = entropy\n",
    "            best_x = x\n",
    "            best_dist = (dist_to_c1+dist_to_c2)/2\n",
    "    b.append(best_x)\n",
    "    \n",
    "    dists = [dists[i]/37 for i in range(len(dists))]\n",
    "    plt.plot(x_b, ents, 'r', x_b, dists, 'b')\n",
    "    "
   ]
  },
  {
   "cell_type": "markdown",
   "metadata": {},
   "source": [
    "Again, as a reminder, here are the points whose label is $1$:"
   ]
  },
  {
   "cell_type": "code",
   "execution_count": 33,
   "metadata": {},
   "outputs": [
    {
     "data": {
      "image/png": "[encoded data removed]",
      "text/plain": [
       "<Figure size 432x288 with 1 Axes>"
      ]
     },
     "metadata": {
      "needs_background": "light"
     },
     "output_type": "display_data"
    }
   ],
   "source": [
    "px = []\n",
    "for i in range(len(points)):\n",
    "    if (labels[i] == 1):\n",
    "        px.append(points[i][0])\n",
    "plt.plot(px,[0.5 for i in range(len(px))],'o')\n",
    "plt.show()"
   ]
  },
  {
   "cell_type": "markdown",
   "metadata": {},
   "source": [
    "Finally, let's run the algorithm in just one level and graph the entropy (red) and average distance to centroids (blue) for\n",
    "different values $x_i$ such that the boundary is $x = x_i$"
   ]
  },
  {
   "cell_type": "code",
   "execution_count": 34,
   "metadata": {},
   "outputs": [
    {
     "data": {
      "image/png": "[encoded data removed]",
      "text/plain": [
       "<Figure size 432x288 with 1 Axes>"
      ]
     },
     "metadata": {
      "needs_background": "light"
     },
     "output_type": "display_data"
    }
   ],
   "source": [
    "b = []\n",
    "construct_tree(px,b)"
   ]
  },
  {
   "cell_type": "markdown",
   "metadata": {},
   "source": [
    "Now, if we super-impose the points onto the above graph, then we can see how distance and entropy change\n",
    "as we change the boundaries:"
   ]
  },
  {
   "cell_type": "code",
   "execution_count": 39,
   "metadata": {},
   "outputs": [
    {
     "data": {
      "image/png": "[encoded data removed]",
      "text/plain": [
       "<Figure size 432x288 with 1 Axes>"
      ]
     },
     "metadata": {
      "needs_background": "light"
     },
     "output_type": "display_data"
    }
   ],
   "source": [
    "construct_tree(px,b)\n",
    "plt.plot(px,[0.5 for i in range(len(px))],'o')\n",
    "plt.show()"
   ]
  },
  {
   "cell_type": "markdown",
   "metadata": {},
   "source": [
    "There are several interesting things happening above. Firstly, when a boundary cuts through a cluster,\n",
    "we can see a spike in entropy. This is more strongly pronounced in the first two clusters than the last.\n",
    "This is probably because a larger cluster is more likely to be spread further apart (in this case, it's\n",
    "a mixture of two Gaussian distributions); thus, it is preferable to split a larger, looser cluster than\n",
    "a smaller, tighter one. Secondly, there are many boundaries that result in entropy of zero: before and after\n",
    "the points, as well as in between the clusters. However, the average distance is further if we split between\n",
    "second and third clusters than if we split between the first two. This is because the last two clusters\n",
    "are more alike compared to the first. Next graph shows the boundary the algorithm chose:"
   ]
  },
  {
   "cell_type": "code",
   "execution_count": 41,
   "metadata": {},
   "outputs": [
    {
     "data": {
      "image/png": "[encoded data removed]",
      "text/plain": [
       "<Figure size 432x288 with 1 Axes>"
      ]
     },
     "metadata": {
      "needs_background": "light"
     },
     "output_type": "display_data"
    }
   ],
   "source": [
    "ys = np.linspace(0.48,0.52)\n",
    "plt.plot([b[0] for i in range(len(ys))],ys,'-',px,[0.5 for i in range(len(px))],'o')\n",
    "plt.show()"
   ]
  },
  {
   "cell_type": "markdown",
   "metadata": {},
   "source": [
    "Next, we modify the algorithm to be recursive, stopping when the split leads to one side being zero:"
   ]
  },
  {
   "cell_type": "code",
   "execution_count": 47,
   "metadata": {},
   "outputs": [],
   "source": [
    "def construct_tree_rec(data, b):\n",
    "    n = len(data)\n",
    "    # iterate through x = [0,20]\n",
    "    x_b = np.linspace(0,20)\n",
    "    best_x = 0\n",
    "    min_ent = 1\n",
    "    best_dist = 400\n",
    "    \n",
    "    ents = []\n",
    "    dists = []\n",
    "    \n",
    "    for x in x_b:\n",
    "        d1 = []\n",
    "        d2 = []\n",
    "        n_clustered = 0\n",
    "        \n",
    "        # partition\n",
    "        for d in data:\n",
    "            if d <= x:\n",
    "                d1.append(d)\n",
    "            else:\n",
    "                d2.append(d)\n",
    "        \n",
    "        # compute centroid for each partition\n",
    "        c1 = avg(d1)\n",
    "        c2 = avg(d2)\n",
    "        \n",
    "        # compute average distance to centroid\n",
    "        dist_to_c1 = 0\n",
    "        dist_to_c2 = 0\n",
    "        for d in d1:\n",
    "            dist_to_c1 = (d-c1)**2\n",
    "        for d in d2:\n",
    "            dist_to_c2 = (d-c2)**2\n",
    "        \n",
    "        # compare square distances between points and boundary\n",
    "        # left partition\n",
    "        for d in d1:\n",
    "            dist = []\n",
    "            for dd in d1:\n",
    "                if dd != d:\n",
    "                    dist.append((dd-d)**2)\n",
    "            if len(dist) != 0:\n",
    "                dist_p = min(dist)\n",
    "                dist_b = (d-x)**2\n",
    "                if dist_b < dist_p:\n",
    "                    n_clustered += 1\n",
    "        # right partition\n",
    "        for d in d2:\n",
    "            dist = []\n",
    "            for dd in d2:\n",
    "                if dd != d:\n",
    "                    dist.append((dd-d)**2)\n",
    "            if len(dist) != 0:\n",
    "                dist_p = min(dist)\n",
    "                dist_b = (d-x)**2\n",
    "                if dist_b < dist_p:\n",
    "                    n_clustered += 1\n",
    "        \n",
    "        # compute entropy for this boundary\n",
    "        p1 = n_clustered/n\n",
    "        p2 = 1-p1\n",
    "        entropy = -p1*log2(p1) - p2*log2(p2)\n",
    "        ents.append(entropy)\n",
    "        dists.append((dist_to_c1+dist_to_c2)/2)\n",
    "        if entropy <= min_ent and (dist_to_c1+dist_to_c2)/2 < best_dist:\n",
    "            min_ent = entropy\n",
    "            best_x = x\n",
    "            best_dist = (dist_to_c1+dist_to_c2)/2\n",
    "    d1 = []\n",
    "    d2 = []\n",
    "    for d in data:\n",
    "        if d < best_x:\n",
    "            d1.append(d)\n",
    "        else:\n",
    "            d2.append(d)\n",
    "    if len(d1) == 0 or len(d2) == 0:\n",
    "        return\n",
    "    b.append(best_x)\n",
    "    construct_tree_rec(d1, b)\n",
    "    construct_tree_rec(d2, b)"
   ]
  },
  {
   "cell_type": "code",
   "execution_count": 49,
   "metadata": {},
   "outputs": [
    {
     "data": {
      "image/png": "[encoded data removed]",
      "text/plain": [
       "<Figure size 432x288 with 1 Axes>"
      ]
     },
     "metadata": {
      "needs_background": "light"
     },
     "output_type": "display_data"
    }
   ],
   "source": [
    "b = []\n",
    "construct_tree_rec(px,b)\n",
    "plt.plot([b[0] for i in range(len(ys))],ys,'-',\n",
    "         [b[1] for i in range(len(ys))],ys,'-',\n",
    "         [b[2] for i in range(len(ys))],ys,'-',\n",
    "         px,[0.5 for i in range(len(px))],'o')\n",
    "plt.show()"
   ]
  },
  {
   "cell_type": "markdown",
   "metadata": {},
   "source": [
    "Finally, let's superimpose the boundaries we found onto the original points:"
   ]
  },
  {
   "cell_type": "code",
   "execution_count": 53,
   "metadata": {},
   "outputs": [
    {
     "data": {
      "image/png": "[encoded data removed]",
      "text/plain": [
       "<Figure size 432x288 with 1 Axes>"
      ]
     },
     "metadata": {
      "needs_background": "light"
     },
     "output_type": "display_data"
    }
   ],
   "source": [
    "# find points with label = 1\n",
    "px = []\n",
    "py = []\n",
    "for i in range(len(points)):\n",
    "    if labels[i] == 1:\n",
    "        px.append(points[i][0])\n",
    "        py.append(points[i][1])\n",
    "ys = np.linspace(0,20)\n",
    "plt.plot(px,py,'o',\n",
    "         [b[0] for i in range(len(ys))],ys,'-',\n",
    "         [b[1] for i in range(len(ys))],ys,'-',\n",
    "         [b[2] for i in range(len(ys))],ys,'-',\n",
    "        )\n",
    "plt.show()"
   ]
  },
  {
   "cell_type": "markdown",
   "metadata": {},
   "source": [
    "The last group of clusters are not easily separable (indeed, one could even classifier that whole group as a single cluster),\n",
    "so the boundary that it finds is a bit meaningless. However, the other two are as expected."
   ]
  },
  {
   "cell_type": "code",
   "execution_count": null,
   "metadata": {},
   "outputs": [],
   "source": []
  }
 ],
 "metadata": {
  "kernelspec": {
   "display_name": "Python 3",
   "language": "python",
   "name": "python3"
  },
  "language_info": {
   "codemirror_mode": {
    "name": "ipython",
    "version": 3
   },
   "file_extension": ".py",
   "mimetype": "text/x-python",
   "name": "python",
   "nbconvert_exporter": "python",
   "pygments_lexer": "ipython3",
   "version": "3.7.1"
  }
 },
 "nbformat": 4,
 "nbformat_minor": 2
}
