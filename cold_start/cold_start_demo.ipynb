{
 "cells": [
  {
   "cell_type": "code",
   "execution_count": 101,
   "metadata": {},
   "outputs": [],
   "source": [
    "from sklearn.impute import KNNImputer\n",
    "from Data_binary import *\n",
    "import numpy as np"
   ]
  },
  {
   "cell_type": "code",
   "execution_count": 114,
   "metadata": {},
   "outputs": [
    {
     "name": "stdout",
     "output_type": "stream",
     "text": [
      "(493, 13)\n"
     ]
    }
   ],
   "source": [
    "# read in the training/test sets\n",
    "env = Data(unknown_rate=1)\n",
    "env.loadfile_noshuffle(\"../MDP/csv_files/partitioned_data/hcv_training.csv\")\n",
    "training_data = np.array([env.data[i][1] for i in range(len(env.data))])\n",
    "\n",
    "test_env = Data(unknown_rate=1)\n",
    "test_env.loadfile_noshuffle(\"../MDP/csv_files/partitioned_data/hcv_test.csv\")\n",
    "test_data = np.array([test_env.data[i][1] for i in range(len(test_env.data)) ])\n",
    "\n",
    "num_features = len(test_data[0])\n",
    "\n",
    "costs = read_costs(\"../MDP/csv_files/partitioned_data/hcv_cost.csv\")\n",
    "\n",
    "print(training_data.shape)"
   ]
  },
  {
   "cell_type": "code",
   "execution_count": 103,
   "metadata": {},
   "outputs": [],
   "source": [
    "full = np.nan * np.ones((len(training_data) + len(test_data), num_features ))\n",
    "partial = np.nan * np.ones((len(training_data) + len(test_data), num_features ))\n",
    "\n",
    "# populate the training set portion of the matrix\n",
    "for i in range(len(training_data)):\n",
    "    partial[i] = np.array(training_data[i])\n",
    "    full[i] = np.array(training_data[i])\n",
    "    \n",
    "for i in range(len(test_data)):\n",
    "    full[i+len(training_data)] = np.array(test_data[i])"
   ]
  },
  {
   "cell_type": "code",
   "execution_count": 104,
   "metadata": {},
   "outputs": [
    {
     "name": "stdout",
     "output_type": "stream",
     "text": [
      "at budget: 0\n",
      "7.078407401870855\n"
     ]
    }
   ],
   "source": [
    "# let's impute using KNNImputer\n",
    "imputer = KNNImputer(n_neighbors=5, weights=\"uniform\")\n",
    "imputed_partial = imputer.fit_transform(partial)\n",
    "\n",
    "print(\"at budget: 0\")\n",
    "print(np.linalg.norm(imputed_partial-full))"
   ]
  },
  {
   "cell_type": "code",
   "execution_count": 105,
   "metadata": {},
   "outputs": [],
   "source": [
    "def load_steps(fname):\n",
    "    f = open(fname,'r')\n",
    "    f = open(fname, 'r')\n",
    "    lines = f.readlines()\n",
    "    steps_table = []\n",
    "    for l in lines:\n",
    "        s = l.split(',')\n",
    "        steps = []\n",
    "        for ss in s:\n",
    "            steps.append(int(ss))\n",
    "        steps_table.append(steps)\n",
    "    return steps_table"
   ]
  },
  {
   "cell_type": "code",
   "execution_count": 106,
   "metadata": {},
   "outputs": [
    {
     "name": "stdout",
     "output_type": "stream",
     "text": [
      "at budget: 0.1\n",
      "at budget: 0.2\n",
      "at budget: 0.3\n",
      "at budget: 0.4\n",
      "at budget: 0.5\n",
      "at budget: 0.6\n",
      "at budget: 0.7\n",
      "at budget: 0.8\n",
      "at budget: 0.9\n",
      "at budget: 1.0\n"
     ]
    }
   ],
   "source": [
    "m = len(training_data)\n",
    "N = 10\n",
    "\n",
    "res1 = []\n",
    "\n",
    "for i in range(N):\n",
    "    budget = (i+1)/N\n",
    "    print(\"at budget:\", budget)\n",
    "    steps_table = load_steps(\"../MDP/agent_runs/hcv_tree\" + str(i+1) + \".csv\")\n",
    "    # update the steps\n",
    "    for s in range(len(test_data)):\n",
    "        for ss in range(len(steps_table[s])):\n",
    "            cur_update = steps_table[s][ss]\n",
    "            partial[m+s][cur_update] = test_data[s][cur_update]\n",
    "    imputed_partial = imputer.fit_transform(partial)\n",
    "    res1.append(np.linalg.norm(imputed_partial-full))"
   ]
  },
  {
   "cell_type": "code",
   "execution_count": 107,
   "metadata": {},
   "outputs": [],
   "source": [
    "partial = np.nan * np.ones((len(training_data) + len(test_data), num_features ))\n",
    "\n",
    "# populate the training set portion of the matrix\n",
    "for i in range(len(training_data)):\n",
    "    partial[i] = np.array(training_data[i])\n",
    "    full[i] = np.array(training_data[i])"
   ]
  },
  {
   "cell_type": "code",
   "execution_count": 108,
   "metadata": {},
   "outputs": [
    {
     "name": "stdout",
     "output_type": "stream",
     "text": [
      "at budget: 0.1\n",
      "122\n",
      "at budget: 0.2\n",
      "122\n",
      "at budget: 0.3\n",
      "122\n",
      "at budget: 0.4\n",
      "122\n",
      "at budget: 0.5\n",
      "122\n",
      "at budget: 0.6\n",
      "122\n",
      "at budget: 0.7\n",
      "122\n",
      "at budget: 0.8\n",
      "122\n",
      "at budget: 0.9\n",
      "122\n",
      "at budget: 1.0\n",
      "122\n"
     ]
    }
   ],
   "source": [
    "m = len(training_data)\n",
    "N = 10\n",
    "\n",
    "res2 = []\n",
    "\n",
    "for i in range(N):\n",
    "    budget = (i+1)/N\n",
    "    print(\"at budget:\", budget)\n",
    "    steps_table = load_steps(\"../MDP/agent_runs/hcv_rand\" + str(i+1) + \".csv\")\n",
    "    \n",
    "    # update the steps\n",
    "    for s in range(len(test_data)):\n",
    "        for ss in range(len(steps_table[s])):\n",
    "            cur_update = steps_table[s][ss]\n",
    "            partial[m+s][cur_update] = test_data[s][cur_update]\n",
    "    imputed_partial = imputer.fit_transform(partial)\n",
    "    res2.append(np.linalg.norm(imputed_partial-full))"
   ]
  },
  {
   "cell_type": "code",
   "execution_count": 111,
   "metadata": {},
   "outputs": [
    {
     "name": "stdout",
     "output_type": "stream",
     "text": [
      "at budget: 0.1\n",
      "at budget: 0.2\n",
      "at budget: 0.3\n",
      "at budget: 0.4\n",
      "at budget: 0.5\n",
      "at budget: 0.6\n",
      "at budget: 0.7\n",
      "at budget: 0.8\n",
      "at budget: 0.9\n",
      "at budget: 1.0\n"
     ]
    }
   ],
   "source": [
    "partial = np.nan * np.ones((len(training_data) + len(test_data), num_features ))\n",
    "\n",
    "# populate the training set portion of the matrix\n",
    "for i in range(len(training_data)):\n",
    "    partial[i] = np.array(training_data[i])\n",
    "    full[i] = np.array(training_data[i])\n",
    "    \n",
    "m = len(training_data)\n",
    "N = 10\n",
    "\n",
    "res3 = []\n",
    "\n",
    "for i in range(N):\n",
    "    budget = (i+1)/N\n",
    "    print(\"at budget:\", budget)\n",
    "    steps_table = load_steps(\"../MDP/agent_runs/hcv\" + str(float(i+1)) + \".csv\")\n",
    "    #print(len(steps_table))\n",
    "    # update the steps\n",
    "    for s in range(len(test_data)):\n",
    "        for ss in range(len(steps_table[s])):\n",
    "            cur_update = steps_table[s][ss]\n",
    "            if(cur_update < num_features):\n",
    "                partial[m+s][cur_update] = test_data[s][cur_update]\n",
    "            else:\n",
    "                continue\n",
    "    imputed_partial = imputer.fit_transform(partial)\n",
    "    res3.append(np.linalg.norm(imputed_partial-full))"
   ]
  },
  {
   "cell_type": "code",
   "execution_count": 112,
   "metadata": {},
   "outputs": [
    {
     "data": {
      "image/png": "[encoded data removed]",
      "text/plain": [
       "<Figure size 432x288 with 1 Axes>"
      ]
     },
     "metadata": {
      "needs_background": "light"
     },
     "output_type": "display_data"
    }
   ],
   "source": [
    "import matplotlib.pyplot as plt\n",
    "\n",
    "budgets = [(i+1)/N for i in range(N)]\n",
    "plt.plot(budgets, res1, 'r', budgets, res3, 'b', budgets, res2)\n",
    "plt.show()"
   ]
  },
  {
   "cell_type": "code",
   "execution_count": null,
   "metadata": {},
   "outputs": [],
   "source": []
  }
 ],
 "metadata": {
  "kernelspec": {
   "display_name": "Python 3",
   "language": "python",
   "name": "python3"
  },
  "language_info": {
   "codemirror_mode": {
    "name": "ipython",
    "version": 3
   },
   "file_extension": ".py",
   "mimetype": "text/x-python",
   "name": "python",
   "nbconvert_exporter": "python",
   "pygments_lexer": "ipython3",
   "version": "3.8.5"
  }
 },
 "nbformat": 4,
 "nbformat_minor": 4
}
