{
 "cells": [
  {
   "cell_type": "code",
   "execution_count": 1,
   "metadata": {},
   "outputs": [],
   "source": [
    "from sklearn.impute import KNNImputer\n",
    "from Data_binary import *\n",
    "import numpy as np"
   ]
  },
  {
   "cell_type": "code",
   "execution_count": 2,
   "metadata": {},
   "outputs": [
    {
     "name": "stdout",
     "output_type": "stream",
     "text": [
      "(4657, 31)\n"
     ]
    }
   ],
   "source": [
    "# read in the training/test sets\n",
    "env = Data(unknown_rate=1)\n",
    "env.loadfile_noshuffle(\"../MDP/csv_files/partitioned_data/survey_training.csv\")\n",
    "training_data = np.array([env.data[i][1] for i in range(len(env.data)) ])\n",
    "\n",
    "test_env = Data(unknown_rate=1)\n",
    "test_env.loadfile_noshuffle(\"../MDP/csv_files/partitioned_data/survey_test.csv\")\n",
    "test_data = np.array([test_env.data[i][1] for i in range(len(test_env.data)) ])\n",
    "\n",
    "num_features = len(test_data[0])\n",
    "\n",
    "costs = read_costs(\"../MDP/csv_files/partitioned_data/survey_cost.csv\")\n",
    "\n",
    "print(training_data.shape)"
   ]
  },
  {
   "cell_type": "code",
   "execution_count": 3,
   "metadata": {},
   "outputs": [],
   "source": [
    "full = np.nan * np.ones((len(training_data) + len(test_data), num_features ))\n",
    "\n",
    "\n",
    "# populate the training set portion of the matrix\n",
    "for i in range(len(training_data)):\n",
    "    full[i] = np.array(training_data[i])\n",
    "    \n",
    "for i in range(len(test_data)):\n",
    "    full[i+len(training_data)] = np.array(test_data[i])"
   ]
  },
  {
   "cell_type": "code",
   "execution_count": 4,
   "metadata": {},
   "outputs": [],
   "source": [
    "# let's impute using KNNImputer\n",
    "imputer = KNNImputer(n_neighbors=5, weights=\"uniform\")"
   ]
  },
  {
   "cell_type": "code",
   "execution_count": 5,
   "metadata": {},
   "outputs": [],
   "source": [
    "def load_steps(fname):\n",
    "    f = open(fname,'r')\n",
    "    f = open(fname, 'r')\n",
    "    lines = f.readlines()\n",
    "    steps_table = []\n",
    "    for l in lines:\n",
    "        s = l.split(',')\n",
    "        steps = []\n",
    "        for ss in s:\n",
    "            steps.append(int(ss))\n",
    "        steps_table.append(steps)\n",
    "    return steps_table"
   ]
  },
  {
   "cell_type": "code",
   "execution_count": 6,
   "metadata": {},
   "outputs": [
    {
     "name": "stdout",
     "output_type": "stream",
     "text": [
      "at budget: 0.1\n",
      "689.4795513401924\n",
      "at budget: 0.2\n",
      "462.76271006108834\n",
      "at budget: 0.3\n",
      "403.2391296698505\n",
      "at budget: 0.4\n",
      "375.4509514675713\n",
      "at budget: 0.5\n",
      "338.2352879473995\n",
      "at budget: 0.6\n",
      "291.24368390027377\n",
      "at budget: 0.7\n",
      "245.8890940618083\n",
      "at budget: 0.8\n",
      "161.73150848251336\n",
      "at budget: 0.9\n",
      "113.03351565547493\n",
      "at budget: 1.0\n",
      "0.0\n"
     ]
    }
   ],
   "source": [
    "m = len(training_data)\n",
    "N = 10\n",
    "res1 = []\n",
    "\n",
    "for i in range(N):\n",
    "    partial = np.nan * np.ones((len(training_data) + len(test_data), num_features ))\n",
    "    for j in range(len(training_data)):\n",
    "        partial[j] = np.array(training_data[j])\n",
    "    \n",
    "    budget = (i+1)/N\n",
    "    print(\"at budget:\", budget)\n",
    "    steps_table = load_steps(\"../MDP/agent_runs/survey_tree\" + str(i+1) + \".csv\")\n",
    "    cur_dist = 0\n",
    "    # update the steps\n",
    "    for s in range(len(test_data)):\n",
    "        for ss in range(len(steps_table[s])):\n",
    "            cur_update = steps_table[s][ss]\n",
    "            partial[m+s][cur_update] = test_data[s][cur_update]\n",
    "        cur = np.vstack((training_data, partial[m+s]))\n",
    "        cur_full = np.vstack((training_data, full[m+s]))\n",
    "        #print(\"r:\",cur[-1])\n",
    "        imputed_partial = imputer.fit_transform(cur)\n",
    "        #print(\"i:\",imputed_partial[-1])\n",
    "        cur_dist += np.linalg.norm(imputed_partial-np.array(cur_full))\n",
    "        \n",
    "    print(cur_dist)\n",
    "    res1.append(cur_dist)"
   ]
  },
  {
   "cell_type": "code",
   "execution_count": 7,
   "metadata": {},
   "outputs": [
    {
     "name": "stdout",
     "output_type": "stream",
     "text": [
      "at budget: 0.1\n",
      "947.1898833902106\n",
      "at budget: 0.2\n",
      "843.6922286475852\n",
      "at budget: 0.3\n",
      "745.1958076632206\n",
      "at budget: 0.4\n",
      "672.8019723187404\n",
      "at budget: 0.5\n",
      "583.8986438956453\n",
      "at budget: 0.6\n",
      "483.5807166271517\n",
      "at budget: 0.7\n",
      "407.6730916368895\n",
      "at budget: 0.8\n",
      "298.56106540396496\n",
      "at budget: 0.9\n",
      "172.83412013599735\n",
      "at budget: 1.0\n",
      "0.0\n"
     ]
    }
   ],
   "source": [
    "m = len(training_data)\n",
    "N = 10\n",
    "\n",
    "res2 = []\n",
    "\n",
    "for i in range(N):\n",
    "    partial = np.nan * np.ones((len(training_data) + len(test_data), num_features ))\n",
    "    for j in range(len(training_data)):\n",
    "        partial[j] = np.array(training_data[j])\n",
    "        \n",
    "    budget = (i+1)/N\n",
    "    print(\"at budget:\", budget)\n",
    "    steps_table = load_steps(\"../MDP/agent_runs/survey_rand\" + str(i+1) + \".csv\")\n",
    "    \n",
    "    cur_dist = 0\n",
    "    # update the steps\n",
    "    for s in range(len(test_data)):\n",
    "        for ss in range(len(steps_table[s])):\n",
    "            cur_update = steps_table[s][ss]\n",
    "            partial[m+s][cur_update] = test_data[s][cur_update]\n",
    "        cur = np.vstack((training_data, partial[m+s]))\n",
    "        cur_full = np.vstack((training_data, full[m+s]))\n",
    "        #print(\"r:\",cur[-1])\n",
    "        imputed_partial = imputer.fit_transform(cur)\n",
    "        #print(\"i:\",imputed_partial[-1])\n",
    "        cur_dist += np.linalg.norm(imputed_partial-np.array(cur_full))\n",
    "    print(cur_dist)\n",
    "    res2.append(cur_dist)"
   ]
  },
  {
   "cell_type": "code",
   "execution_count": 10,
   "metadata": {},
   "outputs": [
    {
     "name": "stdout",
     "output_type": "stream",
     "text": [
      "at budget: 0.1\n",
      "1069.2414114553012\n",
      "at budget: 0.2\n",
      "944.4466791370652\n",
      "at budget: 0.3\n",
      "789.3523265568871\n",
      "at budget: 0.4\n",
      "875.8692008780286\n",
      "at budget: 0.5\n",
      "703.8784181300448\n",
      "at budget: 0.6\n",
      "542.8962763945283\n",
      "at budget: 0.7\n",
      "460.0197407066805\n",
      "at budget: 0.8\n",
      "367.95524648692515\n",
      "at budget: 0.9\n",
      "118.80232677108044\n",
      "at budget: 1.0\n",
      "0.0\n"
     ]
    }
   ],
   "source": [
    "m = len(training_data)\n",
    "N = 10\n",
    "\n",
    "res3 = []\n",
    "\n",
    "for i in range(N):\n",
    "    partial = np.nan * np.ones((len(training_data) + len(test_data), num_features ))\n",
    "    for j in range(len(training_data)):\n",
    "        partial[j] = np.array(training_data[j])\n",
    "    budget = (i+1)/N\n",
    "    print(\"at budget:\", budget)\n",
    "    steps_table = load_steps(\"../MDP/agent_runs/survey\" + str(float(i+1)) + \".csv\")\n",
    "  \n",
    "    cur_dist = 0\n",
    "    # update the steps\n",
    "    for s in range(len(test_data)):\n",
    "        for ss in range(len(steps_table[s])):\n",
    "            cur_update = steps_table[s][ss]\n",
    "            if cur_update < num_features:\n",
    "                partial[m+s][cur_update] = test_data[s][cur_update]\n",
    "        cur = np.vstack((training_data, partial[m+s]))\n",
    "        cur_full = np.vstack((training_data, full[m+s]))\n",
    "        #print(\"r:\",cur[-1])\n",
    "        imputed_partial = imputer.fit_transform(cur)\n",
    "        #print(\"i:\",imputed_partial[-1])\n",
    "        cur_dist += np.linalg.norm(imputed_partial-np.array(cur_full))\n",
    "    print(cur_dist)\n",
    "    res3.append(cur_dist)"
   ]
  },
  {
   "cell_type": "code",
   "execution_count": 11,
   "metadata": {},
   "outputs": [
    {
     "data": {
      "image/png": "[encoded data removed]",
      "text/plain": [
       "<Figure size 432x288 with 1 Axes>"
      ]
     },
     "metadata": {
      "needs_background": "light"
     },
     "output_type": "display_data"
    }
   ],
   "source": [
    "import matplotlib.pyplot as plt\n",
    "\n",
    "budgets = [(i+1)/N for i in range(N)]\n",
    "plt.plot(budgets, res1, 'r', budgets, res3, 'b', budgets, res2)\n",
    "plt.show()"
   ]
  },
  {
   "cell_type": "code",
   "execution_count": null,
   "metadata": {},
   "outputs": [],
   "source": []
  }
 ],
 "metadata": {
  "kernelspec": {
   "display_name": "Python 3",
   "language": "python",
   "name": "python3"
  },
  "language_info": {
   "codemirror_mode": {
    "name": "ipython",
    "version": 3
   },
   "file_extension": ".py",
   "mimetype": "text/x-python",
   "name": "python",
   "nbconvert_exporter": "python",
   "pygments_lexer": "ipython3",
   "version": "3.8.5"
  }
 },
 "nbformat": 4,
 "nbformat_minor": 4
}
