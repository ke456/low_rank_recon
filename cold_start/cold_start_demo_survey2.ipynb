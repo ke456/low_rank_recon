{
 "cells": [
  {
   "cell_type": "code",
   "execution_count": 130,
   "metadata": {},
   "outputs": [],
   "source": [
    "from sklearn.impute import KNNImputer\n",
    "from Data_binary import *\n",
    "import numpy as np"
   ]
  },
  {
   "cell_type": "code",
   "execution_count": 131,
   "metadata": {},
   "outputs": [
    {
     "name": "stdout",
     "output_type": "stream",
     "text": [
      "(1000, 31)\n"
     ]
    }
   ],
   "source": [
    "# read in the training/test sets\n",
    "env = Data(unknown_rate=1)\n",
    "env.loadfile_noshuffle(\"../MDP/csv_files/partitioned_data/survey_training.csv\")\n",
    "#m=1000\n",
    "training_data = np.array([env.data[i][1] for i in range(m) ])\n",
    "\n",
    "test_env = Data(unknown_rate=1)\n",
    "use = len(test_env.data)\n",
    "test_env.loadfile_noshuffle(\"../MDP/csv_files/partitioned_data/survey_test.csv\")\n",
    "test_data = np.array([test_env.data[i][1] for i in range(use) ])\n",
    "\n",
    "num_features = len(test_data[0])\n",
    "\n",
    "costs = read_costs(\"../MDP/csv_files/partitioned_data/survey_cost.csv\")\n",
    "\n",
    "print(training_data.shape)"
   ]
  },
  {
   "cell_type": "code",
   "execution_count": 132,
   "metadata": {},
   "outputs": [],
   "source": [
    "full = np.nan * np.ones((len(training_data) + use, num_features ))\n",
    "\n",
    "\n",
    "# populate the training set portion of the matrix\n",
    "for i in range(len(training_data)):\n",
    "    full[i] = np.array(training_data[i])\n",
    "    \n",
    "for i in range(use):\n",
    "    full[i+len(training_data)] = np.array(test_data[i])"
   ]
  },
  {
   "cell_type": "code",
   "execution_count": 133,
   "metadata": {},
   "outputs": [
    {
     "name": "stdout",
     "output_type": "stream",
     "text": [
      "6.8554798336805\n"
     ]
    }
   ],
   "source": [
    "# let's impute using KNNImputer\n",
    "imputer = KNNImputer(n_neighbors=5, weights=\"uniform\")\n",
    "partial = np.nan * np.ones((len(training_data) + use, num_features ))\n",
    "for j in range(len(training_data)):\n",
    "    partial[j] = np.array(training_data[j])\n",
    "\n",
    "imputed_partial = imputer.fit_transform(partial)\n",
    "print(np.linalg.norm(imputed_partial-full))"
   ]
  },
  {
   "cell_type": "code",
   "execution_count": 134,
   "metadata": {},
   "outputs": [],
   "source": [
    "def load_steps(fname):\n",
    "    f = open(fname,'r')\n",
    "    f = open(fname, 'r')\n",
    "    lines = f.readlines()\n",
    "    steps_table = []\n",
    "    for l in lines:\n",
    "        s = l.split(',')\n",
    "        steps = []\n",
    "        for ss in s:\n",
    "            steps.append(int(ss))\n",
    "        steps_table.append(steps)\n",
    "    return steps_table"
   ]
  },
  {
   "cell_type": "code",
   "execution_count": 135,
   "metadata": {},
   "outputs": [
    {
     "name": "stdout",
     "output_type": "stream",
     "text": [
      "at budget: 0.1\n",
      "1.8103866990231672\n",
      "at budget: 0.2\n",
      "0.9772410142846032\n",
      "at budget: 0.3\n",
      "0.722841614740048\n",
      "at budget: 0.4\n",
      "0.744983221287567\n",
      "at budget: 0.5\n",
      "0.6763874629234341\n",
      "at budget: 0.6\n",
      "0.5787918451395112\n",
      "at budget: 0.7\n",
      "0.47958315233127186\n",
      "at budget: 0.8\n",
      "0.29154759474226494\n",
      "at budget: 0.9\n",
      "0.19999999999999996\n",
      "at budget: 1.0\n",
      "0.0\n"
     ]
    }
   ],
   "source": [
    "m = len(training_data)\n",
    "N = 10\n",
    "res1 = []\n",
    "\n",
    "for i in range(N):\n",
    "    partial = np.nan * np.ones((len(training_data) + use, num_features ))\n",
    "    for j in range(len(training_data)):\n",
    "        partial[j] = np.array(training_data[j])\n",
    "    \n",
    "    budget = (i+1)/N\n",
    "    print(\"at budget:\", budget)\n",
    "    steps_table = load_steps(\"../MDP/agent_runs/survey_tree\" + str(i+1) + \".csv\")\n",
    "    \n",
    "    # update the steps\n",
    "    for s in range(use):\n",
    "        for ss in range(len(steps_table[s])):\n",
    "            cur_update = steps_table[s][ss]\n",
    "            partial[m+s][cur_update] = test_data[s][cur_update]\n",
    "        \n",
    "    \n",
    "    imputed_partial = imputer.fit_transform(partial)\n",
    "        \n",
    "    print(np.linalg.norm(imputed_partial-full))\n",
    "    res1.append(np.linalg.norm(imputed_partial-full))"
   ]
  },
  {
   "cell_type": "code",
   "execution_count": 136,
   "metadata": {},
   "outputs": [
    {
     "name": "stdout",
     "output_type": "stream",
     "text": [
      "at budget: 0.1\n",
      "2.2901964981197573\n",
      "at budget: 0.2\n",
      "2.2561028345356955\n",
      "at budget: 0.3\n",
      "2.380651171423483\n",
      "at budget: 0.4\n",
      "1.6575584454250776\n",
      "at budget: 0.5\n",
      "1.5419143945109275\n",
      "at budget: 0.6\n",
      "1.35\n",
      "at budget: 0.7\n",
      "0.916515138991168\n",
      "at budget: 0.8\n",
      "0.7599342076785333\n",
      "at budget: 0.9\n",
      "0.873212459828649\n",
      "at budget: 1.0\n",
      "0.0\n"
     ]
    }
   ],
   "source": [
    "m = len(training_data)\n",
    "N = 10\n",
    "\n",
    "res2 = []\n",
    "\n",
    "for i in range(N):\n",
    "    partial = np.nan * np.ones((len(training_data) + use, num_features ))\n",
    "    for j in range(len(training_data)):\n",
    "        partial[j] = np.array(training_data[j])\n",
    "    \n",
    "    budget = (i+1)/N\n",
    "    print(\"at budget:\", budget)\n",
    "    steps_table = load_steps(\"../MDP/agent_runs/survey_rand\" + str(i+1) + \".csv\")\n",
    "    \n",
    "    # update the steps\n",
    "    for s in range(use):\n",
    "        for ss in range(len(steps_table[s])):\n",
    "            cur_update = steps_table[s][ss]\n",
    "            partial[m+s][cur_update] = test_data[s][cur_update]\n",
    "        \n",
    "    \n",
    "    imputed_partial = imputer.fit_transform(partial)\n",
    "        \n",
    "    print(np.linalg.norm(imputed_partial-full))\n",
    "    res2.append(np.linalg.norm(imputed_partial-full))"
   ]
  },
  {
   "cell_type": "code",
   "execution_count": 137,
   "metadata": {},
   "outputs": [
    {
     "name": "stdout",
     "output_type": "stream",
     "text": [
      "at budget: 0.1\n",
      "2.8500000000000005\n",
      "at budget: 0.2\n",
      "2.699073915253156\n",
      "at budget: 0.3\n",
      "1.675559608011604\n",
      "at budget: 0.4\n",
      "2.0934421415458324\n",
      "at budget: 0.5\n",
      "1.6255768207008858\n",
      "at budget: 0.6\n",
      "1.3360389215887387\n",
      "at budget: 0.7\n",
      "1.2186057606953942\n",
      "at budget: 0.8\n",
      "1.0793516572461452\n",
      "at budget: 0.9\n",
      "0.19999999999999996\n",
      "at budget: 1.0\n",
      "0.0\n"
     ]
    }
   ],
   "source": [
    "m = len(training_data)\n",
    "N = 10\n",
    "\n",
    "res3 = []\n",
    "\n",
    "for i in range(N):\n",
    "    partial = np.nan * np.ones((len(training_data) + use, num_features ))\n",
    "    for j in range(len(training_data)):\n",
    "        partial[j] = np.array(training_data[j])\n",
    "    \n",
    "    budget = (i+1)/N\n",
    "    print(\"at budget:\", budget)\n",
    "    steps_table = load_steps(\"../MDP/agent_runs/survey\" + str(float(i+1)) + \".csv\")\n",
    "    \n",
    "    # update the steps\n",
    "    for s in range(use):\n",
    "        for ss in range(len(steps_table[s])):\n",
    "            cur_update = steps_table[s][ss]\n",
    "            if cur_update < num_features:\n",
    "                partial[m+s][cur_update] = test_data[s][cur_update]\n",
    "        \n",
    "    \n",
    "    imputed_partial = imputer.fit_transform(partial)\n",
    "        \n",
    "    print(np.linalg.norm(imputed_partial-full))\n",
    "    res3.append(np.linalg.norm(imputed_partial-full))"
   ]
  },
  {
   "cell_type": "code",
   "execution_count": 139,
   "metadata": {},
   "outputs": [
    {
     "data": {
      "image/png": "[encoded data removed]",
      "text/plain": [
       "<Figure size 432x288 with 1 Axes>"
      ]
     },
     "metadata": {
      "needs_background": "light"
     },
     "output_type": "display_data"
    }
   ],
   "source": [
    "import matplotlib.pyplot as plt\n",
    "\n",
    "budgets = [(i+1)/N for i in range(N-1)]\n",
    "plt.plot(budgets, res1[:N-1], 'r', budgets, res3[:N-1], 'b', budgets, res2[:N-1])\n",
    "plt.show()"
   ]
  },
  {
   "cell_type": "code",
   "execution_count": 152,
   "metadata": {},
   "outputs": [
    {
     "name": "stdout",
     "output_type": "stream",
     "text": [
      "(1010, 31)\n"
     ]
    }
   ],
   "source": [
    "import alipy as al\n",
    "partial = np.nan * np.ones((len(training_data) + use, num_features ))\n",
    "mask = np.zeros((len(training_data) + use, num_features) )\n",
    "y = np.ones(len(training_data) + use)\n",
    "train_idx = [i for i in range(len(training_data)+use)]\n",
    "for j in range(len(training_data)):\n",
    "    partial[j] = np.array(training_data[j])\n",
    "    mask[j] = np.ones((1,num_features))\n",
    "\n",
    "print(mask.shape)\n",
    "\n",
    "query = alipy.query_strategy.QueryFeatureAFASMC(full,y,train_idx)"
   ]
  },
  {
   "cell_type": "code",
   "execution_count": 153,
   "metadata": {},
   "outputs": [
    {
     "name": "stdout",
     "output_type": "stream",
     "text": [
      "[[0.0985  0.414   0.44825 0.49225 0.52675 0.54725 0.532   0.5305  0.5285\n",
      "  0.51875 0.51825 0.548   0.53025 0.552   0.513   0.56075 0.57325 0.5715\n",
      "  0.54175 0.59775 0.5505  0.56725 0.57125 0.57875 0.57575 0.55375 0.5435\n",
      "  0.57275 0.5545  0.54425 0.575  ]\n",
      " [0.0985  0.414   0.44825 0.49225 0.52675 0.54725 0.532   0.5305  0.5285\n",
      "  0.51875 0.51825 0.548   0.53025 0.552   0.513   0.56075 0.57325 0.5715\n",
      "  0.54175 0.59775 0.5505  0.56725 0.57125 0.57875 0.57575 0.55375 0.5435\n",
      "  0.57275 0.5545  0.54425 0.575  ]\n",
      " [0.0985  0.414   0.44825 0.49225 0.52675 0.54725 0.532   0.5305  0.5285\n",
      "  0.51875 0.51825 0.548   0.53025 0.552   0.513   0.56075 0.57325 0.5715\n",
      "  0.54175 0.59775 0.5505  0.56725 0.57125 0.57875 0.57575 0.55375 0.5435\n",
      "  0.57275 0.5545  0.54425 0.575  ]\n",
      " [0.0985  0.414   0.44825 0.49225 0.52675 0.54725 0.532   0.5305  0.5285\n",
      "  0.51875 0.51825 0.548   0.53025 0.552   0.513   0.56075 0.57325 0.5715\n",
      "  0.54175 0.59775 0.5505  0.56725 0.57125 0.57875 0.57575 0.55375 0.5435\n",
      "  0.57275 0.5545  0.54425 0.575  ]\n",
      " [0.0985  0.414   0.44825 0.49225 0.52675 0.54725 0.532   0.5305  0.5285\n",
      "  0.51875 0.51825 0.548   0.53025 0.552   0.513   0.56075 0.57325 0.5715\n",
      "  0.54175 0.59775 0.5505  0.56725 0.57125 0.57875 0.57575 0.55375 0.5435\n",
      "  0.57275 0.5545  0.54425 0.575  ]\n",
      " [0.0985  0.414   0.44825 0.49225 0.52675 0.54725 0.532   0.5305  0.5285\n",
      "  0.51875 0.51825 0.548   0.53025 0.552   0.513   0.56075 0.57325 0.5715\n",
      "  0.54175 0.59775 0.5505  0.56725 0.57125 0.57875 0.57575 0.55375 0.5435\n",
      "  0.57275 0.5545  0.54425 0.575  ]\n",
      " [0.0985  0.414   0.44825 0.49225 0.52675 0.54725 0.532   0.5305  0.5285\n",
      "  0.51875 0.51825 0.548   0.53025 0.552   0.513   0.56075 0.57325 0.5715\n",
      "  0.54175 0.59775 0.5505  0.56725 0.57125 0.57875 0.57575 0.55375 0.5435\n",
      "  0.57275 0.5545  0.54425 0.575  ]\n",
      " [0.0985  0.414   0.44825 0.49225 0.52675 0.54725 0.532   0.5305  0.5285\n",
      "  0.51875 0.51825 0.548   0.53025 0.552   0.513   0.56075 0.57325 0.5715\n",
      "  0.54175 0.59775 0.5505  0.56725 0.57125 0.57875 0.57575 0.55375 0.5435\n",
      "  0.57275 0.5545  0.54425 0.575  ]\n",
      " [0.0985  0.414   0.44825 0.49225 0.52675 0.54725 0.532   0.5305  0.5285\n",
      "  0.51875 0.51825 0.548   0.53025 0.552   0.513   0.56075 0.57325 0.5715\n",
      "  0.54175 0.59775 0.5505  0.56725 0.57125 0.57875 0.57575 0.55375 0.5435\n",
      "  0.57275 0.5545  0.54425 0.575  ]\n",
      " [0.0985  0.414   0.44825 0.49225 0.52675 0.54725 0.532   0.5305  0.5285\n",
      "  0.51875 0.51825 0.548   0.53025 0.552   0.513   0.56075 0.57325 0.5715\n",
      "  0.54175 0.59775 0.5505  0.56725 0.57125 0.57875 0.57575 0.55375 0.5435\n",
      "  0.57275 0.5545  0.54425 0.575  ]]\n",
      "6.8554798336805\n",
      "0.0\n"
     ]
    }
   ],
   "source": [
    "from sklearn.experimental import enable_iterative_imputer\n",
    "from sklearn.impute import IterativeImputer\n",
    "\n",
    "imp = IterativeImputer(random_state=0)\n",
    "imp.fit(training_data)\n",
    "\n",
    "test_partial = np.nan * np.ones((use, num_features ))\n",
    "\n",
    "imputed_partial = imp.transform(test_partial)\n",
    "print(imputed_partial)\n",
    "print(np.linalg.norm(test_data - imputed_partial))\n",
    "\n",
    "print(np.min(mask))"
   ]
  },
  {
   "cell_type": "code",
   "execution_count": 154,
   "metadata": {},
   "outputs": [
    {
     "name": "stdout",
     "output_type": "stream",
     "text": [
      "current budget: 0.1\n",
      "at 0\n",
      "at 9\n",
      "at 1\n",
      "at 2\n",
      "at 3\n",
      "at 4\n",
      "at 5\n",
      "at 6\n",
      "at 7\n",
      "at 8\n",
      "at 6\n",
      "at 2\n",
      "6.111717651602617\n",
      "current budget: 0.2\n",
      "at 0\n",
      "at 9\n",
      "at 1\n",
      "at 2\n",
      "at 3\n",
      "at 4\n",
      "at 5\n",
      "at 6\n",
      "at 7\n",
      "at 8\n",
      "at 6\n",
      "at 2\n",
      "5.3544932688643385\n",
      "current budget: 0.3\n",
      "at 0\n",
      "at 9\n",
      "at 1\n",
      "at 2\n",
      "at 3\n",
      "at 4\n",
      "at 2\n",
      "at 5\n",
      "at 6\n",
      "at 7\n",
      "at 6\n",
      "at 8\n",
      "at 6\n",
      "at 2\n",
      "at 6\n",
      "at 2\n",
      "4.714089674425731\n",
      "current budget: 0.4\n",
      "at 0\n",
      "at 9\n",
      "at 1\n",
      "at 2\n",
      "at 3\n"
     ]
    },
    {
     "ename": "KeyboardInterrupt",
     "evalue": "",
     "output_type": "error",
     "traceback": [
      "\u001b[0;31m---------------------------------------------------------------------------\u001b[0m",
      "\u001b[0;31mKeyboardInterrupt\u001b[0m                         Traceback (most recent call last)",
      "\u001b[0;32m<ipython-input-154-14f7d22268aa>\u001b[0m in \u001b[0;36m<module>\u001b[0;34m\u001b[0m\n\u001b[1;32m     18\u001b[0m     \u001b[0mprev\u001b[0m \u001b[0;34m=\u001b[0m \u001b[0;34m-\u001b[0m\u001b[0;36m1\u001b[0m\u001b[0;34m\u001b[0m\u001b[0;34m\u001b[0m\u001b[0m\n\u001b[1;32m     19\u001b[0m     \u001b[0;32mwhile\u001b[0m\u001b[0;34m(\u001b[0m\u001b[0mnp\u001b[0m\u001b[0;34m.\u001b[0m\u001b[0mmin\u001b[0m\u001b[0;34m(\u001b[0m\u001b[0mmask\u001b[0m\u001b[0;34m)\u001b[0m \u001b[0;34m==\u001b[0m \u001b[0;36m0\u001b[0m\u001b[0;34m)\u001b[0m\u001b[0;34m:\u001b[0m\u001b[0;34m\u001b[0m\u001b[0;34m\u001b[0m\u001b[0m\n\u001b[0;32m---> 20\u001b[0;31m         \u001b[0msel\u001b[0m \u001b[0;34m=\u001b[0m \u001b[0mquery\u001b[0m\u001b[0;34m.\u001b[0m\u001b[0mselect_by_mask\u001b[0m\u001b[0;34m(\u001b[0m\u001b[0mmask\u001b[0m\u001b[0;34m)\u001b[0m\u001b[0;34m[\u001b[0m\u001b[0;36m0\u001b[0m\u001b[0;34m]\u001b[0m\u001b[0;34m\u001b[0m\u001b[0;34m\u001b[0m\u001b[0m\n\u001b[0m\u001b[1;32m     21\u001b[0m         \u001b[0;32mif\u001b[0m \u001b[0;34m(\u001b[0m\u001b[0msel\u001b[0m\u001b[0;34m[\u001b[0m\u001b[0;36m0\u001b[0m\u001b[0;34m]\u001b[0m \u001b[0;34m!=\u001b[0m \u001b[0mprev\u001b[0m\u001b[0;34m)\u001b[0m\u001b[0;34m:\u001b[0m\u001b[0;34m\u001b[0m\u001b[0;34m\u001b[0m\u001b[0m\n\u001b[1;32m     22\u001b[0m             \u001b[0mprint\u001b[0m\u001b[0;34m(\u001b[0m\u001b[0;34m\"at\"\u001b[0m\u001b[0;34m,\u001b[0m \u001b[0msel\u001b[0m\u001b[0;34m[\u001b[0m\u001b[0;36m0\u001b[0m\u001b[0;34m]\u001b[0m\u001b[0;34m-\u001b[0m\u001b[0mm\u001b[0m\u001b[0;34m)\u001b[0m\u001b[0;34m\u001b[0m\u001b[0;34m\u001b[0m\u001b[0m\n",
      "\u001b[0;32m~/.local/lib/python3.8/site-packages/alipy/query_strategy/query_features.py\u001b[0m in \u001b[0;36mselect_by_mask\u001b[0;34m(self, observed_mask, **kwargs)\u001b[0m\n\u001b[1;32m    511\u001b[0m             \u001b[0;32mfor\u001b[0m \u001b[0mi\u001b[0m \u001b[0;32min\u001b[0m \u001b[0mrange\u001b[0m\u001b[0;34m(\u001b[0m\u001b[0mmc_sh\u001b[0m\u001b[0;34m[\u001b[0m\u001b[0;36m0\u001b[0m\u001b[0;34m]\u001b[0m\u001b[0;34m)\u001b[0m\u001b[0;34m:\u001b[0m\u001b[0;34m\u001b[0m\u001b[0;34m\u001b[0m\u001b[0m\n\u001b[1;32m    512\u001b[0m                 \u001b[0;32mfor\u001b[0m \u001b[0mj\u001b[0m \u001b[0;32min\u001b[0m \u001b[0mrange\u001b[0m\u001b[0;34m(\u001b[0m\u001b[0mmc_sh\u001b[0m\u001b[0;34m[\u001b[0m\u001b[0;36m1\u001b[0m\u001b[0;34m]\u001b[0m\u001b[0;34m)\u001b[0m\u001b[0;34m:\u001b[0m\u001b[0;34m\u001b[0m\u001b[0;34m\u001b[0m\u001b[0m\n\u001b[0;32m--> 513\u001b[0;31m                     \u001b[0mvar_mat\u001b[0m\u001b[0;34m[\u001b[0m\u001b[0mi\u001b[0m\u001b[0;34m,\u001b[0m \u001b[0mj\u001b[0m\u001b[0;34m]\u001b[0m \u001b[0;34m=\u001b[0m \u001b[0mnp\u001b[0m\u001b[0;34m.\u001b[0m\u001b[0mvar\u001b[0m\u001b[0;34m(\u001b[0m\u001b[0;34m[\u001b[0m\u001b[0mmat\u001b[0m\u001b[0;34m[\u001b[0m\u001b[0mi\u001b[0m\u001b[0;34m]\u001b[0m\u001b[0;34m[\u001b[0m\u001b[0mj\u001b[0m\u001b[0;34m]\u001b[0m \u001b[0;32mfor\u001b[0m \u001b[0mmat\u001b[0m \u001b[0;32min\u001b[0m \u001b[0mself\u001b[0m\u001b[0;34m.\u001b[0m\u001b[0m_feature_variance\u001b[0m\u001b[0;34m]\u001b[0m\u001b[0;34m)\u001b[0m\u001b[0;34m\u001b[0m\u001b[0;34m\u001b[0m\u001b[0m\n\u001b[0m\u001b[1;32m    514\u001b[0m             \u001b[0mvar_mat\u001b[0m \u001b[0;34m*=\u001b[0m \u001b[0;36m1\u001b[0m \u001b[0;34m-\u001b[0m \u001b[0mobserved_mask\u001b[0m\u001b[0;34m\u001b[0m\u001b[0;34m\u001b[0m\u001b[0m\n\u001b[1;32m    515\u001b[0m             \u001b[0;31m# in the first 2 rounds, all entries are 0, you will select the known elements.\u001b[0m\u001b[0;34m\u001b[0m\u001b[0;34m\u001b[0m\u001b[0;34m\u001b[0m\u001b[0m\n",
      "\u001b[0;32m~/.local/lib/python3.8/site-packages/alipy/query_strategy/query_features.py\u001b[0m in \u001b[0;36m<listcomp>\u001b[0;34m(.0)\u001b[0m\n\u001b[1;32m    511\u001b[0m             \u001b[0;32mfor\u001b[0m \u001b[0mi\u001b[0m \u001b[0;32min\u001b[0m \u001b[0mrange\u001b[0m\u001b[0;34m(\u001b[0m\u001b[0mmc_sh\u001b[0m\u001b[0;34m[\u001b[0m\u001b[0;36m0\u001b[0m\u001b[0;34m]\u001b[0m\u001b[0;34m)\u001b[0m\u001b[0;34m:\u001b[0m\u001b[0;34m\u001b[0m\u001b[0;34m\u001b[0m\u001b[0m\n\u001b[1;32m    512\u001b[0m                 \u001b[0;32mfor\u001b[0m \u001b[0mj\u001b[0m \u001b[0;32min\u001b[0m \u001b[0mrange\u001b[0m\u001b[0;34m(\u001b[0m\u001b[0mmc_sh\u001b[0m\u001b[0;34m[\u001b[0m\u001b[0;36m1\u001b[0m\u001b[0;34m]\u001b[0m\u001b[0;34m)\u001b[0m\u001b[0;34m:\u001b[0m\u001b[0;34m\u001b[0m\u001b[0;34m\u001b[0m\u001b[0m\n\u001b[0;32m--> 513\u001b[0;31m                     \u001b[0mvar_mat\u001b[0m\u001b[0;34m[\u001b[0m\u001b[0mi\u001b[0m\u001b[0;34m,\u001b[0m \u001b[0mj\u001b[0m\u001b[0;34m]\u001b[0m \u001b[0;34m=\u001b[0m \u001b[0mnp\u001b[0m\u001b[0;34m.\u001b[0m\u001b[0mvar\u001b[0m\u001b[0;34m(\u001b[0m\u001b[0;34m[\u001b[0m\u001b[0mmat\u001b[0m\u001b[0;34m[\u001b[0m\u001b[0mi\u001b[0m\u001b[0;34m]\u001b[0m\u001b[0;34m[\u001b[0m\u001b[0mj\u001b[0m\u001b[0;34m]\u001b[0m \u001b[0;32mfor\u001b[0m \u001b[0mmat\u001b[0m \u001b[0;32min\u001b[0m \u001b[0mself\u001b[0m\u001b[0;34m.\u001b[0m\u001b[0m_feature_variance\u001b[0m\u001b[0;34m]\u001b[0m\u001b[0;34m)\u001b[0m\u001b[0;34m\u001b[0m\u001b[0;34m\u001b[0m\u001b[0m\n\u001b[0m\u001b[1;32m    514\u001b[0m             \u001b[0mvar_mat\u001b[0m \u001b[0;34m*=\u001b[0m \u001b[0;36m1\u001b[0m \u001b[0;34m-\u001b[0m \u001b[0mobserved_mask\u001b[0m\u001b[0;34m\u001b[0m\u001b[0;34m\u001b[0m\u001b[0m\n\u001b[1;32m    515\u001b[0m             \u001b[0;31m# in the first 2 rounds, all entries are 0, you will select the known elements.\u001b[0m\u001b[0;34m\u001b[0m\u001b[0;34m\u001b[0m\u001b[0;34m\u001b[0m\u001b[0m\n",
      "\u001b[0;31mKeyboardInterrupt\u001b[0m: "
     ]
    }
   ],
   "source": [
    "import copy\n",
    "N = 10\n",
    "budgets = [(i+1)/N for i in range(N)]\n",
    "res_active = []\n",
    "\n",
    "all_full = copy.copy(full)\n",
    "\n",
    "for c in budgets:\n",
    "    print(\"current budget:\", c)\n",
    "    used = np.zeros((use))\n",
    "    test_partial = np.nan * np.ones((use, num_features ))\n",
    "    query = alipy.query_strategy.QueryFeatureAFASMC(all_full,y,train_idx)\n",
    "    mask = np.zeros((len(training_data) + use,num_features) )\n",
    "    for j in range(len(training_data)):\n",
    "        mask[j] = np.ones((1,num_features))\n",
    "    full = copy.copy(all_full)\n",
    "    \n",
    "    prev = -1\n",
    "    while(np.min(mask) == 0):\n",
    "        sel = query.select_by_mask(mask)[0]\n",
    "        if (sel[0] != prev):\n",
    "            print(\"at\", sel[0]-m)\n",
    "            prev = sel[0]\n",
    "        \n",
    "        # see if selected value can be updated\n",
    "        if costs[sel[1]] + used[sel[0]-m] <= c:\n",
    "            mask[sel[0],sel[1]] = 1\n",
    "            test_partial[sel[0]-m, sel[1]] = test_data[sel[0]-m,sel[1]]\n",
    "            used[sel[0]-m] += costs[sel[1]]\n",
    "        else:\n",
    "            # we cannot update this tuple anymore;\n",
    "            # set the whole tuple to be the imputed values\n",
    "            # set all the features as known\n",
    "            \n",
    "            for f in range(num_features):\n",
    "                if mask[sel[0],f] == 0 and used[sel[0]-m] + costs[sel[1]] <= c:\n",
    "                    mask[sel[0], f] = 1\n",
    "                    used[sel[0]-m] + costs[sel[1]]\n",
    "                    test_partial[sel[0]-m, sel[1]] = test_data[sel[0]-m,sel[1]]\n",
    "                \n",
    "            imputed_partial = imp.transform(test_partial)\n",
    "            full[sel[0]] = imputed_partial[sel[0]-m]\n",
    "            mask[sel[0]] = np.ones((num_features))\n",
    "            \n",
    "    imputed_partial = imp.transform(test_partial)\n",
    "    print(np.linalg.norm(test_data - imputed_partial))\n",
    "    res_active.append(np.linalg.norm(test_data - imputed_partial))"
   ]
  },
  {
   "cell_type": "code",
   "execution_count": 129,
   "metadata": {},
   "outputs": [
    {
     "name": "stdout",
     "output_type": "stream",
     "text": [
      "[17.738909312121343]\n"
     ]
    }
   ],
   "source": [
    "print(res_active)"
   ]
  },
  {
   "cell_type": "code",
   "execution_count": null,
   "metadata": {},
   "outputs": [],
   "source": []
  }
 ],
 "metadata": {
  "kernelspec": {
   "display_name": "Python 3",
   "language": "python",
   "name": "python3"
  },
  "language_info": {
   "codemirror_mode": {
    "name": "ipython",
    "version": 3
   },
   "file_extension": ".py",
   "mimetype": "text/x-python",
   "name": "python",
   "nbconvert_exporter": "python",
   "pygments_lexer": "ipython3",
   "version": "3.8.5"
  }
 },
 "nbformat": 4,
 "nbformat_minor": 4
}
